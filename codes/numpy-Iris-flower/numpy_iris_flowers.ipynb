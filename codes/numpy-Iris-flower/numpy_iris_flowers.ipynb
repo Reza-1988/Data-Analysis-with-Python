{
 "cells": [
  {
   "attachments": {},
   "cell_type": "markdown",
   "id": "acc137fd",
   "metadata": {},
   "source": [
    "<h1 align=\"center\" style=\"line-height:200%;font-family:Arial;color:#0099cc\">\n",
    "<font face=\"Arial\" color=\"#0099cc\">\n",
    "Iris Flowers\n",
    "</font>\n",
    "</h1>\n",
    "\n",
    "<p style=\"direction: ltr; text-align: justify; line-height: 200%; font-family: Arial; font-size: medium\">\n",
    "<font face=\"Arial\" size=3>\n",
    "In this exercise, we aim to implement an algorithm called \"k-Nearest Neighbors\" or <a href=\"https://en.wikipedia.org/wiki/K-nearest_neighbors_algorithm\" target=\"_blank\" style=\"color:#0099cc\">k-NN</a>, which is one of the common machine learning algorithms. By completing this exercise, we will review topics such as vectorized computations using array broadcasting, the use of NumPy's aggregate and universal functions, and indexing with arrays.\n",
    "</font>\n",
    "</p>"
   ]
  },
  {
   "cell_type": "code",
   "execution_count": null,
   "id": "2b198b84",
   "metadata": {},
   "outputs": [],
   "source": [
    "import numpy as np"
   ]
  },
  {
   "attachments": {},
   "cell_type": "markdown",
   "id": "99cd4e8f",
   "metadata": {},
   "source": [
    "<h2 align=\"left\" style=\"line-height:200%;font-family:Arial;color:#0099cc\">\n",
    "<font face=\"Arial\" color=\"#0099cc\">\n",
    "Dataset\n",
    "</font>\n",
    "</h2>\n",
    "\n",
    "<p style=\"direction: ltr; text-align: justify; line-height: 200%; font-family: Arial; font-size: medium\">\n",
    "<font face=\"Arial\" size=3>\n",
    "In this exercise, you have been provided with a well-known dataset called <a href=\"https://en.wikipedia.org/wiki/Iris_flower_data_set\" target=\"_blank\" style=\"color:#0099cc\">Iris Flower</a>, which contains the characteristics of 150 iris flowers. Each of these flowers belongs to one of three types: Iris setosa, Iris versicolor, or Iris virginica. The characteristics of each flower include the length and width of the sepal and petal. Using these characteristics, we can imagine each flower as a point in a four-dimensional space, where these four quantities determine the coordinates of that point.\n",
    "</font>\n",
    "</p>\n",
    "\n",
    "<center>\n",
    "<div style=\"max-width: 900px\">\n",
    "<img src=\"img/iris_types.jpg\">\n",
    "</div>\n",
    "</center>\n",
    "\n",
    "<p style=\"direction: ltr; text-align: justify; line-height: 200%; font-family: Arial; font-size: medium\">\n",
    "<font face=\"Arial\" size=3>\n",
    "The characteristics of 120 iris flowers are stored in a file named <code>irises.npy</code>. When this file is read, it creates a 120 by 4 array, as shown below, where each row represents the characteristics of one flower (sepal length, sepal width, petal length, and petal width in centimeters).\n",
    "</font>\n",
    "</p>\n",
    "\n",
    "<center>\n",
    "<div style=\"max-width: 700px\">\n",
    "<img src=\"img/fig_irises.png\">\n",
    "</div>\n",
    "</center>\n"
   ]
  },
  {
   "cell_type": "code",
   "execution_count": null,
   "id": "26d1efb5",
   "metadata": {},
   "outputs": [],
   "source": [
    "irises = np.load('irises.npy')\n",
    "print(irises.shape)"
   ]
  },
  {
   "attachments": {},
   "cell_type": "markdown",
   "id": "711be10b",
   "metadata": {},
   "source": [
    "\n",
    "<p style=\"direction: ltr; text-align: justify; line-height: 200%; font-family: Arial; font-size: medium\">\n",
    "<font face=\"Arial\" size=3>\n",
    "On the other hand, the types of these flowers (setosa, versicolor, or virginica) are stored numerically in another file named <code>types.npy</code>. The values in this array are <code>0</code>, <code>1</code>, or <code>2</code>, which respectively represent the Iris setosa, Iris versicolor, and Iris virginica types.\n",
    "</font>\n",
    "</p>"
   ]
  },
  {
   "cell_type": "code",
   "execution_count": null,
   "id": "f6c55d30",
   "metadata": {},
   "outputs": [],
   "source": [
    "types = np.load('data/types.npy')\n",
    "print(types.shape)"
   ]
  },
  {
   "attachments": {},
   "cell_type": "markdown",
   "id": "3401f7ed",
   "metadata": {},
   "source": [
    "<p style=\"direction: ltr; text-align: justify; line-height: 200%; font-family: Arial; font-size: medium\">\n",
    "<font face=\"Arial\" size=3>\n",
    "In this exercise, we aim to implement an algorithm that predicts the type of an iris flower based on its characteristics. This prediction will be made using samples whose types we already know, i.e., the data you have read so far. From now on, we will refer to such samples as <b style=\"color:#0099cc\">training samples</b>.\n",
    "<br>\n",
    "The characteristics of 30 other iris flowers, whose types we <b>do not know</b> and which we will predict using the k-NN algorithm, are provided in another file named <code>new_irises.npz</code>. When this file is read, it creates a 30 by 4 array, as shown below, where each row represents the characteristics of one flower. We will refer to such samples as <b style=\"color:#0099cc\">test samples</b>.\n",
    "</font>\n",
    "</p>\n",
    "\n",
    "<center>\n",
    "<div style=\"max-width: 700px\">\n",
    "<img src=\"img/fig_new_irises.png\">\n",
    "</div>\n",
    "</center>"
   ]
  },
  {
   "cell_type": "code",
   "execution_count": null,
   "id": "d72e445e",
   "metadata": {},
   "outputs": [],
   "source": [
    "new_irises = np.load('data/new_irises.npy')\n",
    "print(new_irises.shape)"
   ]
  },
  {
   "attachments": {},
   "cell_type": "markdown",
   "id": "a2cffc36",
   "metadata": {},
   "source": [
    "<p style=\"direction: ltr; text-align: justify; line-height: 200%; font-family: Arial; font-size: medium\">\n",
    "<font face=\"Arial\" size=3>\n",
    "We have successfully read all the dataset files. Now, let us denote the number of training samples as <code>n</code> and the number of test samples as <code>m</code>, and store these values in variables with the same names.\n",
    "</font>\n",
    "</p>"
   ]
  },
  {
   "cell_type": "code",
   "execution_count": null,
   "id": "524e1890",
   "metadata": {},
   "outputs": [],
   "source": [
    "n, m = len(irises), len(new_irises)\n",
    "print(\"Number of training samples (n):\", n)\n",
    "print(\"Number of test samples (m):\", m)"
   ]
  },
  {
   "attachments": {},
   "cell_type": "markdown",
   "id": "cf4c3d98",
   "metadata": {},
   "source": [
    "<h2 align=\"left\" style=\"line-height:200%;font-family:Arial;color:#0099cc\">\n",
    "<font face=\"Arial\" color=\"#0099cc\">\n",
    "k-Nearest Neighbors Algorithm\n",
    "</font>\n",
    "</h2>\n",
    "\n",
    "<p style=\"direction: ltr; text-align: justify; line-height: 200%; font-family: Arial; font-size: medium\">\n",
    "<font face=\"Arial\" size=3>\n",
    "Suppose you are given the characteristics of an iris flower and need to determine its type. The first idea that likely comes to mind is to measure its similarity to flowers whose types are known and predict its type based on this similarity. Imagine you have found the 3 flowers most similar to this one. You know that, for example, 2 of these flowers are of the virginica type, and 1 is of the setosa type. You would likely agree that, based on majority voting, it is more probable that our flower is also of the virginica type. Thus, we declare this type as our prediction.\n",
    "<br>\n",
    "This is exactly what the k-NN algorithm does. However, in this algorithm, instead of finding the greatest similarity, the smallest distance (difference) is typically calculated. The steps of this algorithm are as follows:\n",
    "\n",
    "<ol>\n",
    "<li>First, we calculate the distance between the test sample (the sample whose type we want to predict) and all training samples (the samples whose types we know).</li>\n",
    "<li>Next, we find the <code>k</code> training samples that have the smallest distance to our test sample.</li>\n",
    "<li>Then, we determine which type the majority of these <code>k</code> samples belong to. We declare that type as our prediction for the test sample.</li>\n",
    "</ol>\n",
    "</font>\n",
    "</p>\n",
    "\n",
    "<p style=\"direction: ltr; text-align: justify; line-height: 200%; font-family: Arial; font-size: medium\">\n",
    "<font face=\"Arial\" size=3>\n",
    "Now, let's begin and implement each step of this algorithm using NumPy.\n",
    "</font>\n",
    "</p>"
   ]
  },
  {
   "attachments": {},
   "cell_type": "markdown",
   "id": "1f317485",
   "metadata": {},
   "source": [
    "\n",
    "\n",
    "\n",
    "<h2 align=\"left\" style=\"line-height:200%;font-family:Arial;color:#0099cc\">\n",
    "<font face=\"Arial\" color=\"#0099cc\">\n",
    "Part 1: Calculating Distances\n",
    "</font>\n",
    "</h2>\n",
    "\n",
    "<p style=\"direction: ltr; text-align: justify; line-height: 200%; font-family: Arial; font-size: medium\">\n",
    "<font face=\"Arial\" size=3>\n",
    "Initially, we aim to write a function that calculates the distance between each sample/row of one array, such as <code>new_points</code>, and each sample/row of another array, such as <code>points</code>. For example, in this exercise, if we have 120 training samples and 30 test samples, we need to calculate the distance between each test sample and each training sample, resulting in an output with dimensions 30 by 120. For instance, the first row of this matrix, as shown on the right in the figure below, contains the distances between the first test sample and each of the training samples.\n",
    "</font>\n",
    "</p>\n",
    "\n",
    "<center>\n",
    "<div style=\"max-width: 1000px\">\n",
    "<img src=\"img/fig.png\">\n",
    "</div>\n",
    "</center>\n",
    "\n",
    "<p style=\"direction: ltr; text-align: justify; line-height: 200%; font-family: Arial; font-size: medium\">\n",
    "<font face=\"Arial\" size=3>\n",
    "To calculate the distance between two points <code>p</code> and <code>q</code> with <code>f</code> features, we will use the following formula:\n",
    "</font>\n",
    "</p>\n",
    "\n",
    "$$ d(p,q) = {\\sum_{i=0}^{f-1} (p_i - q_i)^2} $$\n",
    "\n",
    "<p style=\"direction: ltr; text-align: justify; line-height: 200%; font-family: Arial; font-size: medium\">\n",
    "<font face=\"Arial\" size=3>\n",
    "In our exercise, <code>f</code> is equal to <code>4</code>. This means that to calculate the distance between two samples, we subtract their sepal widths, square the result, and then do the same for sepal length, petal width, and petal length, summing the results for all four features. There are various methods to calculate the distance between elements of two arrays, and we will experiment with three different approaches.\n",
    "</font>\n",
    "</p>"
   ]
  },
  {
   "attachments": {},
   "cell_type": "markdown",
   "id": "3b911f04",
   "metadata": {},
   "source": [
    "<h3 align=\"left\" style=\"line-height:200%;font-family:Arial;color:#0099cc\">\n",
    "<font face=\"Arial\" color=\"#0099cc\">\n",
    "Two-Loop Method\n",
    "</font>\n",
    "</h3>\n",
    "\n",
    "<p style=\"direction: ltr; text-align: justify; line-height: 200%; font-family: Arial; font-size: medium\">\n",
    "<font face=\"Arial\" size=3>\n",
    "First, we want to perform this task simply using two loops (<code>for</code>). In this method, we write one loop over the test samples and, inside it, another loop over the training samples to calculate the distance between each test sample and each training sample.\n",
    "<br>\n",
    "In the function below, you need to replace the <code>None</code> with an expression that calculates the distance between the two points <code>new_points[i]</code> and <code>points[j]</code> using the formula provided above.\n",
    "<br>\n",
    "<b style=\"color:green\">Hint:</b>\n",
    "We recommend using only NumPy's square function (<code>np.square</code>) and sum function (<code>np.sum</code>) in this part.\n",
    "</font>\n",
    "</p>"
   ]
  },
  {
   "metadata": {},
   "cell_type": "markdown",
   "source": [
    "<p style=\"direction: ltr; text-align: justify; line-height: 200%; font-family: Arial; font-size: medium\">\n",
    "<font face=\"Arial\" size=3>\n",
    "<b style=\"color:green\">Note:</b> <b>I have no idea how to solve the distance calculation part! ☹</b><br>\n",
    "Let’s proceed with an example. Our function takes two input matrices named <code>points</code> and <code>new_points</code>. Suppose the first row of each matrix is as follows:<br>\n",
    "<code>new_points[0]</code><br>\n",
    "<code>array([5. , 3.6, 1.4, 0.2])</code><br>\n",
    "<code>points[0]</code><br>\n",
    "<code>array([5.1, 3.5, 1.4, 0.2])</code><br>\n",
    "First, we calculate the distance between these two vectors (element-wise subtraction):<br>\n",
    "<code>new_points[0] - points[0]</code><br>\n",
    "<code>array([-0.1, 0.1, 0. , 0. ])</code><br>\n",
    "Next, we square the resulting vector:<br>\n",
    "<code>np.square(new_points[0] - points[0])</code><br>\n",
    "<code>array([0.01, 0.01, 0. , 0. ])</code><br>\n",
    "Finally, we sum all the values in this vector to obtain a single number representing the sum of squared distances:<br>\n",
    "<code>np.sum(np.square(new_points[0] - points[0]))</code><br>\n",
    "<code>0.02</code><br>\n",
    "Now, you need to write code that performs the same calculation, which we did for just one row of the first matrix and one row of the second matrix, for all rows of both matrices.<br>\n",
    "To perform these calculations for all rows of the first matrix with each row of the second matrix, three different approaches can be used, as explained in the exercise.\n",
    "</font>\n",
    "</p>"
   ],
   "id": "5189e4aae064f13"
  },
  {
   "cell_type": "code",
   "execution_count": null,
   "id": "bbace2d7",
   "metadata": {},
   "outputs": [],
   "source": [
    "def calc_two_loops(new_points, points):\n",
    "    \n",
    "    #‌ m is the number of new points (test samples)\n",
    "    m = len(new_points)\n",
    "    # n is the number of points (training samples)\n",
    "    n = len(points)\n",
    "    # Distance matrix\n",
    "    d = np.zeros((m, n))\n",
    "    \n",
    "    # For each new point\n",
    "    for i in range(m):\n",
    "        # For each point\n",
    "        for j in range(n):\n",
    "            # Calculate the distance between the two points\n",
    "            d[i, j] = None # TO-DO\n",
    "            \n",
    "    return d"
   ]
  },
  {
   "cell_type": "code",
   "execution_count": null,
   "id": "282f9b9c",
   "metadata": {},
   "outputs": [],
   "source": [
    "d2 = calc_two_loops(new_irises, irises)\n",
    "print(d2.shape)"
   ]
  },
  {
   "attachments": {},
   "cell_type": "markdown",
   "id": "3710e4d2",
   "metadata": {},
   "source": [
    "<h3 align=\"left\" style=\"line-height:200%;font-family:Arial;color:#0099cc\">\n",
    "<font face=\"Arial\" color=\"#0099cc\">\n",
    "Single-Loop Method\n",
    "</font>\n",
    "</h3>\n",
    "\n",
    "<p style=\"direction: ltr; text-align: justify; line-height: 200%; font-family: Arial; font-size: medium\">\n",
    "<font face=\"Arial\" size=3>\n",
    "Now, we want to utilize the broadcasting or reshaping properties of arrays to eliminate each loop in turn. In this part, we aim to use array broadcasting to remove the inner loop and calculate the distance between each test sample and all training samples simultaneously. In the function below, replace <code>None</code> with an expression that calculates the distances between all training samples and the test sample <code>new_points[i]</code>.\n",
    "<br><br>\n",
    "<b style=\"color:green\">Note:</b>\n",
    "The output of this part is exactly the same as the output of the two-loop function, with the difference that in the previous function, one element of the matrix was calculated at each step, whereas in this part, an entire row of the matrix is calculated at each step.\n",
    "</font>\n",
    "</p>"
   ]
  },
  {
   "cell_type": "code",
   "execution_count": null,
   "id": "021a9f1c",
   "metadata": {},
   "outputs": [],
   "source": [
    "def calc_one_loop(new_points, points):\n",
    "    \n",
    "    # m is the number of new points (test samples)\n",
    "    m = len(new_points)\n",
    "    # n is the number of points (training samples)\n",
    "    n = len(points)\n",
    "    # Distance matrix\n",
    "    d = np.zeros((m, n))\n",
    "    \n",
    "    # For each new point\n",
    "    for i in range(m):\n",
    "        # Calculate the distance between the new point and all the points\n",
    "        d[i] = None # TO-DO\n",
    "        \n",
    "    return d"
   ]
  },
  {
   "cell_type": "code",
   "execution_count": null,
   "id": "4f7f3d42",
   "metadata": {},
   "outputs": [],
   "source": [
    "d1 = calc_one_loop(new_irises, irises)\n",
    "print(d1.shape)"
   ]
  },
  {
   "attachments": {},
   "cell_type": "markdown",
   "id": "e9af1fe4",
   "metadata": {},
   "source": [
    "<h3 align=\"left\" style=\"line-height:200%;font-family:Arial;color:#0099cc\">\n",
    "<font face=\"Arial\" color=\"#0099cc\">\n",
    "No-Loop Method\n",
    "</font>\n",
    "</h3>\n",
    "\n",
    "<p style=\"direction: ltr; text-align: justify; line-height: 200%; font-family: Arial; font-size: medium\">\n",
    "<font face=\"Arial\" size=3>\n",
    "This time, we will again use the properties of arrays and write just one line of code in the function below, in front of <code>return</code>, to output all the distances.\n",
    "<br>\n",
    "Creating the distance matrix without loops may seem complex. However, using NumPy functions instead of loops makes the code both faster and more concise, and it’s good to get accustomed to this approach. You can test the speed improvement by providing large arrays as input.\n",
    "</font>\n",
    "</p>\n",
    "\n",
    "<p style=\"direction: ltr; text-align: justify; line-height: 200%; font-family: Arial; font-size: medium\">\n",
    "<font face=\"Arial\" size=3>\n",
    "<b style=\"color:green\">Hint 1:</b> One possible solution is to reshape the <code>new_points</code> matrix so that it becomes <code>m</code> arrays with dimensions <code>(1, f)</code> (where <code>f</code> is the number of features, which is <code>4</code> in this exercise) and reshape <code>points</code> into <code>1</code> array with dimensions <code>(n, f)</code>. Then, sequentially calculate the distances, square the distances, and compute the sum. Note that all these operations must be performed in a single line of code.\n",
    "</font>\n",
    "</p>\n",
    "\n",
    "<p style=\"direction: ltr; text-align: justify; line-height: 200%; font-family: Arial; font-size: medium\">\n",
    "<font face=\"Arial\" size=3>\n",
    "<b style=\"color:green\">Hint 2:</b> For reshaping, you can use <code>reshape</code>, or you can utilize <code>np.newaxis</code>, which was introduced in the lesson on array indexing.\n",
    "</font>\n",
    "</p>"
   ]
  },
  {
   "cell_type": "code",
   "execution_count": null,
   "id": "f3e881e6",
   "metadata": {},
   "outputs": [],
   "source": [
    "def calc_no_loop(new_points, points):\n",
    "    return None # TO-DO"
   ]
  },
  {
   "cell_type": "code",
   "execution_count": null,
   "id": "5091f442",
   "metadata": {},
   "outputs": [],
   "source": [
    "d = calc_no_loop(new_irises, irises)\n",
    "print(d.shape)"
   ]
  },
  {
   "attachments": {},
   "cell_type": "markdown",
   "id": "7ca46ad9",
   "metadata": {},
   "source": [
    "<h3 align=\"left\" style=\"line-height:200%;font-family:Arial;color:#0099cc\">\n",
    "<font face=\"Arial\" color=\"#0099cc\">\n",
    "Verification\n",
    "🧐\n",
    "</font>\n",
    "</h3>\n",
    "\n",
    "<p style=\"direction: ltr; text-align: justify; line-height: 200%; font-family: Arial; font-size: medium\">\n",
    "<font face=\"Arial\" size=3>\n",
    "Calculating the distance array using the three methods above should not result in any differences in the output. Therefore, run the code below to ensure that the outputs of the three functions are equivalent. From now on, we will use the <code>d</code> array as the distance array.\n",
    "</font>\n",
    "</p>"
   ]
  },
  {
   "cell_type": "code",
   "execution_count": null,
   "id": "6b3eda6e",
   "metadata": {},
   "outputs": [],
   "source": [
    "if np.allclose(d, d1, 1e-5) and np.allclose(d, d2, 1e-5) and np.allclose(d1, d2, 1e-5):\n",
    "    print('Fine!')\n",
    "else:\n",
    "    print('There is something wrong!')"
   ]
  },
  {
   "attachments": {},
   "cell_type": "markdown",
   "id": "736578c2",
   "metadata": {},
   "source": [
    "<h2 align=\"left\" style=\"line-height:200%;font-family:Arial;color:#0099cc\">\n",
    "<font face=\"Arial\" color=\"#0099cc\">\n",
    "Part 2: Finding the <code>k</code> Nearest Neighbors\n",
    "</font>\n",
    "</h2>\n",
    "\n",
    "<p style=\"direction: ltr; text-align: justify; line-height: 200%; font-family: Arial; font-size: medium\">\n",
    "<font face=\"Arial\" size=3>\n",
    "Using the implemented functions, we were able to calculate the distance between each test sample and each training sample, storing the results in <code>d</code>. Specifically, the distance between the test sample <code>new_irises[i]</code> and the training sample <code>irises[j]</code> is stored in the element <code>d[i][j]</code>. Now, for each test sample, we need to find the <code>k</code> training samples with the smallest distances to it. Note that you should store the indices of the nearest samples, not the distance values themselves. Here, consider <code>k</code> to be <code>10</code>, so the output array <code>k_nearest</code> will be a matrix with dimensions <code>(30, 10)</code>.\n",
    "\n",
    "<br><br>\n",
    "<b style=\"color:green\">Hint:</b>\n",
    "To find the nearest neighbors (smallest distances), use <code>np.argpartition</code>. The difference between <code>argpartition</code> and <code>partition</code> is similar to the difference between <code>argsort</code> and <code>sort</code>. That is, this function outputs the indices of the sorted elements, not their values.\n",
    "</font>\n",
    "</p>"
   ]
  },
  {
   "metadata": {},
   "cell_type": "markdown",
   "source": [
    "<p style=\"direction: ltr; text-align: justify; line-height: 200%; font-family: Arial; font-size: medium\">\n",
    "<font face=\"Arial\" size=3>\n",
    "<b style=\"color:green\">Note: </b><b>Why not use <code>argsort</code> instead of <code>argpartition</code>?</b><br>\n",
    "To find the nearest neighbors (smallest distances), you can use both <code>argsort</code> and <code>argpartition</code>, and the final result of both methods will be correct. However, note that using <code>argsort</code> results in a complete sort, whereas we only need the first <code>k</code> elements. Consequently, using <code>argpartition</code> (especially when dealing with large arrays) will be less computationally expensive.\n",
    "</font>\n",
    "</p>"
   ],
   "id": "5ebe30160df2c94b"
  },
  {
   "cell_type": "code",
   "execution_count": null,
   "id": "6619de84",
   "metadata": {},
   "outputs": [],
   "source": [
    "k = 10\n",
    "k_nearest = None # TO-DO\n",
    "print(k_nearest)"
   ]
  },
  {
   "attachments": {},
   "cell_type": "markdown",
   "id": "4f32a9ad",
   "metadata": {},
   "source": [
    "<h2 align=\"left\" style=\"line-height:200%;font-family:Arial;color:#0099cc\">\n",
    "<font face=\"Arial\" color=\"#0099cc\">\n",
    "Part 3: Finding the Type of the <code>k</code> Nearest Neighbors\n",
    "</font>\n",
    "</h2>\n",
    "\n",
    "<p style=\"direction: ltr; text-align: justify; line-height: 200%; font-family: Arial; font-size: medium\">\n",
    "<font face=\"Arial\" size=3>\n",
    "We now have the indices of the nearest neighbors (training samples) for each test sample in the <code>k_nearest</code> array. However, we are interested in the type of each of these neighbors. To replace each index with the corresponding flower type, you can use the <code>types</code> array. Perform this operation in a single line and assign the result to the variable <code>k_nearest_types</code>.\n",
    "\n",
    "<br><br>\n",
    "<b style=\"color:green\">Note: </b><b>How does the <code>np.argpartition</code> function work?</b><br>\n",
    "Suppose our array <code>arr</code> is as follows:<br>\n",
    "<table style=\"width:100%; text-align:center\">\n",
    "  <tr><td>0</td><td>1</td><td>2</td><td>3</td><td>4</td><td>5</td><td>6</td><td>7</td></tr>\n",
    "  <tr><td>80</td><td>50</td><td>20</td><td>30</td><td>-12</td><td>60</td><td>50</td><td>40</td></tr>\n",
    "</table><br>\n",
    "If we write <code>np.partition(arr, 3)</code> or <code>np.argpartition(arr, 3)</code>, it means that the 3 elements with the smallest values in the entire array will be brought to the beginning of the array. Thus, we will have:<br>\n",
    "<table style=\"width:100%; text-align:center\">\n",
    "  <tr><td>4</td><td>3</td><td>2</td><td>7</td><td>1</td><td>5</td><td>6</td><td>0</td></tr>\n",
    "  <tr><td>-12</td><td>30</td><td>20</td><td>40</td><td>50</td><td>60</td><td>50</td><td>80</td></tr>\n",
    "</table><br>\n",
    "Now, if we used <code>np.partition</code>, the values themselves (bottom row of the table) are returned, but if we used <code>np.argpartition</code>, the indices of the elements (top row of the table) are returned.<br>\n",
    "Note that if your array is multidimensional, you need to specify the <code>axis</code> argument as well.\n",
    "\n",
    "<br><br>\n",
    "<b style=\"color:green\">Note: </b><b>How do I find the type of the nearest neighbors in Part 3?</b><br>\n",
    "The type of each training sample is stored in the <code>types</code> array, and you can use the index of a sample to retrieve its type from this array. For example, if you want the types of flowers 0 and 50, you can write <code>types[[0, 50]]</code>, which will return their types, yielding the output <code>[0, 1]</code>.\n",
    "</font>\n",
    "</p>"
   ]
  },
  {
   "cell_type": "code",
   "execution_count": null,
   "id": "b60f862c",
   "metadata": {},
   "outputs": [],
   "source": [
    "k_nearest_types = None # TO-DO\n",
    "k_nearest_types"
   ]
  },
  {
   "attachments": {},
   "cell_type": "markdown",
   "id": "eb9c7e91",
   "metadata": {},
   "source": [
    "<h2 align=\"left\" style=\"line-height:200%;font-family:Arial;color:#0099cc\">\n",
    "<font face=\"Arial\" color=\"#0099cc\">\n",
    "Part 4: Determining the Type of New Flowers\n",
    "</font>\n",
    "</h2>\n",
    "\n",
    "<p style=\"direction: ltr; text-align: justify; line-height: 200%; font-family: Arial; font-size: medium\">\n",
    "<font face=\"Arial\" size=3>\n",
    "Finally, we need to create an array named <code>predicted_types</code> with length <code>m</code>, where the element <code>predicted_types[i]</code> contains the most frequent type identifier in <code>k_nearest_types[i]</code> as the predicted type identifier for <code>new_irises[i]</code>.\n",
    "<br>\n",
    "Since NumPy does not directly provide a <code>mode</code> function, we have performed this task using the <code>mode</code> function from the <code>scipy</code> library.\n",
    "</font>\n",
    "</p>"
   ]
  },
  {
   "cell_type": "code",
   "execution_count": null,
   "id": "785a1c4d",
   "metadata": {},
   "outputs": [],
   "source": [
    "from scipy import stats\n",
    "predicted_types = stats.mode(k_nearest_types, axis=1).mode.reshape(m)\n",
    "predicted_types"
   ]
  },
  {
   "attachments": {},
   "cell_type": "markdown",
   "id": "1237953f",
   "metadata": {},
   "source": [
    "<p style=\"direction: ltr; text-align: justify; line-height: 200%; font-family: Arial; font-size: medium\">\n",
    "<font face=\"Arial\" size=3>\n",
    "In this part, the array <code>new_types</code> has been loaded, containing the correct answers. Using this, calculate the classification accuracy and store it in the variable <code>accuracy</code>. The classification accuracy is the number of correct predictions divided by the number of test samples. If you have followed the steps correctly, the accuracy should be 1 (meaning the classifier correctly predicted the type of all test flowers).\n",
    "</font>\n",
    "</p>"
   ]
  },
  {
   "cell_type": "code",
   "execution_count": null,
   "id": "6c855388",
   "metadata": {},
   "outputs": [],
   "source": [
    "new_types = np.load('data/new_types.npy')\n",
    "accuracy = None # TO-DO\n",
    "print('Accuracy:', accuracy)"
   ]
  }
 ],
 "metadata": {
  "kernelspec": {
   "display_name": "quera",
   "language": "python",
   "name": "python3"
  },
  "language_info": {
   "codemirror_mode": {
    "name": "ipython",
    "version": 3
   },
   "file_extension": ".py",
   "mimetype": "text/x-python",
   "name": "python",
   "nbconvert_exporter": "python",
   "pygments_lexer": "ipython3",
   "version": "3.9.7"
  },
  "vscode": {
   "interpreter": {
    "hash": "6a29b8f2e1e8b11f80c3820468461bcdbea6564508a235f61a46eeb59d48b308"
   }
  }
 },
 "nbformat": 4,
 "nbformat_minor": 5
}
