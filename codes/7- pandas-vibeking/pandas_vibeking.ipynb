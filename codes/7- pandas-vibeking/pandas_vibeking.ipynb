{
 "cells": [
  {
   "cell_type": "markdown",
   "id": "d64d01af",
   "metadata": {},
   "source": [
    "<h1 align=\"center\" style=\"line-height:200%;font-family:Arial;color:#0099cc\">\n",
    "<font face=\"Arial\" color=\"#0099cc\">\n",
    "    VibeKing\n",
    "</font>\n",
    "</h1>\n",
    "<p style=\"text-align: center;\">\n",
    "<img src=\"data/img_vibeking.jpg\" style=\"max-width: 100%; height: auto;\">\n",
    "</p>"
   ]
  },
  {
   "attachments": {},
   "cell_type": "markdown",
   "id": "4e177dbd-7e65-45b6-8221-1dec02f863e2",
   "metadata": {},
   "source": [
    "<div id=\"start\" style=\"direction: ltr; text-align: justify; line-height: 200%; font-family: Arial; font-size: medium\">\n",
    "    <font face=\"Arial\" size=3>\n",
    "In this exercise, we aim to practice selecting data from a DataFrame further.<br>\n",
    "The dataset we have for this exercise pertains to a fictional social media platform called VibeKing, where individuals strive to become as influential as possible!<br>\n",
    "The main goal of this exercise is to explore VibeKing’s data and write various conditions to filter influencers of different levels.\n",
    "    </font>\n",
    "</div>"
   ]
  },
  {
   "cell_type": "code",
   "execution_count": null,
   "id": "3934f0cc",
   "metadata": {},
   "outputs": [],
   "source": [
    "import pandas as pd\n",
    "import numpy as np"
   ]
  },
  {
   "attachments": {},
   "cell_type": "markdown",
   "id": "1792e7ff",
   "metadata": {},
   "source": [
    "<h2 align=\"left\" style=\"line-height:200%;font-family:Arial;color:#0099cc\">\n",
    "<font face=\"Arial\" color=\"#0099cc\">\n",
    "Dataset\n",
    "</font>\n",
    "</h2>\n",
    "\n",
    "<p style=\"direction: ltr; text-align: justify; line-height: 200%; font-family: Arial; font-size: medium\">\n",
    "<font face=\"Arial\" size=3>\n",
    "The data for this exercise is stored in the <code>shakhgram.csv</code> file, and you can read it as a DataFrame using the cell below and store it in the variable <code>df</code>. This DataFrame includes the following columns:\n",
    "</font>\n",
    "</p>\n",
    "\n",
    "<center>\n",
    "<div style=\"direction: ltr; line-height: 200%; font-family: Arial; font-size: medium\">\n",
    "<font face=\"Arial\" size=3>\n",
    "\n",
    "<table>\n",
    "  <tr>\n",
    "    <th>Column Name</th>\n",
    "    <th>Description</th>\n",
    "  </tr>\n",
    "  <tr>\n",
    "    <td><code>owner_name</code></td>\n",
    "    <td>Name of the page owner</td>\n",
    "  </tr>\n",
    "  <tr>\n",
    "    <td><code>follower</code></td>\n",
    "    <td>Number of followers of the page</td>\n",
    "  </tr>\n",
    "  <tr>\n",
    "    <td><code>following</code></td>\n",
    "    <td>Number of accounts followed by the page</td>\n",
    "  </tr>\n",
    "  <tr>\n",
    "    <td><code>post_number</code></td>\n",
    "    <td>Number of posts on the page</td>\n",
    "  </tr>\n",
    "</table>\n",
    "\n",
    "</font>\n",
    "</div>\n",
    "</center>"
   ]
  },
  {
   "cell_type": "code",
   "execution_count": null,
   "id": "c5312517",
   "metadata": {},
   "outputs": [],
   "source": "df = pd.read_csv(\"data/vibeking.csv\")"
  },
  {
   "attachments": {},
   "cell_type": "markdown",
   "id": "b562fdc1-2071-47e5-8aae-eb3581aadd99",
   "metadata": {},
   "source": [
    "<h2 align=\"left\" style=\"line-height:200%;font-family:Arial;color:#0099cc\">\n",
    "<font face=\"Arial\" color=\"#0099cc\">\n",
    "    Data Exploration\n",
    "</font>\n",
    "</h2>\n",
    "\n",
    "<p style=\"direction: ltr; text-align: justify; line-height: 200%; font-family: Arial; font-size: medium\">\n",
    "<font face=\"Arial\" size=3>\n",
    "By running the cell below, the first 5 rows of the DataFrame will be displayed to give you an overview of the data.<br>\n",
    "We suggest trying to select and view different columns and rows of the DataFrame to become more familiar with the dataset and better prepare for implementing the exercise solutions!\n",
    "</font>\n",
    "</p>"
   ]
  },
  {
   "cell_type": "code",
   "execution_count": null,
   "id": "856f8d8c",
   "metadata": {},
   "outputs": [],
   "source": [
    "df.head()"
   ]
  },
  {
   "attachments": {},
   "cell_type": "markdown",
   "id": "aa82e222",
   "metadata": {},
   "source": [
    "<h2 align=\"left\" style=\"line-height:200%;font-family:Arial;color:#0099cc\">\n",
    "<font face=\"Arial\" color=\"#0099cc\">\n",
    "    Part 1\n",
    "</font>\n",
    "</h2>\n",
    "\n",
    "<p style=\"direction: ltr; text-align: justify; line-height: 200%; font-family: Arial; font-size: medium\">\n",
    "<font face=\"Arial\" size=3>\n",
    "In this social network, there are 5 categories of influencers. To belong to each category, our page and name must meet specific conditions.<br>\n",
    "The first category of VibeKing influencers is the Brass Influencers. Brass Influencers are individuals whose number of accounts followed by their page (<code>following</code>) is <b>less than 11</b>.<br>\n",
    "In the cell below, filter the portion of the original DataFrame that meets the conditions for Brass Influencers and store it in the variable <code>brass_df</code>.\n",
    "</font>\n",
    "</p>"
   ]
  },
  {
   "cell_type": "code",
   "execution_count": null,
   "id": "f16be0eb",
   "metadata": {},
   "outputs": [],
   "source": "brass_df = None # To-Do"
  },
  {
   "attachments": {},
   "cell_type": "markdown",
   "id": "77416747",
   "metadata": {},
   "source": [
    "<h2 align=\"left\" style=\"line-height:200%;font-family:Arial;color:#0099cc\">\n",
    "<font face=\"Arial\" color=\"#0099cc\">\n",
    "    Part 2\n",
    "</font>\n",
    "</h2>\n",
    "\n",
    "<p style=\"direction: ltr; text-align: justify; line-height: 200%; font-family: Arial; font-size: medium\">\n",
    "<font face=\"Arial\" size=3>\n",
    "In the variable <code>copper_df</code>, store the Copper Influencers. Copper Influencers are individuals whose number of posts on their page (<code>post_number</code>) is greater than the number of accounts they follow (<code>following</code>).\n",
    "</font>\n",
    "</p>"
   ]
  },
  {
   "cell_type": "code",
   "execution_count": null,
   "id": "51f5a12b",
   "metadata": {},
   "outputs": [],
   "source": "copper_df = None # To-Do"
  },
  {
   "attachments": {},
   "cell_type": "markdown",
   "id": "5bf37fd8-813b-4882-b8ba-b361fdc62f0e",
   "metadata": {},
   "source": [
    "<h2 align=\"left\" style=\"line-height:200%;font-family:Arial;color:#0099cc\">\n",
    "<font face=\"Arial\" color=\"#0099cc\">\n",
    "    Part 3\n",
    "</font>\n",
    "</h2>\n",
    "\n",
    "<p style=\"direction: ltr; text-align: justify; line-height: 200%; font-family: Arial; font-size: medium\">\n",
    "<font face=\"Arial\" size=3>\n",
    "In the variable <code>bronze_df</code>, store the Bronze Influencers. Bronze Influencers are individuals whose number of followers (<code>follower</code>) on their page exceeds one million.\n",
    "</font>\n",
    "</p>"
   ]
  },
  {
   "cell_type": "code",
   "execution_count": null,
   "id": "76184e27",
   "metadata": {
    "tags": []
   },
   "outputs": [],
   "source": "bronze_df = None # To-Do"
  },
  {
   "attachments": {},
   "cell_type": "markdown",
   "id": "e8ef45c6-0367-4e24-82c0-9ab6b97a34b2",
   "metadata": {},
   "source": [
    "<h2 align=\"left\" style=\"line-height:200%;font-family:Arial;color:#0099cc\">\n",
    "<font face=\"Arial\" color=\"#0099cc\">\n",
    "    Part 4\n",
    "</font>\n",
    "</h2>\n",
    "\n",
    "<p style=\"direction: ltr; text-align: justify; line-height: 200%; font-family: Arial; font-size: medium\">\n",
    "<font face=\"Arial\" size=3>\n",
    "In the variable <code>silver_df</code>, store the Silver Influencers. Silver Influencers are individuals who satisfy both of the following conditions simultaneously:\n",
    "    <ol style=\"direction: ltr;\">\n",
    "        <li>The number of followers (<code>follower</code>) on their page is greater than or equal to 10 million.</li>\n",
    "        <li>The number of accounts they follow (<code>following</code>) is less than 50.</li>\n",
    "    </ol>\n",
    "</font>\n",
    "</p>"
   ]
  },
  {
   "cell_type": "code",
   "execution_count": null,
   "id": "6b8b4f92",
   "metadata": {
    "tags": []
   },
   "outputs": [],
   "source": "silver_df = None # To-Do"
  },
  {
   "attachments": {},
   "cell_type": "markdown",
   "id": "79b40e28-7007-48b5-95b1-bd8c3e5f05ae",
   "metadata": {},
   "source": [
    "<h2 align=\"left\" style=\"line-height:200%;font-family:Arial;color:#0099cc\">\n",
    "<font face=\"Arial\" color=\"#0099cc\">\n",
    "    Part 5\n",
    "</font>\n",
    "</h2>\n",
    "\n",
    "<p style=\"direction: ltr; text-align: justify; line-height: 200%; font-family: Arial; font-size: medium\">\n",
    "<font face=\"Arial\" size=3>\n",
    "In the variable <code>golden_df</code>, store the Golden Influencers. Golden Influencers are individuals who satisfy at least one of the following two conditions (i.e., the first or the second condition):\n",
    "    <ol style=\"direction: ltr;\">\n",
    "        <li>The number of followers (<code>follower</code>) on their page is greater than 10 million, and the number of accounts they follow (<code>following</code>) is less than 20.</li>\n",
    "        <li>The number of posts (<code>post_number</code>) is less than 15, and the letter <code>R</code> is present in the page owner's name (e.g., <code>BooAzaR!</code>).</li>\n",
    "    </ol>\n",
    "</font>\n",
    "</p>"
   ]
  },
  {
   "cell_type": "code",
   "execution_count": null,
   "id": "099d1ff4",
   "metadata": {},
   "outputs": [],
   "source": "golden_df = None # To-Do"
  },
  {
   "metadata": {},
   "cell_type": "markdown",
   "source": [
    "<p style=\"direction: ltr; text-align: justify; line-height: 200%; font-family: Arial; font-size: medium\">\n",
    "<font face=\"Arial\" size=3>\n",
    "<span style=\"color:green\"><b>Hint:</b></span><br>\n",
    "How can I check if the letter 'R' is present in a name?<br>\n",
    "To check for the presence of a substring in string values, you can use the <code>str.contains</code> function. An example of how this function works is shown below:<br>\n",
    "</font>\n",
    "</p>\n",
    "\n",
    "<pre><code>\n",
    ">>> s1 = pd.Series(['Mouse', 'dog', 'house and parrot', '23', np.NaN])\n",
    ">>> s1.str.contains('og', regex=False)\n",
    "0    False\n",
    "1     True\n",
    "2    False\n",
    "3    False\n",
    "4      NaN\n",
    "dtype: object\n",
    "</code></pre>\n",
    "\n",
    "<p style=\"direction: ltr; text-align: justify; line-height: 200%; font-family: Arial; font-size: medium\">\n",
    "<font face=\"Arial\" size=3>\n",
    "To read the documentation for this function, you can refer to <a href=\"https://pandas.pydata.org/docs/reference/api/pandas.Series.str.contains.html\">this link</a>.\n",
    "</font>\n",
    "</p>"
   ],
   "id": "7c8d1fc31ff4cddd"
  }
 ],
 "metadata": {
  "kernelspec": {
   "display_name": "Python 3",
   "language": "python",
   "name": "python3"
  },
  "language_info": {
   "codemirror_mode": {
    "name": "ipython",
    "version": 3
   },
   "file_extension": ".py",
   "mimetype": "text/x-python",
   "name": "python",
   "nbconvert_exporter": "python",
   "pygments_lexer": "ipython3",
   "version": "3.8.0"
  },
  "vscode": {
   "interpreter": {
    "hash": "44e7e1b8fa2096bd5707ed7fd18b1724a2db25f4c565a7673f8b6e7bfc49d25d"
   }
  }
 },
 "nbformat": 4,
 "nbformat_minor": 5
}
