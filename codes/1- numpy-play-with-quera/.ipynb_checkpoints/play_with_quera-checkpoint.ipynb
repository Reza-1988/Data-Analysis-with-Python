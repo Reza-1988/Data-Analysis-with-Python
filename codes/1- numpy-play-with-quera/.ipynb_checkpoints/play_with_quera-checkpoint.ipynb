{
 "cells": [
  {
   "cell_type": "markdown",
   "metadata": {},
   "source": [
    "<h1 align=center style=\"line-height:200%;font-family:vazir;color:#0099cc\">\n",
    "<font face=\"vazirmatn\" color=\"#0099cc\">\n",
    "Playing with Quera\n",
    "</font>\n",
    "</h1>"
   ]
  },
  {
   "attachments": {},
   "cell_type": "markdown",
   "metadata": {},
   "source": [
    "<p dir=\"ltr\" style=\"direction: ltr; text-align: justify; line-height: 200%; font-family: Arial; font-size: medium\">\n",
    "    In this section, we aim to further practice working with NumPy arrays (<code>numpy</code>). By the end of this notebook, you will also understand the connection between the title of this exercise and the data used throughout it.\n",
    "    <br>\n",
    "</p>\n",
    "\n",
    "<h2 align=\"left\" style=\"line-height: 200%; font-family: Arial; color: #0099cc\">\n",
    "    Part One\n",
    "</h2>\n",
    "\n",
    "<p dir=\"ltr\" style=\"direction: ltr; text-align: justify; line-height: 200%; font-family: Arial; font-size: medium\">\n",
    "    In this exercise, you need to load an array with shape <code dir=\"ltr\">(506, 1500, 1)</code> from the file <code dir=\"ltr\">data.npz</code> and then split it into three arrays, each with shape <code dir=\"ltr\">(506, 500, 1)</code>.\n",
    "    In other words, divide the second dimension (<code>1500</code>) of the input array into three equal parts.\n",
    "</p>\n",
    "\n",
    "<center>\n",
    "<div style=\"max-width: 800px\">\n",
    "    <img src=\"data/image1.jpg\">\n",
    "</div>\n",
    "</center>\n",
    "\n",
    "<p dir=\"ltr\" style=\"direction: ltr; text-align: justify; line-height: 200%; font-family: Arial; font-size: medium\">\n",
    "    As shown in the figure above, we have divided the input array into three arrays, each with shape <code dir=\"ltr\">(506, 500, 1)</code>. In your code, name these arrays <code>ch1</code>, <code>ch2</code>, and <code>ch3</code>, respectively.\n",
    "    <ul dir=\"ltr\">\n",
    "        <li>The array <code>ch1</code> contains the first 500 elements of the second dimension of the input array.</li>\n",
    "        <li>The array <code>ch2</code> contains the middle 500 elements of the second dimension of the input array.</li>\n",
    "        <li>The array <code>ch3</code> contains the final 500 elements of the second dimension of the input array.</li>\n",
    "    </ul>\n",
    "</p>\n",
    "\n",
    "<p dir=\"ltr\" style=\"direction: ltr; text-align: justify; line-height: 200%; font-family: Arial; font-size: medium\">\n",
    "    The data required for this problem can be loaded using the <code>load</code> function from the file. The output of the <code>load</code> function behaves like a dictionary, and you can extract the main data using the key <code>data</code>.\n",
    "    After running the two cells below, an array with shape <code dir=\"ltr\">(506, 1500, 1)</code> will be stored in the variable <code>data</code>, and you can begin solving the problem.\n",
    "</p>"
   ]
  },
  {
   "cell_type": "code",
   "execution_count": null,
   "metadata": {
    "id": "ddU9LZWUEiAd"
   },
   "outputs": [],
   "source": [
    "import numpy as np"
   ]
  },
  {
   "cell_type": "code",
   "execution_count": null,
   "metadata": {
    "colab": {
     "base_uri": "https://localhost:8080/"
    },
    "id": "7reDRLLz0Nek",
    "outputId": "7d1e86c3-7422-4a8b-b55f-d9629a08fb95"
   },
   "outputs": [],
   "source": [
    "npz_file = np.load('data/data.npz')\n",
    "data = npz_file['img']\n",
    "print(type(data))\n",
    "print(data.shape)"
   ]
  },
  {
   "cell_type": "code",
   "execution_count": null,
   "metadata": {
    "id": "xAPu3ziE01Zl"
   },
   "outputs": [],
   "source": [
    "ch1 = None # To-Do\n",
    "ch2 = None # To-Do\n",
    "ch3 = None # To-Do"
   ]
  },
  {
   "attachments": {},
   "cell_type": "markdown",
   "metadata": {},
   "source": [
    "<h2 align=\"left\" style=\"line-height: 200%; font-family: Arial; color: #0099cc\">\n",
    "    Part Two\n",
    "</h2>\n",
    "\n",
    "<p dir=\"ltr\" style=\"direction: ltr; text-align: justify; line-height: 200%; font-family: Arial; font-size: medium\">\n",
    "    Now, as shown in the figure below, concatenate the three arrays <code>ch1</code>, <code>ch2</code>, and <code>ch3</code> (in the order 1 to 3) along the third axis (<code>axis=2</code>) and store the result in an array named <code>final_data</code>.\n",
    "</p>\n",
    "\n",
    "<center>\n",
    "<div style=\"max-width: 800px\">\n",
    "    <img src=\"data/image2.jpg\">\n",
    "</div>\n",
    "</center>"
   ]
  },
  {
   "cell_type": "code",
   "execution_count": null,
   "metadata": {},
   "outputs": [],
   "source": [
    "final_data = None # To-Do"
   ]
  },
  {
   "attachments": {},
   "cell_type": "markdown",
   "metadata": {
    "id": "J-AmCIRGHVpP"
   },
   "source": [
    "<h2 align=\"left\" style=\"line-height: 200%; font-family: Arial; color: #0099cc\">\n",
    "    Further Exploration\n",
    "</h2>\n",
    "\n",
    "<p dir=\"ltr\" style=\"direction: ltr; text-align: justify; line-height: 200%; font-family: Arial; font-size: medium\">\n",
    "    In this exercise, the three arrays you concatenated were actually the three color channels of the Quera logo image.\n",
    "    By using <code>concatenate</code> to combine these arrays, you merged the three color channels to reconstruct the logo in its original colors.\n",
    "    <br>\n",
    "    By running the cells below, you can visualize the image corresponding to each color channel and, ultimately, the final image created by combining them.\n",
    "    The visualization of these arrays is performed using the <code>matplotlib</code> library.\n",
    "</p>"
   ]
  },
  {
   "cell_type": "code",
   "execution_count": null,
   "metadata": {
    "colab": {
     "base_uri": "https://localhost:8080/",
     "height": 182
    },
    "id": "J4BG5so1Wjs7",
    "outputId": "c212eb7a-4f98-4afe-fd7b-1293df9e5e8f"
   },
   "outputs": [],
   "source": [
    "import matplotlib.pyplot as plt \n",
    "\n",
    "plt.imshow(data[:,:,0])"
   ]
  },
  {
   "cell_type": "code",
   "execution_count": null,
   "metadata": {
    "colab": {
     "base_uri": "https://localhost:8080/",
     "height": 286
    },
    "id": "EnpL7naPWtxG",
    "outputId": "4468b410-30bf-465b-9adb-92ad53781bd8"
   },
   "outputs": [],
   "source": [
    "plt.imshow(ch1[:,:,0])"
   ]
  },
  {
   "cell_type": "code",
   "execution_count": null,
   "metadata": {
    "colab": {
     "base_uri": "https://localhost:8080/",
     "height": 286
    },
    "id": "HLTNyGlWWv44",
    "outputId": "e030a6e3-0c59-4f88-a046-51b8d53bb9c2"
   },
   "outputs": [],
   "source": [
    "plt.imshow(ch2[:,:,0])"
   ]
  },
  {
   "cell_type": "code",
   "execution_count": null,
   "metadata": {
    "colab": {
     "base_uri": "https://localhost:8080/",
     "height": 286
    },
    "id": "Y02gn44lWyX-",
    "outputId": "82062f49-4d69-41d6-9a09-f70a0d83b9f7"
   },
   "outputs": [],
   "source": [
    "plt.imshow(ch3[:,:,0])"
   ]
  },
  {
   "cell_type": "code",
   "execution_count": null,
   "metadata": {
    "colab": {
     "base_uri": "https://localhost:8080/",
     "height": 286
    },
    "id": "YEvazO3ZWz1X",
    "outputId": "e07d2669-e2f8-43ff-c722-ea07512cf86c"
   },
   "outputs": [],
   "source": [
    "plt.imshow(final_data)"
   ]
  }
 ],
 "metadata": {
  "colab": {
   "collapsed_sections": [],
   "name": "exercise1.ipynb",
   "provenance": []
  },
  "kernelspec": {
   "display_name": "p13",
   "language": "python",
   "name": "python3"
  },
  "language_info": {
   "codemirror_mode": {
    "name": "ipython",
    "version": 3
   },
   "file_extension": ".py",
   "mimetype": "text/x-python",
   "name": "python",
   "nbconvert_exporter": "python",
   "pygments_lexer": "ipython3",
   "version": "3.13.0"
  }
 },
 "nbformat": 4,
 "nbformat_minor": 2
}
