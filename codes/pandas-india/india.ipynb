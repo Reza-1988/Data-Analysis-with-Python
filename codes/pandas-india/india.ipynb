{
 "cells": [
  {
   "attachments": {},
   "cell_type": "markdown",
   "id": "ff54573a",
   "metadata": {},
   "source": [
    "<h1 align=\"center\" style=\"line-height:200%;font-family:Arial;color:#0099cc\">\n",
    "<font face=\"Arial\" color=\"#0099cc\">\n",
    "India\n",
    "</font>\n",
    "</h1>\n",
    "\n",
    "<p style=\"direction: ltr; text-align: justify; line-height: 200%; font-family: Arial; font-size: medium\">\n",
    "<font face=\"Arial\" size=3>\n",
    "In this exercise, we will explore a dataset of Indian cuisine and examine how much Indians enjoy spicy flavors. Additionally, we will identify some of their slowest-cooked dishes.\n",
    "</font>\n",
    "</p>\n",
    "</font>\n",
    "</h1>\n",
    "<p style=\"text-align: center;\">\n",
    "<img src=\"data/img_india.png\" alt=\"India\" style=\"max-width: 100%; height: auto;\">\n",
    "</p>\n"
   ]
  },
  {
   "attachments": {},
   "cell_type": "markdown",
   "id": "f7cd7632",
   "metadata": {},
   "source": [
    "<h2 align=\"left\" style=\"line-height:200%;font-family:Arial;color:#0099cc\">\n",
    "<font face=\"Arial\" color=\"#0099cc\">\n",
    "Dataset\n",
    "</font>\n",
    "</h2>\n",
    "\n",
    "<p style=\"direction: ltr; text-align: justify; line-height: 200%; font-family: Arial; font-size: medium\">\n",
    "<font face=\"Arial\" size=3>\n",
    "The data for this exercise is stored in the <code>data/food.csv</code> file and includes the following columns:\n",
    "</font>\n",
    "</p>\n",
    "\n",
    "<center>\n",
    "<div style=\"direction: ltr; line-height: 200%; font-family: Arial; font-size: medium\">\n",
    "<font face=\"Arial\" size=3>\n",
    "\n",
    "<table>\n",
    "  <tr>\n",
    "    <th>Column</th>\n",
    "    <th>Description</th>\n",
    "  </tr>\n",
    "  <tr>\n",
    "    <td><code>name</code></td>\n",
    "    <td>Name of the dish</td>\n",
    "  </tr>\n",
    "  <tr>\n",
    "    <td><code>ingredients</code></td>\n",
    "    <td>Ingredients of the dish</td>\n",
    "  </tr>\n",
    "  <tr>\n",
    "    <td><code>diet</code></td>\n",
    "    <td>Has two values: <code>vegetarian</code> and <code>non vegetarian</code>, indicating whether the dish is suitable for vegetarians or not.</td>\n",
    "  </tr>\n",
    "  <tr>\n",
    "    <td><code>prep_time</code></td>\n",
    "    <td>Time taken to prepare the dish, excluding cooking time. For example, time spent peeling or washing ingredients is included in this column.</td>\n",
    "  </tr>\n",
    "  <tr>\n",
    "    <td><code>cook_time</code></td>\n",
    "    <td>Cooking time of the dish</td>\n",
    "  </tr>\n",
    "  <tr>\n",
    "    <td><code>flavor_profile</code></td>\n",
    "    <td>Indicates the flavor of the dish. It has 4 values: <code>spicy</code> for spicy dishes, <code>sweet</code> for sweet dishes, <code>bitter</code> for bitter dishes, and <code>sour</code> for sour dishes.</td>\n",
    "  </tr>\n",
    "  <tr>\n",
    "    <td><code>course</code></td>\n",
    "    <td>Indicates whether the dish is a main course, snack, dessert, or appetizer.</td>\n",
    "  </tr>\n",
    "  <tr>\n",
    "    <td><code>state</code></td>\n",
    "    <td>The state where the dish originates or is particularly famous.</td>\n",
    "  </tr>\n",
    "  <tr>\n",
    "    <td><code>region</code></td>\n",
    "    <td>The region where the state (<code>state</code>) is located.</td>\n",
    "  </tr>\n",
    "</table>\n",
    "\n",
    "</font>\n",
    "</div>\n",
    "</center>"
   ]
  },
  {
   "cell_type": "code",
   "execution_count": null,
   "id": "1d2bc674",
   "metadata": {},
   "outputs": [],
   "source": [
    "import pandas as pd \n",
    "import numpy as np"
   ]
  },
  {
   "cell_type": "code",
   "execution_count": null,
   "id": "cf5dff88",
   "metadata": {},
   "outputs": [],
   "source": [
    "df = None # To-Do"
   ]
  },
  {
   "attachments": {},
   "cell_type": "markdown",
   "id": "067c1145",
   "metadata": {},
   "source": [
    "<h2 align=\"left\" style=\"line-height:200%;font-family:Arial;color:#0099cc\">\n",
    "<font face=\"Arial\" color=\"#0099cc\">\n",
    "Part 1\n",
    "</font>\n",
    "</h2>\n",
    "\n",
    "<p style=\"direction: ltr; text-align: justify; line-height: 200%; font-family: Arial; font-size: medium\">\n",
    "<font face=\"Arial\" size=3>\n",
    "We often hear that Indians love spicy food! Now, we want to verify this claim using the available dataset and determine what proportion of all dishes in this collection have a spicy flavor.<br>\n",
    "To do this, calculate the ratio of the number of spicy dishes to the total number of dishes and store it in the variable <code>spicy_ratio</code>.\n",
    "</font>\n",
    "</p>\n"
   ]
  },
  {
   "cell_type": "code",
   "execution_count": null,
   "id": "d6461854",
   "metadata": {},
   "outputs": [],
   "source": [
    "spicy_ratio = None # To-Do"
   ]
  },
  {
   "attachments": {},
   "cell_type": "markdown",
   "id": "5137d5bc",
   "metadata": {},
   "source": [
    "<h2 align=\"left\" style=\"line-height:200%;font-family:Arial;color:#0099cc\">\n",
    "<font face=\"Arial\" color=\"#0099cc\">\n",
    "Part 2\n",
    "</font>\n",
    "</h2>\n",
    "\n",
    "<p style=\"direction: ltr; text-align: justify; line-height: 200%; font-family: Arial; font-size: medium\">\n",
    "<font face=\"Arial\" size=3>\n",
    "Now, we want to identify which dishes take the longest from the start of ingredient preparation to being ready to serve.<br>\n",
    "To do this, consider the sum of the preparation time and cooking time, along with the dish name. Then, sort the data first <b>in descending order</b> by the total preparation and cooking time, and then <b>in ascending order</b> by the dish name. Store the <b>top 10 dishes</b> that take the most time (the first 10 rows) in a DataFrame in the variable <code>df_most_time_consuming</code>.\n",
    "</font>\n",
    "</p>\n",
    "\n",
    "<p style=\"direction: ltr; text-align: justify; line-height: 200%; font-family: Arial; font-size: medium\">\n",
    "<font face=\"Arial\" size=3>\n",
    "<span style=\"color:#0099cc\"><b>Note:</b></span><br>\n",
    "The format and order of the columns in the <code>df_most_time_consuming</code> DataFrame must be exactly the same as the <code>df</code> DataFrame. This means the DataFrame will have 10 rows and 9 columns.\n",
    "</font>\n",
    "</p>"
   ]
  },
  {
   "cell_type": "code",
   "execution_count": null,
   "id": "ae1f814c",
   "metadata": {},
   "outputs": [],
   "source": [
    "df_most_time_consuming = None # To-Do"
   ]
  },
  {
   "metadata": {},
   "cell_type": "markdown",
   "source": [
    "<p style=\"direction: ltr; text-align: justify; line-height: 200%; font-family: Arial; font-size: medium\">\n",
    "<font face=\"Arial\" size=3>\n",
    "<span style=\"color:green\"><b>Hint:</b></span><br>\n",
    "<b>How can I calculate the preparation time for each dish?</b><br>\n",
    "To do this, simply add the values of the <code>prep_time</code> and <code>cook_time</code> columns for each row. You can create a new column in the DataFrame to store the sum of these two values and proceed with the next steps using this column. Don’t forget to remove this column from the DataFrame at the end.<br>\n",
    "<b>How can I sort based on two columns?</b><br>\n",
    "To sort a DataFrame based on multiple columns, pass a list of column names to the <code>by</code> parameter of the sort function, where the order of the columns in the list matters. (The first column in the list has higher priority, meaning sorting is performed based on this column first, and if values are equal, sorting is done based on the next column in the list.) To specify the sort order, pass a list to the <code>ascending</code> parameter corresponding to the column order.<br>\n",
    "For example, see the code below:<br>\n",
    "</font>\n",
    "</p>\n",
    "\n",
    "<pre><code>\n",
    "sort_values(by=['col1','col2'], ascending=[False,True])\n",
    "</code></pre>\n",
    "\n",
    "<p style=\"direction: ltr; text-align: justify; line-height: 200%; font-family: Arial; font-size: medium\">\n",
    "<font face=\"Arial\" size=3>\n",
    "<b>How can I find the 10 dishes with the longest preparation time?</b><br>\n",
    "After sorting the DataFrame in descending order based on preparation time, you can use the <code>head</code> function as shown below:<br>\n",
    "</font>\n",
    "</p>\n",
    "\n",
    "<pre><code>\n",
    "df_most_time_consuming = df_most_time_consuming.head(10)\n",
    "</code></pre>"
   ],
   "id": "5420a987c2e243a4"
  }
 ],
 "metadata": {
  "kernelspec": {
   "display_name": "Python 3",
   "language": "python",
   "name": "python3"
  },
  "language_info": {
   "codemirror_mode": {
    "name": "ipython",
    "version": 3
   },
   "file_extension": ".py",
   "mimetype": "text/x-python",
   "name": "python",
   "nbconvert_exporter": "python",
   "pygments_lexer": "ipython3",
   "version": "3.8.0"
  },
  "vscode": {
   "interpreter": {
    "hash": "44e7e1b8fa2096bd5707ed7fd18b1724a2db25f4c565a7673f8b6e7bfc49d25d"
   }
  }
 },
 "nbformat": 4,
 "nbformat_minor": 5
}
