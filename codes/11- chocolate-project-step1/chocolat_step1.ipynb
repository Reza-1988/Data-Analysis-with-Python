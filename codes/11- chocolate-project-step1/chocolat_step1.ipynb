{
 "cells": [
  {
   "attachments": {},
   "cell_type": "markdown",
   "metadata": {},
   "source": [
    "<div style=\"text-align: center;\">\n",
    "  <h1>Large Shipment - Step 1</h1>\n",
    "  <img src=\"data/img.png\" alt=\"image\">\n",
    "</div>\n",
    "\n",
    "In the first step of the project, suppose we have received a large shipment of foreign chocolates, and fortunately, the seller has provided us with a list of detailed specifications for each chocolate. Now, we aim to examine these specifications further and improve the structure for storing this information."
   ]
  },
  {
   "attachments": {},
   "cell_type": "markdown",
   "metadata": {},
   "source": [
    "## Dataset\n",
    "\n",
    "The information about the chocolates is provided in a file named <code>chocolate.csv</code>. First, let's read this information into a dataframe using the cell below.\n",
    "\n"
   ]
  },
  {
   "cell_type": "code",
   "execution_count": null,
   "metadata": {
    "colab": {
     "base_uri": "https://localhost:8080/",
     "height": 223
    },
    "executionInfo": {
     "elapsed": 371,
     "status": "ok",
     "timestamp": 1627552541479,
     "user": {
      "displayName": "Parto Shahroodi",
      "photoUrl": "https://lh3.googleusercontent.com/a-/AOh14GgVRnuIKtxzeAYtLGbbb7NnFc-HXqxuTOJ6OMw7uw=s64",
      "userId": "08853559073941204272"
     },
     "user_tz": -270
    },
    "id": "JUEwzKpr2RUk",
    "outputId": "684b5cff-21a6-46d3-8084-e090addb1731"
   },
   "outputs": [],
   "source": [
    "import numpy as np\n",
    "import pandas as pd\n",
    "\n",
    "df = pd.read_csv('./data/chocolate.csv')\n",
    "df.head()"
   ]
  },
  {
   "attachments": {},
   "cell_type": "markdown",
   "metadata": {},
   "source": [
    "## Part One\n",
    "\n",
    "To understand the large volume of chocolates and their detailed specifications, store and print the dimensions (shape) and column names (columns) of this dataset in the variables below:\n"
   ]
  },
  {
   "cell_type": "code",
   "execution_count": null,
   "metadata": {
    "colab": {
     "base_uri": "https://localhost:8080/"
    },
    "executionInfo": {
     "elapsed": 442,
     "status": "ok",
     "timestamp": 1627552552538,
     "user": {
      "displayName": "Parto Shahroodi",
      "photoUrl": "https://lh3.googleusercontent.com/a-/AOh14GgVRnuIKtxzeAYtLGbbb7NnFc-HXqxuTOJ6OMw7uw=s64",
      "userId": "08853559073941204272"
     },
     "user_tz": -270
    },
    "id": "IPLy4mOvN4LB",
    "outputId": "6f1dcea8-4503-4063-a268-1a5891412bf1"
   },
   "outputs": [],
   "source": [
    "s = None # To-Do (shape)\n",
    "cols = None # To-Do (columns)\n",
    "print(s)\n",
    "print(cols)"
   ]
  },
  {
   "cell_type": "markdown",
   "metadata": {},
   "source": [
    "💥 **In Part One, what format should I use to store the dimensions and column names?**\n",
    "\n",
    "In this part, you can assign the variables `s` and `cols` with any structure,\n",
    "as they will ultimately be converted to NumPy arrays when saved to a file.\n",
    "However, the standard format for these two variables would look something like the following:\n",
    "\n",
    "```python\n",
    "Index(['Col1', 'Col2', ...], dtype='object')\n",
    "```\n",
    "\n",
    "Note that the numbers 100 and 10 are just examples, but they represent the number of rows and columns of the dataframe, respectively.\n"
   ]
  },
  {
   "attachments": {},
   "cell_type": "markdown",
   "metadata": {
    "id": "phQ8lLXVhTuc"
   },
   "source": [
    "## Part Two\n",
    "\n",
    "As you noticed, some column names contain the character `\\n`,\n",
    "which is used to create a new line but is not displayed as such here.\n",
    "To tidy up the dataset, modify the column names to replace the `\\n` character with a space."
   ]
  },
  {
   "cell_type": "code",
   "execution_count": null,
   "metadata": {
    "executionInfo": {
     "elapsed": 405,
     "status": "ok",
     "timestamp": 1627552932160,
     "user": {
      "displayName": "Parto Shahroodi",
      "photoUrl": "https://lh3.googleusercontent.com/a-/AOh14GgVRnuIKtxzeAYtLGbbb7NnFc-HXqxuTOJ6OMw7uw=s64",
      "userId": "08853559073941204272"
     },
     "user_tz": -270
    },
    "id": "J6w12_CDsUaK"
   },
   "outputs": [],
   "source": [
    "df.columns = None # To-Do"
   ]
  },
  {
   "attachments": {},
   "cell_type": "markdown",
   "metadata": {
    "id": "AhempoDxhYUd"
   },
   "source": [
    "Using the `info()` command, we can view general information about the dataframe and the types of its columns.\n",
    "We suggest that before proceeding, you use this command to take a look at the dataframe and analyze it a bit."
   ]
  },
  {
   "cell_type": "code",
   "execution_count": null,
   "metadata": {
    "colab": {
     "base_uri": "https://localhost:8080/"
    },
    "executionInfo": {
     "elapsed": 452,
     "status": "ok",
     "timestamp": 1626769058517,
     "user": {
      "displayName": "Parto Shahroodi",
      "photoUrl": "https://lh3.googleusercontent.com/a-/AOh14GgVRnuIKtxzeAYtLGbbb7NnFc-HXqxuTOJ6OMw7uw=s64",
      "userId": "08853559073941204272"
     },
     "user_tz": -270
    },
    "id": "cGLlHp8C4mkT",
    "outputId": "71575d1a-8c77-4437-c8b2-86b149100891"
   },
   "outputs": [],
   "source": [
    "df.info()"
   ]
  },
  {
   "attachments": {},
   "cell_type": "markdown",
   "metadata": {},
   "source": [
    "## Part Three\n",
    "\n",
    "As you may have noticed, all columns containing string values (e.g., the `Company` column) are stored as `object`.\n",
    "Since there are no missing values (which you will learn about in the next chapter),\n",
    "there is no need for these columns to remain as `object`.\n",
    "For ease of calculations, convert these columns to the string type and use the `info` command to verify that the change was successful.\n",
    "\n",
    "💡 **Hint 1:**\n",
    "To convert the type of a column to another type, you can use the `astype` function. For example:\n",
    "\n",
    "```python\n",
    "df['col'] = df['col'].astype('int64')\n",
    "```\n",
    "\n",
    "💡 **Hint 2:**\n",
    "Ensure that you convert the column type to `string`, not `str`,\n",
    "as using `str` will result in the column type remaining as `object`.\n",
    "To verify your answer, you can use `df.info()` to check the column type after the change.\n",
    "\n",
    "\n",
    "💥 **How can I write a condition to detect if a column is of type `object`?**<br>\n",
    "Suppose the column name is stored in the variable `i`. You can write:\n",
    "\n",
    "```python\n",
    "if df.dtypes[i] == 'O':\n",
    "```"
   ]
  },
  {
   "cell_type": "code",
   "execution_count": null,
   "metadata": {
    "colab": {
     "base_uri": "https://localhost:8080/"
    },
    "executionInfo": {
     "elapsed": 456,
     "status": "ok",
     "timestamp": 1626769062163,
     "user": {
      "displayName": "Parto Shahroodi",
      "photoUrl": "https://lh3.googleusercontent.com/a-/AOh14GgVRnuIKtxzeAYtLGbbb7NnFc-HXqxuTOJ6OMw7uw=s64",
      "userId": "08853559073941204272"
     },
     "user_tz": -270
    },
    "id": "OozOj4u-5KEd",
    "outputId": "a314621d-0e65-4bd2-ce71-ae99d26b0f92"
   },
   "outputs": [],
   "source": [
    "# To-Do\n",
    "df.info()"
   ]
  },
  {
   "attachments": {},
   "cell_type": "markdown",
   "metadata": {},
   "source": [
    "## Part Four\n",
    "\n",
    "The next issue is the column for the percentage of pure cocoa, `Cocoa Percent`.\n",
    "As you can see, this column is currently stored as a string,\n",
    "but its values actually represent numerical data.\n",
    "To better normalize this column, find a way to remove the percentage sign (`%`) from the values\n",
    "and then convert the column type to `float`.\n",
    "\n",
    "💬 **Note:**\n",
    "In this part, you only need to remove the percentage sign (`%`) and ensure the column type is converted to `float`.\n",
    "For example, the value `63%` should be converted to something like `63.0`.\n",
    "\n",
    "💡 **Hint:**\n",
    "To remove the percentage sign, you can use the `str.replace` function.\n"
   ]
  },
  {
   "cell_type": "code",
   "execution_count": null,
   "metadata": {
    "colab": {
     "base_uri": "https://localhost:8080/",
     "height": 223
    },
    "executionInfo": {
     "elapsed": 449,
     "status": "ok",
     "timestamp": 1626769123179,
     "user": {
      "displayName": "Parto Shahroodi",
      "photoUrl": "https://lh3.googleusercontent.com/a-/AOh14GgVRnuIKtxzeAYtLGbbb7NnFc-HXqxuTOJ6OMw7uw=s64",
      "userId": "08853559073941204272"
     },
     "user_tz": -270
    },
    "id": "HXZtM_L--I9o",
    "outputId": "4246a6bd-a533-460b-e5b4-ad85ae5fbc2e"
   },
   "outputs": [],
   "source": [
    "df['Cocoa Percent'] = None # To-Do"
   ]
  },
  {
   "attachments": {},
   "cell_type": "markdown",
   "metadata": {},
   "source": [
    "## Analyzing the Frequency of Cocoa Percentage\n",
    "\n",
    "In many cases, data visualization can quickly reveal important insights. For example, to examine the cocoa percentage in different chocolates, we can use a histogram chart.\n",
    " <br>\n",
    "Don't panic! 😉 You'll soon learn about various types of charts and how to create them in the \"Data Visualization\"."
   ]
  },
  {
   "cell_type": "code",
   "execution_count": null,
   "metadata": {},
   "outputs": [],
   "source": [
    "import seaborn as sns\n",
    "sns.displot(df, x = 'Cocoa Percent', bins = 30)"
   ]
  },
  {
   "cell_type": "markdown",
   "metadata": {},
   "source": [
    "By examining the chart above, it is evident that a large percentage of chocolates have a cocoa content of 70%.\n",
    "\n",
    "⚠️ **Be careful:**\n",
    "Why does running the cell for plotting the chart result in an error?<br>\n",
    "Please ensure that the `seaborn` library is installed in your working environment.\n",
    "If it is not installed, you can install it using the following code:\n",
    "\n",
    "```bash\n",
    "pip install seaborn\n",
    "```"
   ]
  },
  {
   "attachments": {},
   "cell_type": "markdown",
   "metadata": {},
   "source": [
    "## Data Storage\n",
    "\n",
    "🎉 Now all the specifications are organized and ready for analysis.\n",
    "You need to save the preprocessed dataset in a file named `chocolate_preprocessed.csv` without the index (`index`) so that it can be used in the next step.\n"
   ]
  },
  {
   "cell_type": "code",
   "execution_count": null,
   "metadata": {
    "id": "Jl_UvfllCL4F"
   },
   "outputs": [],
   "source": [
    "# To-Do"
   ]
  }
 ],
 "metadata": {
  "colab": {
   "authorship_tag": "ABX9TyN5diGbKcT8eK/BCk7EMqAj",
   "name": "گام اول.ipynb",
   "provenance": []
  },
  "kernelspec": {
   "display_name": "Python 3 (ipykernel)",
   "language": "python",
   "name": "python3"
  },
  "language_info": {
   "codemirror_mode": {
    "name": "ipython",
    "version": 3
   },
   "file_extension": ".py",
   "mimetype": "text/x-python",
   "name": "python",
   "nbconvert_exporter": "python",
   "pygments_lexer": "ipython3",
   "version": "3.12.2"
  },
  "vscode": {
   "interpreter": {
    "hash": "6a29b8f2e1e8b11f80c3820468461bcdbea6564508a235f61a46eeb59d48b308"
   }
  }
 },
 "nbformat": 4,
 "nbformat_minor": 4
}
