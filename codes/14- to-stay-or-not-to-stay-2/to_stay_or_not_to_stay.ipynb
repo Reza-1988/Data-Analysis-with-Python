{
 "cells": [
  {
   "attachments": {},
   "cell_type": "markdown",
   "id": "4fc6a194",
   "metadata": {},
   "source": [
    "<div style=\"text-align: center;\">\n",
    "  <h1>To stay or not to stay — that is the question!</h1>\n",
    "  <img src=\"data/img.jpg\">\n",
    "</div>"
   ]
  },
  {
   "attachments": {},
   "cell_type": "markdown",
   "id": "75a70eeb",
   "metadata": {},
   "source": [
    "### Introduction\n",
    "\n",
    "In previous lessons, we learned how to remove data and handle missing values.\n",
    "Now, in this exercise, we aim to challenge our skills through practice and coding!\n",
    "\n",
    "This exercise is divided into two parts:\n",
    "- The first part is focused on **preprocessing**.\n",
    "- The second part involves **answering several analytical questions** based on the data.\n",
    "\n",
    "The file `migration_rate.csv` contains statistics for **immigration to** and **emigration from** various countries from **1990 to 2020**.\n",
    "The goal of this exercise is to analyze the **migration rate** for several countries listed in this file.\n",
    "\n",
    "In the cell below, you will find the description of the different columns in this dataset."
   ]
  },
  {
   "attachments": {},
   "cell_type": "markdown",
   "id": "5f547b9e",
   "metadata": {},
   "source": [
    "| Column Name | Column Description |\n",
    "|:-----------:|:------------------:|\n",
    "| Country     | Name of the country |\n",
    "| 1990        | Migration rate for each country in the year 1990 |\n",
    "| 1995        | Migration rate for each country in the year 1995 |\n",
    "| 2000        | Migration rate for each country in the year 2000 |\n",
    "| 2005        | Migration rate for each country in the year 2005 |\n",
    "| 2010        | Migration rate for each country in the year 2010 |\n",
    "| 2015        | Migration rate for each country in the year 2015 |\n",
    "| 2020        | Migration rate for each country in the year 2020 |\n"
   ]
  },
  {
   "attachments": {},
   "cell_type": "markdown",
   "id": "365be803",
   "metadata": {},
   "source": [
    "### Migration Rate Formula\n",
    "\n",
    "The migration rate is calculated as the ratio of the difference between immigration and emigration to the population of the country in that year, per 1,000 people. See the formula below:\n",
    "\n",
    "####\n",
    "$$\n",
    "\\frac{(\\text{migration in} - \\text{migration out}) \\times 1000}{\\text{population}}\n",
    "$$\n",
    "\n",
    "> 💬  This formula is not required for solving the problem, and is only provided for better understanding.\n",
    "\n",
    "👺 **Is the migration rate always positive?**\n",
    "No. The migration rate can be negative, zero, or positive.\n",
    "A negative rate indicates a decrease in migration, while a positive rate indicates an increase in migration."
   ]
  },
  {
   "metadata": {},
   "cell_type": "markdown",
   "source": "## Dataset",
   "id": "96bbcdec09e0d0d9"
  },
  {
   "metadata": {},
   "cell_type": "code",
   "outputs": [],
   "execution_count": 1,
   "source": [
    "import numpy as np\n",
    "import pandas as pd"
   ],
   "id": "6411a592"
  },
  {
   "cell_type": "code",
   "execution_count": null,
   "id": "0dc3abd5",
   "metadata": {},
   "outputs": [],
   "source": [
    "# TODO: read csv file in df\n",
    "df = None"
   ]
  },
  {
   "attachments": {},
   "cell_type": "markdown",
   "id": "883c753f",
   "metadata": {},
   "source": [
    "\n",
    "<p dir=rtl style=\"direction: rtl;text-align: right;line-height:200%;font-family:vazir;font-size:medium\">\n",
    "<font face=\"vazirmatn\" size=3>\n",
    "</font>\n",
    "</p>\n",
    "\n"
   ]
  },
  {
   "attachments": {},
   "cell_type": "markdown",
   "id": "6ef94595",
   "metadata": {},
   "source": [
    "## Part One: Preprocessing\n",
    "\n",
    "Before performing any analysis, you need to handle missing values in the dataset and remove some data.\n",
    "\n",
    "Follow the steps below in the preprocessing stage:\n",
    "\n",
    "- Permanently remove countries from the dataset if their migration rate is missing for all 7 years (i.e., no migration data is recorded for any year).\n",
    "\n",
    "- For countries that are missing data for some years, fill the missing values with the **mean migration rate of that specific country**.\n",
    "  For example, if a country’s migration rates from 1995 to 2020 are:\n",
    "  `-5.2`, `-3.4`, `-0.7`, `0.9`, `1.3`, `2.5`,\n",
    "  then the missing value for 1990 should be filled with `-0.76`, which is the average of the available values."
   ]
  },
  {
   "attachments": {},
   "cell_type": "markdown",
   "id": "e781cde6",
   "metadata": {},
   "source": [
    "### Step One of Preprocessing\n",
    "\n",
    "Permanently remove countries from the dataset if their migration rate is missing for all 7 years (i.e., no migration data is recorded for any year)."
   ]
  },
  {
   "cell_type": "markdown",
   "id": "7155eeca",
   "metadata": {},
   "source": [
    "💡 **Hint:** <br>\n",
    "To remove rows that have no recorded data, you should use the `thresh` argument in the `drop` function.\n",
    "\n",
    "The value you pass to this argument is an integer that specifies the minimum number of non-null values required in a row.\n",
    "This means that if the number of null values in a row exceeds this threshold, the row will be dropped.\n",
    "Note that each row in this DataFrame contains at least one value: the country name.\n"
   ]
  },
  {
   "cell_type": "code",
   "execution_count": null,
   "id": "35a42ee5",
   "metadata": {},
   "outputs": [],
   "source": [
    "# TODO: drop some rows"
   ]
  },
  {
   "metadata": {},
   "cell_type": "markdown",
   "source": [
    "👺 **Why are rows with some non-null values still being dropped?**\n",
    "\n",
    "One of the most common mistakes in this question is related to the `drop` function and the `thresh` argument.\n",
    "For example, if `thresh` is set to 3, only rows with at least 3 non-null values will be retained.\n",
    "\n",
    "In this question, since each row also contains a country name,\n",
    "you should set the `thresh` value such that all rows with **at least one valid data point** (in addition to the country name) are kept."
   ],
   "id": "f0c2e840dc414532"
  },
  {
   "attachments": {},
   "cell_type": "markdown",
   "id": "ecd9f826",
   "metadata": {},
   "source": [
    "### Preprocessing Step 2\n",
    "\n",
    "Fill in the missing values for countries that have only **some** migration data missing\n",
    "by replacing them with the **mean migration rate for that specific country**.\n",
    "\n",
    "For example, if a country's migration rates from 1995 to 2020 are:\n",
    "`5.2`, `3.4`, `0.7`, `0.9`, `1.3`, and `2.5`,\n",
    "then the missing value for the year 1990 should be filled with the average of these six values: `0.76`.\n",
    "\n",
    "> 💬 This ensures that no missing values remain for countries with at least some available data."
   ]
  },
  {
   "cell_type": "code",
   "execution_count": null,
   "id": "3d1d5777",
   "metadata": {},
   "outputs": [],
   "source": [
    "# TODO: fill null values of rows"
   ]
  },
  {
   "metadata": {},
   "cell_type": "markdown",
   "source": [
    "👺 **Why do I get an error when calculating the mean?**\n",
    "\n",
    "Note that the `Country` column contains string values,\n",
    "and it should not be included when calculating the mean.\n",
    "For example, you can use the following code:\n",
    "\n",
    "```python\n",
    "df.drop(['Country'], axis=1).apply(lambda x: x.mean(), axis=1)\n",
    "```"
   ],
   "id": "4549ad06ecef27e4"
  },
  {
   "attachments": {},
   "cell_type": "markdown",
   "id": "8818886d",
   "metadata": {},
   "source": [
    "After completing both preprocessing steps,\n",
    "the number of missing values in **all columns** should be **zero**."
   ]
  },
  {
   "cell_type": "code",
   "execution_count": null,
   "id": "33d43dac",
   "metadata": {},
   "outputs": [],
   "source": [
    "df.isna().sum()"
   ]
  },
  {
   "attachments": {},
   "cell_type": "markdown",
   "id": "7dc2ab30",
   "metadata": {},
   "source": [
    "## Part Two: Analysis\n",
    "\n",
    "After completing the two preprocessing steps, answer the following questions.\n",
    "\n",
    "By responding to these questions, we aim to gain clear insights into the migration trends in various countries."
   ]
  },
  {
   "attachments": {},
   "cell_type": "markdown",
   "id": "89d472c5",
   "metadata": {},
   "source": [
    "### Question 1\n",
    "\n",
    "In the year 2020, find the **names** of the top three countries with the highest immigration rate.\n",
    "Store your answer in the list `top_countries`.\n",
    "The first, second, and third elements of the list should correspond to the countries ranked 1st, 2nd, and 3rd in immigration rate, respectively."
   ]
  },
  {
   "cell_type": "code",
   "execution_count": null,
   "id": "c210f7d1",
   "metadata": {},
   "outputs": [],
   "source": [
    "# TODO: find the top 3 countries\n",
    "top_countries = None\n",
    "print(top_countries)"
   ]
  },
  {
   "attachments": {},
   "cell_type": "markdown",
   "id": "1310dcec",
   "metadata": {},
   "source": [
    "### Question 2\n",
    "\n",
    "Calculate the average migration rate of **Iran** over this 30-year period and store the result in the variable `iran_mean`.\n",
    "The type of this variable should be `numpy.float64`.\n",
    "\n",
    "💬 **Note:** The name of Iran in the dataset is written as `Iran (Islamic Republic of)`."
   ]
  },
  {
   "cell_type": "code",
   "execution_count": null,
   "id": "56df3669",
   "metadata": {},
   "outputs": [],
   "source": [
    "# TODO: find iran_mean\n",
    "iran_mean = None\n",
    "print(iran_mean)"
   ]
  },
  {
   "attachments": {},
   "cell_type": "markdown",
   "id": "b4572529",
   "metadata": {},
   "source": [
    "### Question 3\n",
    "\n",
    "Write the **name** of the country that has experienced the highest growth over this 30-year period in the variable `highest_growth`.\n",
    "This variable should be of type *str*.\n",
    "By growth, we mean the difference between the migration rate in 2020 and that in 1990."
   ]
  },
  {
   "cell_type": "code",
   "execution_count": null,
   "id": "fcbf7a10",
   "metadata": {},
   "outputs": [],
   "source": [
    "# TODO: find highest_growth\n",
    "highest_growth = None\n",
    "print(highest_growth)"
   ]
  }
 ],
 "metadata": {
  "kernelspec": {
   "display_name": "p13",
   "language": "python",
   "name": "python3"
  },
  "language_info": {
   "codemirror_mode": {
    "name": "ipython",
    "version": 3
   },
   "file_extension": ".py",
   "mimetype": "text/x-python",
   "name": "python",
   "nbconvert_exporter": "python",
   "pygments_lexer": "ipython3",
   "version": "3.13.0"
  }
 },
 "nbformat": 4,
 "nbformat_minor": 5
}
