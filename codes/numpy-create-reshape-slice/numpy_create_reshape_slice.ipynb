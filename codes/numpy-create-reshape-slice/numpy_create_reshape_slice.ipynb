{
 "cells": [
  {
   "cell_type": "markdown",
   "metadata": {},
   "source": [
    "<h1 style=\"line-height:200%; font-family:Roboto, sans-serif; color:#0099cc; text-align:center\">\n",
    "    Creating, Reshaping, and Slicing Arrays\n",
    "</h1>\n"
   ]
  },
  {
   "attachments": {},
   "cell_type": "markdown",
   "metadata": {},
   "source": [
    "<p style=\"direction: ltr; text-align: justify; line-height: 200%; font-family: Arial; font-size: medium\">\n",
    "<font face=\"Arial\" size=3>\n",
    "In this exercise, we first create several arrays. Then, we reshape their dimensions and create new arrays. Finally, using the <code>slicing</code> feature of NumPy, we slice parts of the arrays. To earn full marks for this question, you must correctly obtain all the variables.\n",
    "</font>\n",
    "</p>"
   ]
  },
  {
   "cell_type": "code",
   "execution_count": null,
   "metadata": {},
   "outputs": [],
   "source": [
    "import numpy as np"
   ]
  },
  {
   "attachments": {},
   "cell_type": "markdown",
   "metadata": {},
   "source": [
    "<h2 align=\"left\" style=\"line-height:200%;font-family:Arial;color:#0099cc\">\n",
    "<font face=\"Arial\" color=\"#0099cc\">\n",
    "Part One: Creating Arrays\n",
    "</font>\n",
    "</h2>\n"
   ]
  },
  {
   "attachments": {},
   "cell_type": "markdown",
   "metadata": {},
   "source": [
    "<p style=\"direction: ltr; text-align: justify; line-height: 200%; font-family: Arial; font-size: medium\">\n",
    "<font face=\"Arial\" size=3>\n",
    "Create a one-dimensional NumPy array named <code>a</code> that contains the numbers from 1 to 64. Both 1 and 64 should be included.\n",
    "</font>\n",
    "</p>"
   ]
  },
  {
   "cell_type": "code",
   "execution_count": null,
   "metadata": {},
   "outputs": [],
   "source": [
    "a = None # To-Do"
   ]
  },
  {
   "attachments": {},
   "cell_type": "markdown",
   "metadata": {},
   "source": [
    "<p style=\"direction: ltr; text-align: justify; line-height: 200%; font-family: Arial; font-size: medium\">\n",
    "<font face=\"Arial\" size=3>\n",
    "Using NumPy's universal functions, create an array <code>b</code> that contains the sine of the values stored in the array <code>a</code>.\n",
    "</font>\n",
    "</p>"
   ]
  },
  {
   "cell_type": "code",
   "execution_count": null,
   "metadata": {},
   "outputs": [],
   "source": [
    "b = None # To-Do"
   ]
  },
  {
   "attachments": {},
   "cell_type": "markdown",
   "metadata": {},
   "source": [
    "<p style=\"direction: ltr; text-align: justify; line-height: 200%; font-family: Arial; font-size: medium\">\n",
    "<font face=\"Arial\" size=3>\n",
    "Create a one-dimensional NumPy array named <code>c</code> that contains 30 equally spaced numbers between 1 and 100 (including 1 and 100). Set the data type to 16-bit floating-point <code>float16</code>.\n",
    "</font>\n",
    "<br>\n",
    "<font face=\"Arial\" size=3 color=\"green\">\n",
    "    <b>Hint:</b>\n",
    "</font>\n",
    "<font face=\"Arial\" size=3>\n",
    "You can use the <a href=\"https://numpy.org/doc/stable/reference/generated/numpy.linspace.html\"><code>linspace</code></a> function from the NumPy library for this purpose. Simply specify the start and end values of the range, as well as the desired number of elements, and the function will generate that number of equally spaced values within the specified range.\n",
    "<br><br>\n",
    "<b>How does the <code>np.linspace</code> function work?</b><br>\n",
    "This function takes the start value, end value, and the number of desired elements (<code>num</code>) as inputs and returns an array containing <code>num</code> equally spaced numbers between the start and end values (inclusive). For example:<br>\n",
    "<code>np.linspace(2.0, 3.0, num=5)</code><br>\n",
    "returns:<br>\n",
    "<code>array([2.  , 2.25, 2.5 , 2.75, 3.  ])</code><br><br>\n",
    "<b>Note:</b> Be aware that the <code>float</code> type is different from <code>float16</code>. Ensure that your array <code>c</code> has the <code>float16</code> data type.\n",
    "</font>\n",
    "</p>"
   ]
  },
  {
   "cell_type": "code",
   "execution_count": null,
   "metadata": {},
   "outputs": [],
   "source": [
    "c = None # To-Do"
   ]
  },
  {
   "attachments": {},
   "cell_type": "markdown",
   "metadata": {},
   "source": [
    "<p style=\"direction: ltr; text-align: justify; line-height: 200%; font-family: Arial; font-size: medium\">\n",
    "<font face=\"Arial\" size=3>\n",
    "Create a one-dimensional NumPy array named <code>d</code> where the first number is 125 and the last number is 1. The numbers should decrease from 125 to 1 by one.\n",
    "</font>\n",
    "</p>\n"
   ]
  },
  {
   "cell_type": "code",
   "execution_count": null,
   "metadata": {},
   "outputs": [],
   "source": [
    "d = None # To-Do"
   ]
  },
  {
   "attachments": {},
   "cell_type": "markdown",
   "metadata": {},
   "source": [
    "<h2 align=\"left\" style=\"direction: ltr; line-height: 200%; font-family: Arial; color: #0099cc\">\n",
    "<font face=\"Arial\" color=\"#0099cc\">\n",
    "Part Two: Reshaping\n",
    "</font>\n",
    "</h2>\n"
   ]
  },
  {
   "attachments": {},
   "cell_type": "markdown",
   "metadata": {},
   "source": [
    "<p style=\"direction: ltr; text-align: justify; line-height: 200%; font-family: Arial; font-size: medium\">\n",
    "<font face=\"Arial\" size=3>\n",
    "In this section, you will convert the arrays <code>c</code> and <code>d</code>, which you created in the previous section, into two-dimensional and three-dimensional arrays. To do this, you need to use the <code>reshape</code> function.\n",
    "</font>\n",
    "</p>\n"
   ]
  },
  {
   "attachments": {},
   "cell_type": "markdown",
   "metadata": {},
   "source": [
    "<p style=\"direction: ltr; text-align: justify; line-height: 200%; font-family: Arial; font-size: medium\">\n",
    "<font face=\"Arial\" size=3>\n",
    "First, convert the array <code>c</code> into a two-dimensional array with a size of 5 along the first axis and a size of 6 along the second axis, and store it in the variable <code>e</code>.\n",
    "</font>\n",
    "<br>\n",
    "<font face=\"Arial\" size=3 color=\"#0099cc\">\n",
    "<b>Note:</b>\n",
    "</font>\n",
    "<font face=\"Arial\" size=3>\n",
    "Keep in mind that in all images of this exercise, each cube represents one element (a value in the array).\n",
    "</font>\n",
    "</p>\n",
    "\n",
    "\n",
    "<center>\n",
    "<div style=\"max-width: 100%\">\n",
    "<img src=\"data/e_preview.jpg\">\n",
    "</div>\n",
    "</center>"
   ]
  },
  {
   "cell_type": "code",
   "execution_count": null,
   "metadata": {},
   "outputs": [],
   "source": [
    "e = None # To-Do"
   ]
  },
  {
   "attachments": {},
   "cell_type": "markdown",
   "metadata": {},
   "source": [
    "<p style=\"direction: ltr; text-align: justify; line-height: 200%; font-family: Arial; font-size: medium\">\n",
    "<font face=\"Arial\" size=3>\n",
    "Now, convert the array <code>d</code> into a three-dimensional array with a size of 5 along each of the three axes, and store it in the variable <code>f</code>.\n",
    "</font>\n",
    "</p>\n",
    "\n",
    "<center>\n",
    "<div style=\"max-width: 600px\">\n",
    "<img src=\"data/f_preview.png\">\n",
    "</div>\n",
    "</center>\n"
   ]
  },
  {
   "cell_type": "code",
   "execution_count": null,
   "metadata": {},
   "outputs": [],
   "source": [
    "f = None # To-Do"
   ]
  },
  {
   "attachments": {},
   "cell_type": "markdown",
   "metadata": {},
   "source": [
    "<h2 align=\"left\" style=\"line-height: 200%; font-family: Arial; color: #0099cc\">\n",
    "<font face=\"Arial\" color=\"#0099cc\">\n",
    "Part Three: Slicing\n",
    "</font>\n",
    "</h2>\n"
   ]
  },
  {
   "attachments": {},
   "cell_type": "markdown",
   "metadata": {},
   "source": [
    "<p style=\"direction: ltr; text-align: justify; line-height: 200%; font-family: Arial; font-size: medium\">\n",
    "<font face=\"Arial\" size=3>\n",
    "Slice the two-dimensional array <code>e</code> as shown below and store the result in the variable <code>g</code>. Specifically, the variable <code>g</code> should only contain the elements highlighted in the matrix below, resulting in an output matrix with dimensions 3 by 3.\n",
    "</font>\n",
    "</p>\n",
    "\n",
    "<center>\n",
    "<div style=\"max-width: 600px\">\n",
    "<img src=\"data/g_preview.jpg\">\n",
    "</div>\n",
    "</center>"
   ]
  },
  {
   "cell_type": "code",
   "execution_count": null,
   "metadata": {},
   "outputs": [],
   "source": [
    "g = None # To-Do"
   ]
  },
  {
   "cell_type": "markdown",
   "metadata": {},
   "source": [
    "<p style=\"direction: ltr; text-align: justify; line-height: 200%; font-family: Arial; font-size: medium\">\n",
    "<font face=\"Arial\" size=3>\n",
    "<b>Note:</b> that each cube in the figures of this exercise represents a single element (value) of the array.\n",
    "<ul>\n",
    "    <li>In the figure related to part c, each element is assigned a different color to help you clearly observe the order of elements after reshaping.</li>\n",
    "    <li>In the figure related to part d, the different colors do not indicate identical values; they are used solely to better illustrate the depth (third axis).</li>\n",
    "    <li>In the figure related to part g, the array <code>e</code> is displayed as a matrix, with the elements to be stored in the array <code>g</code> highlighted in bold.</li>\n",
    "    <li>In the figure related to part h, the requested elements are also highlighted in bold.</li>\n",
    "</ul>\n",
    "</font>\n",
    "</p>"
   ]
  },
  {
   "attachments": {},
   "cell_type": "markdown",
   "metadata": {},
   "source": [
    "<p style=\"direction: ltr; text-align: justify; line-height: 200%; font-family: Arial; font-size: medium\">\n",
    "<font face=\"Arial\" size=3>\n",
    "Slice the three-dimensional array <code>f</code> as shown below and store the result in the variable <code>h</code>. The output array will be three-dimensional and contain 8 elements (each cube represents an element of the array, and a total of 8 highlighted cubes are shown).\n",
    "</font>\n",
    "</p>\n",
    "\n",
    "<center>\n",
    "<div style=\"max-width: 600px\">\n",
    "<img src=\"data/h_preview.png\">\n",
    "</div>\n",
    "</center>\n",
    "\n",
    "<p style=\"direction: ltr; text-align: justify; line-height: 200%; font-family: Arial; font-size: medium\">\n",
    "<font face=\"Arial\" size=3>\n",
    "To determine which indices of the array to select, pay attention to the direction of movement in a three-dimensional NumPy array as shown in the image below.\n",
    "</font>\n",
    "</p>\n",
    "\n",
    "<center>\n",
    "<div style=\"max-width: 600px\">\n",
    "<img src=\"data/array_direction.png\">\n",
    "</div>\n",
    "</center>"
   ]
  },
  {
   "cell_type": "code",
   "execution_count": null,
   "metadata": {},
   "outputs": [],
   "source": [
    "h = None # To-Do"
   ]
  },
  {
   "cell_type": "markdown",
   "metadata": {},
   "source": [
    "<p style=\"direction: ltr; text-align: justify; line-height: 200%; font-family: Arial; font-size: medium\">\n",
    "<font face=\"Arial\" size=3>\n",
    "<h3><b>Note:</b> If you have a trouble to understanding or implementing the array <code>h</code>.</h3>\n",
    "We suggest proceeding through each axis step-by-step based on the provided image. Our goal is to isolate the highlighted elements. On the first axis (<code>axis=0</code>), we observe that the desired elements are located in the first two cases (the first two rows). Thus, from the first axis, we need to extract only the first two elements. Similarly, on the second axis (<code>axis=1</code>), the desired elements are in the last two cases (the last two columns), and on the third axis (<code>axis=2</code>), the desired elements are in the first two cases (the first two depths). We recommend using the animated image provided in the \"Working with Arrays\" lesson to assist with solving this part.\n",
    "</font>\n",
    "</p>\n",
    "\n",
    "<center>\n",
    "<div style=\"max-width: 600px\">\n",
    "<img src=\"data/axis.gif\">\n",
    "</div>\n",
    "</center>"
   ]
  }
 ],
 "metadata": {
  "interpreter": {
   "hash": "243856ee5aa5cfcf7c7fc5e27ace1f0d0cf471c324fa5d741db742eb1bed0a33"
  },
  "kernelspec": {
   "display_name": "Python 3 (ipykernel)",
   "language": "python",
   "name": "python3"
  },
  "language_info": {
   "codemirror_mode": {
    "name": "ipython",
    "version": 3
   },
   "file_extension": ".py",
   "mimetype": "text/x-python",
   "name": "python",
   "nbconvert_exporter": "python",
   "pygments_lexer": "ipython3",
   "version": "3.12.2"
  }
 },
 "nbformat": 4,
 "nbformat_minor": 4
}
