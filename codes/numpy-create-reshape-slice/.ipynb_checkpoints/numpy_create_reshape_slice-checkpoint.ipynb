{
 "cells": [
  {
   "cell_type": "markdown",
   "metadata": {},
   "source": [
    "<h1 style=\"line-height:200%; font-family:Roboto, sans-serif; color:#0099cc; text-align:center\">\n",
    "    Creating, Reshaping, and Slicing Arrays\n",
    "</h1>\n"
   ]
  },
  {
   "attachments": {},
   "cell_type": "markdown",
   "metadata": {},
   "source": [
    "<p style=\"direction: ltr; text-align: justify; line-height: 200%; font-family: Arial; font-size: medium\">\n",
    "<font face=\"Arial\" size=3>\n",
    "In this exercise, we first create several arrays. Then, we reshape their dimensions and create new arrays. Finally, using the <code>slicing</code> feature of NumPy, we slice parts of the arrays. To earn full marks for this question, you must correctly obtain all the variables.\n",
    "</font>\n",
    "</p>"
   ]
  },
  {
   "cell_type": "code",
   "execution_count": null,
   "metadata": {},
   "outputs": [],
   "source": [
    "import numpy as np"
   ]
  },
  {
   "attachments": {},
   "cell_type": "markdown",
   "metadata": {},
   "source": [
    "<h2 align=\"left\" style=\"line-height:200%;font-family:Arial;color:#0099cc\">\n",
    "<font face=\"Arial\" color=\"#0099cc\">\n",
    "Part One: Creating Arrays\n",
    "</font>\n",
    "</h2>\n"
   ]
  },
  {
   "attachments": {},
   "cell_type": "markdown",
   "metadata": {},
   "source": [
    "<p style=\"direction: ltr; text-align: justify; line-height: 200%; font-family: Arial; font-size: medium\">\n",
    "<font face=\"Arial\" size=3>\n",
    "Create a one-dimensional NumPy array named <code>a</code> that contains the numbers from 1 to 64. Both 1 and 64 should be included.\n",
    "</font>\n",
    "</p>"
   ]
  },
  {
   "cell_type": "code",
   "execution_count": null,
   "metadata": {},
   "outputs": [],
   "source": [
    "a = None # To-Do"
   ]
  },
  {
   "attachments": {},
   "cell_type": "markdown",
   "metadata": {},
   "source": [
    "<p style=\"direction: ltr; text-align: justify; line-height: 200%; font-family: Arial; font-size: medium\">\n",
    "<font face=\"Arial\" size=3>\n",
    "Using NumPy's universal functions, create an array <code>b</code> that contains the sine of the values stored in the array <code>a</code>.\n",
    "</font>\n",
    "</p>"
   ]
  },
  {
   "cell_type": "code",
   "execution_count": null,
   "metadata": {},
   "outputs": [],
   "source": [
    "b = None # To-Do"
   ]
  },
  {
   "attachments": {},
   "cell_type": "markdown",
   "metadata": {},
   "source": [
    "<p style=\"direction: ltr; text-align: justify; line-height: 200%; font-family: Arial; font-size: medium\">\n",
    "<font face=\"Arial\" size=3>\n",
    "Create a one-dimensional NumPy array named <code>c</code> that contains 30 equally spaced numbers between 1 and 100 (including both 1 and 100). Set the data type to 16-bit floating-point <code>float16</code>.\n",
    "</font>\n",
    "<br>\n",
    "<font face=\"Arial\" size=3 color=\"green\">\n",
    "<b>Hint:</b>\n",
    "</font>\n",
    "<font face=\"Arial\" size=3>\n",
    "You can use the <a href=\"https://numpy.org/doc/stable/reference/generated/numpy.linspace.html\"><code>linspace</code></a> function from the NumPy library. Simply specify the start and end values of the range and the desired number of elements, and it will generate that number of equally spaced values within the specified range.\n",
    "<br><br>\n",
    "<b>How does the <code>np.linspace</code> function work?</b><br>\n",
    "This function takes the start value, stop value, and the number of desired elements (<code>num</code>) as inputs and returns an array of <code>num</code> equally spaced numbers between the start and stop values (inclusive). For example:\n",
    "</font>\n",
    "<br>\n",
    "<font face=\"Arial\" size=3>\n",
    "<pre>\n",
    "np.linspace(2.0, 3.0, num=5)\n",
    "</pre>\n",
    "returns:\n",
    "<pre>\n",
    "array([2.  , 2.25, 2.5 , 2.75, 3.  ])\n",
    "</pre>\n",
    "</font>\n",
    "</p>\n"
   ]
  },
  {
   "cell_type": "code",
   "execution_count": null,
   "metadata": {},
   "outputs": [],
   "source": [
    "c = None # To-Do"
   ]
  },
  {
   "attachments": {},
   "cell_type": "markdown",
   "metadata": {},
   "source": [
    "<p style=\"direction: ltr; text-align: justify; line-height: 200%; font-family: Arial; font-size: medium\">\n",
    "<font face=\"Arial\" size=3>\n",
    "Create a one-dimensional NumPy array named <code>d</code> where the first number is 125 and the last number is 1. The numbers should decrease from 125 to 1 by one.\n",
    "</font>\n",
    "</p>\n"
   ]
  },
  {
   "cell_type": "code",
   "execution_count": null,
   "metadata": {},
   "outputs": [],
   "source": [
    "d = None # To-Do"
   ]
  },
  {
   "attachments": {},
   "cell_type": "markdown",
   "metadata": {},
   "source": [
    "<h2 align=\"left\" style=\"direction: ltr; line-height: 200%; font-family: Arial; color: #0099cc\">\n",
    "<font face=\"Arial\" color=\"#0099cc\">\n",
    "Part Two: Reshaping\n",
    "</font>\n",
    "</h2>\n"
   ]
  },
  {
   "attachments": {},
   "cell_type": "markdown",
   "metadata": {},
   "source": [
    "<p style=\"direction: ltr; text-align: justify; line-height: 200%; font-family: Arial; font-size: medium\">\n",
    "<font face=\"Arial\" size=3>\n",
    "In this section, you will convert the arrays <code>c</code> and <code>d</code>, which you created in the previous section, into two-dimensional and three-dimensional arrays. To do this, you need to use the <code>reshape</code> function.\n",
    "</font>\n",
    "</p>\n"
   ]
  },
  {
   "attachments": {},
   "cell_type": "markdown",
   "metadata": {},
   "source": [
    "<p style=\"direction: ltr; text-align: justify; line-height: 200%; font-family: Arial; font-size: medium\">\n",
    "<font face=\"Arial\" size=3>\n",
    "First, convert the array <code>c</code> into a two-dimensional array with a size of 5 along the first axis and a size of 6 along the second axis, and store it in the variable <code>e</code>.\n",
    "</font>\n",
    "<br>\n",
    "<font face=\"Arial\" size=3 color=\"#0099cc\">\n",
    "<b>Note:</b>\n",
    "</font>\n",
    "<font face=\"Arial\" size=3>\n",
    "Keep in mind that in all images of this exercise, each cube represents one element (a value in the array).\n",
    "</font>\n",
    "</p>\n",
    "\n",
    "\n",
    "<center>\n",
    "<div style=\"max-width: 100%\">\n",
    "<img src=\"data/e_preview.jpg\">\n",
    "</div>\n",
    "</center>"
   ]
  },
  {
   "cell_type": "code",
   "execution_count": null,
   "metadata": {},
   "outputs": [],
   "source": [
    "e = None # To-Do"
   ]
  },
  {
   "attachments": {},
   "cell_type": "markdown",
   "metadata": {},
   "source": [
    "<p style=\"direction: ltr; text-align: justify; line-height: 200%; font-family: Arial; font-size: medium\">\n",
    "<font face=\"Arial\" size=3>\n",
    "Now, convert the array <code>d</code> into a three-dimensional array with a size of 5 along each of the three axes, and store it in the variable <code>f</code>.\n",
    "</font>\n",
    "</p>\n",
    "\n",
    "<center>\n",
    "<div style=\"max-width: 600px\">\n",
    "<img src=\"data/f_preview.png\">\n",
    "</div>\n",
    "</center>\n"
   ]
  },
  {
   "cell_type": "code",
   "execution_count": null,
   "metadata": {},
   "outputs": [],
   "source": [
    "f = None # To-Do"
   ]
  },
  {
   "attachments": {},
   "cell_type": "markdown",
   "metadata": {},
   "source": [
    "<h2 align=\"left\" style=\"line-height: 200%; font-family: Arial; color: #0099cc\">\n",
    "<font face=\"Arial\" color=\"#0099cc\">\n",
    "Part Three: Slicing\n",
    "</font>\n",
    "</h2>\n"
   ]
  },
  {
   "attachments": {},
   "cell_type": "markdown",
   "metadata": {},
   "source": [
    "<p dir=rtl style=\"direction: rtl;text-align: justify;line-height:200%;font-family:vazir;font-size:medium\">\n",
    "<font face=\"vazirmatn\" size=3>\n",
    "    آرایه‌ی دو‌بعدی <code>e</code> را مطابق شکل زیر برش دهید و در متغیر <code>g</code> ذخیره کنید. یعنی در متغیر <code>g</code> تنها باید مواردی که در ماتریس زیر پررنگ شده‌اند را خروجی دهید، یعنی ماتریس خروجی شما باید دارای ابعاد ۳ در ۳ باشد.</p>\n",
    "\n",
    "<center>\n",
    "<div style=\"max-width: 600px\">\n",
    "<img src=\"data/g_preview.jpg\">\n",
    "</div>\n",
    "</center>"
   ]
  },
  {
   "cell_type": "code",
   "execution_count": null,
   "metadata": {},
   "outputs": [],
   "source": [
    "g = None # To-Do"
   ]
  },
  {
   "attachments": {},
   "cell_type": "markdown",
   "metadata": {},
   "source": [
    "<p dir=rtl style=\"direction: rtl;text-align: justify;line-height:200%;font-family:vazir;font-size:medium\">\n",
    "<font face=\"vazirmatn\" size=3>\n",
    "    آرایه‌ی سه‌بعدی <code>f</code> را مطابق شکل زیر برش دهید و در متغیر <code>h</code> بریزید. آرایه‌ی خروجی، سه‌بعدی و دارای ۸ عدد خواهد بود (هرکدام از مکعب‌ها یک عنصر از آرایه هستند و مجموعاً ۸ مکعب پررنگ نشان داده شده است).\n",
    "</p>\n",
    "\n",
    "<center>\n",
    "<div style=\"max-width: 600px\">\n",
    "<img src=\"data/h_preview.png\">\n",
    "</div>\n",
    "</center>\n",
    "\n",
    "<p dir=rtl style=\"direction: rtl;text-align: justify;line-height:200%;font-family:vazir;font-size:medium\">\n",
    "<font face=\"vazirmatn\" size=3>برای تشخیص اینکه چه نمایه‌هایی از آرایه را باید انتخاب کنید به جهت حرکت در یک آرایه سه بعدی نامپای در عکس زیر دقت کنید</p>\n",
    "\n",
    "\n",
    "<center>\n",
    "<div style=\"max-width: 600px\">\n",
    "<img src=\"data/array_direction.png\">\n",
    "</div>\n",
    "</center>"
   ]
  },
  {
   "cell_type": "code",
   "execution_count": null,
   "metadata": {},
   "outputs": [],
   "source": [
    "h = None # To-Do"
   ]
  }
 ],
 "metadata": {
  "interpreter": {
   "hash": "243856ee5aa5cfcf7c7fc5e27ace1f0d0cf471c324fa5d741db742eb1bed0a33"
  },
  "kernelspec": {
   "display_name": "Python 3 (ipykernel)",
   "language": "python",
   "name": "python3"
  },
  "language_info": {
   "codemirror_mode": {
    "name": "ipython",
    "version": 3
   },
   "file_extension": ".py",
   "mimetype": "text/x-python",
   "name": "python",
   "nbconvert_exporter": "python",
   "pygments_lexer": "ipython3",
   "version": "3.9.7"
  }
 },
 "nbformat": 4,
 "nbformat_minor": 2
}
