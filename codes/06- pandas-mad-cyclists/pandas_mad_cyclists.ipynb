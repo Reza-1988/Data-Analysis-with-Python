{
 "cells": [
  {
   "attachments": {},
   "cell_type": "markdown",
   "metadata": {},
   "source": [
    "<h1 align=\"center\" style=\"line-height:200%;font-family:Arial;color:#0099cc\">\n",
    "<font face=\"Arial\" color=\"#0099cc\">\n",
    "Mad Cyclists\n",
    "</font>\n",
    "</h1>\n",
    "<p style=\"text-align: center;\">\n",
    "<img src=\"data/img_cyclists.jpg\" alt=\"Cyclists\" style=\"max-width: 50%; height: auto;\">\n",
    "</p>\n",
    "<p style=\"direction: ltr; text-align: justify; line-height: 200%; font-family: Arial; font-size: medium\">\n",
    "<font face=\"Arial\" size=3>\n",
    "Cyclists are very sensitive to temperature. The temperature that cyclists feel is typically related to wind speed and humidity. In this exercise, we aim to help a bike rental business by analyzing a dataset of temperatures from different days, enabling them to rent out more bikes on various days and in different temperatures.\n",
    "</font>\n",
    "</p>\n"
   ]
  },
  {
   "attachments": {},
   "cell_type": "markdown",
   "metadata": {},
   "source": [
    "<h2 align=\"left\" style=\"line-height:200%;font-family:Arial;color:#0099cc\">\n",
    "<font face=\"Arial\" color=\"#0099cc\">\n",
    "Dataset\n",
    "</font>\n",
    "</h2>\n",
    "\n",
    "<p style=\"direction: ltr; text-align: justify; line-height: 200%; font-family: Arial; font-size: medium\">\n",
    "<font face=\"Arial\" size=3>\n",
    "By running the cell below, you can read the data for this exercise as a DataFrame. This dataset includes the following columns:\n",
    "</font>\n",
    "</p>\n",
    "\n",
    "<center>\n",
    "<div style=\"direction: ltr; line-height: 200%; font-family: Arial; font-size: medium\">\n",
    "<font face=\"Arial\" size=3>\n",
    "\n",
    "<table>\n",
    "  <tr>\n",
    "    <th><b>Column</b></th>\n",
    "    <th><b>Description</b></th>\n",
    "  </tr>\n",
    "  <tr>\n",
    "    <td><code>cnt</code></td>\n",
    "    <td>Number of bikes rented on the day</td>\n",
    "  </tr>\n",
    "  <tr>\n",
    "    <td><code>t1</code></td>\n",
    "    <td>Actual measured temperature on the day</td>\n",
    "  </tr>\n",
    "  <tr>\n",
    "    <td><code>t2</code></td>\n",
    "    <td>Average temperature felt by cyclists</td>\n",
    "  </tr>\n",
    "  <tr>\n",
    "    <td><code>humidity</code></td>\n",
    "    <td>Air humidity on the day</td>\n",
    "  </tr>\n",
    "  <tr>\n",
    "    <td><code>wind_speed</code></td>\n",
    "    <td>Wind speed on the day</td>\n",
    "  </tr>\n",
    "  <tr>\n",
    "    <td><code>is_weekend</code></td>\n",
    "    <td>Whether the day is a non-working day (weekend) or not</td>\n",
    "  </tr>\n",
    "  <tr>\n",
    "    <td><code>season</code></td>\n",
    "    <td>Which season of the year</td>\n",
    "  </tr>\n",
    "</table>\n",
    "\n",
    "</font>\n",
    "</div>\n",
    "</center>"
   ]
  },
  {
   "cell_type": "code",
   "execution_count": null,
   "metadata": {},
   "outputs": [],
   "source": [
    "import pandas as pd\n",
    "import numpy as np\n",
    "\n",
    "df = pd.read_csv('bikes_borrowed.csv')\n",
    "df.head()"
   ]
  },
  {
   "cell_type": "markdown",
   "metadata": {},
   "source": [
    "<p style=\"direction: ltr; text-align: justify; line-height: 200%; font-family: Arial; font-size: medium\">\n",
    "<font face=\"Arial\" size=3>\n",
    "You will learn how to work with the <code>read_csv</code> function in future lessons, but pay attention to the use of <code>head</code> in this code. As mentioned, this function, by default, shows the top 5 rows of the DataFrame.\n",
    "</font>\n",
    "</p>"
   ]
  },
  {
   "attachments": {},
   "cell_type": "markdown",
   "metadata": {},
   "source": [
    "<h2 align=\"left\" style=\"line-height:200%;font-family:Arial;color:#0099cc\">\n",
    "<font face=\"Arial\" color=\"#0099cc\">\n",
    "Part 1\n",
    "</font>\n",
    "</h2>\n",
    "\n",
    "<p style=\"direction: ltr; text-align: justify; line-height: 200%; font-family: Arial; font-size: medium\">\n",
    "<font face=\"Arial\" size=3>\n",
    "As you can see, the column names <code>t1</code> and <code>t2</code> are too generic and do not clearly indicate the meaning of their values. Therefore, it is a good idea to rename them.<br>\n",
    "In the cell below, rename the column <code>t1</code> to <code>t_real</code> and the column <code>t2</code> to <code>t_feels_like</code>.<br>\n",
    "To rename indices or columns, you can use the <code>rename</code> function as shown in the code below:<br>\n",
    "</font>\n",
    "</p>\n",
    "\n",
    "```python\n",
    "df.rename(columns={\"col1\": \"new_col1\", \"col2\": \"new_col2\"}, inplace=True)\n",
    "```\n"
   ]
  },
  {
   "cell_type": "code",
   "execution_count": null,
   "metadata": {},
   "outputs": [],
   "source": [
    "# To-Do\n",
    "\n",
    "df.head()"
   ]
  },
  {
   "attachments": {},
   "cell_type": "markdown",
   "metadata": {},
   "source": [
    "<p style=\"direction: ltr; text-align: justify; line-height: 200%; font-family: Arial; font-size: medium\">\n",
    "<font face=\"Arial\" size=3>\n",
    "Pay attention to the <code>inplace=True</code> parameter. This parameter ensures that the <code>rename</code> function applies changes directly to the original DataFrame, instead of creating a copy of the DataFrame, modifying it, and returning the copy.<br>\n",
    "To better understand this, you can try removing this parameter and then run <code>df.head()</code> again to check whether the column names have changed or not.\n",
    "</font>\n",
    "</p>\n"
   ]
  },
  {
   "attachments": {},
   "cell_type": "markdown",
   "metadata": {},
   "source": [
    "<h2 align=\"left\" style=\"line-height:200%;font-family:Arial;color:#0099cc\">\n",
    "<font face=\"Arial\" color=\"#0099cc\">\n",
    "Part 2\n",
    "</font>\n",
    "</h2>\n",
    "\n",
    "<p style=\"direction: ltr; text-align: justify; line-height: 200%; font-family: Arial; font-size: medium\">\n",
    "<font face=\"Arial\" size=3>\n",
    "Since cyclists often complain about the weather on windy days, we decided to perform calculations only for days with wind speeds greater than 10.<br>\n",
    "Therefore, in the DataFrame <code>windy_days_df</code>, store only the data where the wind speed is greater than 10 (excluding 10 itself).\n",
    "</font>\n",
    "</p>"
   ]
  },
  {
   "cell_type": "code",
   "execution_count": null,
   "metadata": {},
   "outputs": [],
   "source": [
    "windy_days_df = None # To-Do\n",
    "\n",
    "windy_days_df.head()"
   ]
  },
  {
   "attachments": {},
   "cell_type": "markdown",
   "metadata": {},
   "source": [
    "<h2 align=\"left\" style=\"line-height:200%;font-family:Arial;color:#0099cc\">\n",
    "<font face=\"Arial\" color=\"#0099cc\">\n",
    "Part 3\n",
    "</font>\n",
    "</h2>\n",
    "\n",
    "<p style=\"direction: ltr; text-align: justify; line-height: 200%; font-family: Arial; font-size: medium\">\n",
    "<font face=\"Arial\" size=3>\n",
    "For the remaining calculations, we only need the temperature-related columns. Therefore, for the DataFrame <code>windy_days_df</code>, keep only the columns <code>humidity</code>, <code>t_feels_like</code>, <code>t_real</code>, and <code>wind_speed</code> (from the DataFrame <code>windy_days_df</code>) and ignore the remaining columns.\n",
    "</font>\n",
    "</p>\n",
    "<p style=\"direction: ltr; text-align: justify; line-height: 200%; font-family: Arial; font-size: medium\">\n",
    "<font face=\"Arial\" size=3>\n",
    "<span style=\"color:green\"><b>Hint:</b></span><br>\n",
    "Consider the order of the columns as follows:<br>\n",
    "<code>t_real, t_feels_like, humidity, wind_speed</code>\n",
    "</font>\n",
    "</p>"
   ]
  },
  {
   "cell_type": "code",
   "execution_count": null,
   "metadata": {},
   "outputs": [],
   "source": [
    "windy_days_df = None # To-Do\n",
    "\n",
    "windy_days_df.head()"
   ]
  },
  {
   "attachments": {},
   "cell_type": "markdown",
   "metadata": {},
   "source": [
    "<p style=\"direction: ltr; text-align: justify; line-height: 200%; font-family: Arial; font-size: medium\">\n",
    "<font face=\"Arial\" size=3>\n",
    "In the next steps, we want to modify some values in the DataFrame, so to ensure that the original DataFrame and <code>windy_days_df</code> remain unchanged, we need to use the <code>copy</code> function.<br>\n",
    "In general, using the assignment operator for DataFrames in pandas behaves like NumPy, creating only a new pointer to the same DataFrame. Therefore, modifying one DataFrame affects the other as well.<br>\n",
    "Using the <code>copy</code> function allows us to create a separate copy of the original DataFrame, so changes to one do not affect the other.<br>\n",
    "We will explore this feature further later, but for now, simply run the cell below.\n",
    "</font>\n",
    "</p>"
   ]
  },
  {
   "cell_type": "code",
   "execution_count": null,
   "metadata": {},
   "outputs": [],
   "source": [
    "temperature_df = windy_days_df.copy()"
   ]
  },
  {
   "attachments": {},
   "cell_type": "markdown",
   "metadata": {},
   "source": [
    "<h2 align=\"left\" style=\"line-height:200%;font-family:Arial;color:#0099cc\">\n",
    "<font face=\"Arial\" color=\"#0099cc\">\n",
    "Part 4\n",
    "</font>\n",
    "</h2>\n",
    "\n",
    "<p style=\"direction: ltr; text-align: justify; line-height: 200%; font-family: Arial; font-size: medium\">\n",
    "<font face=\"Arial\" size=3>\n",
    "To perform better analyses, we need to know how warm a day is relative to the overall temperature range. Follow these steps in order:<br>\n",
    "1. Store the maximum value of the <code>t_real</code> column in the variable <code>t_max</code>.<br>\n",
    "2. Store the minimum value of the <code>t_real</code> column in the variable <code>t_min</code>.<br>\n",
    "3. Add a new column named <code>t_percent</code> to the DataFrame. Use the following formula to normalize and calculate the relative temperature:<br>\n",
    "</font>\n",
    "</p>\n",
    "\n",
    "```python\n",
    "((temp - min) / (max - min)) * 100\n",
    "```\n",
    "\n",
    "<p style=\"direction: ltr; text-align: justify; line-height: 200%; font-family: Arial; font-size: medium\">\n",
    "<font face=\"Arial\" size=3>\n",
    "<span style=\"color:green\"><b>Hint:</b></span><br>\n",
    "You can perform all operations in this step using NumPy functions. As mentioned, pandas is built on top of NumPy, so all NumPy operations are applicable here as well.\n",
    "</font>\n",
    "</p>\n",
    "\n"
   ]
  },
  {
   "cell_type": "code",
   "execution_count": null,
   "metadata": {},
   "outputs": [],
   "source": [
    "t_max = None # To-Do\n",
    "t_min = None # To-Do\n",
    "temperature_df['t_percent'] = None # To-Do\n",
    "\n",
    "temperature_df.head()"
   ]
  },
  {
   "attachments": {},
   "cell_type": "markdown",
   "metadata": {},
   "source": [
    "<h2 align=\"left\" style=\"line-height:200%;font-family:Arial;color:#0099cc\">\n",
    "<font face=\"Arial\" color=\"#0099cc\">\n",
    "Part 5\n",
    "</font>\n",
    "</h2>\n",
    "\n",
    "<p style=\"direction: ltr; text-align: justify; line-height: 200%; font-family: Arial; font-size: medium\">\n",
    "<font face=\"Arial\" size=3>\n",
    "Now, we want to predict the felt temperature based on the available data and replace the values in the <code>t_feels_like</code> column.<br>\n",
    "Use the following formula to populate this column:<br>\n",
    "</font>\n",
    "</p>\n",
    "\n",
    "$$\n",
    "t\\_feels\\_like = t\\_real + \\frac{humidity \\cdot t\\_real}{1000} - \\frac{wind\\_speed}{10} - 2\n",
    "$$\n",
    "\n",
    "<p style=\"direction: ltr; text-align: justify; line-height: 200%; font-family: Arial; font-size: medium\">\n",
    "<font face=\"Arial\" size=3>\n",
    "<span style=\"color:orange\"><b>Reminder:</b></span>\n",
    "You can treat each DataFrame column as a separate Series and manipulate it like a NumPy array.\n",
    "</font>\n",
    "</p>"
   ]
  },
  {
   "cell_type": "code",
   "execution_count": null,
   "metadata": {},
   "outputs": [],
   "source": [
    "temperature_df['t_feels_like'] = None # To-Do\n",
    "\n",
    "temperature_df.head()"
   ]
  },
  {
   "attachments": {},
   "cell_type": "markdown",
   "metadata": {},
   "source": [
    "<p style=\"direction: ltr; text-align: justify; line-height: 200%; font-family: Arial; font-size: medium\">\n",
    "<font face=\"Arial\" size=3>\n",
    "As you can see, the values in the <code>t_feels_like</code> column have changed and are no longer the same as those in the original DataFrame. Now, let’s examine the functionality of the <code>copy</code> function. If you have followed all the steps correctly, the <code>t_feels_like</code> column in the <code>windy_days_df</code> DataFrame should remain unchanged. To verify this, you can compare the values of these two DataFrames using the <code>head</code> function.\n",
    "</font>\n",
    "</p>"
   ]
  },
  {
   "cell_type": "code",
   "execution_count": null,
   "metadata": {},
   "outputs": [],
   "source": [
    "windy_days_df.head()"
   ]
  },
  {
   "attachments": {},
   "cell_type": "markdown",
   "metadata": {},
   "source": [
    "<h2 align=\"left\" style=\"line-height:200%;font-family:Arial;color:#0099cc\">\n",
    "<font face=\"Arial\" color=\"#0099cc\">\n",
    "Part 6\n",
    "</font>\n",
    "</h2>\n",
    "\n",
    "<p style=\"direction: ltr; text-align: justify; line-height: 200%; font-family: Arial; font-size: medium\">\n",
    "<font face=\"Arial\" size=3>\n",
    "Finally, we want to calculate the accuracy of this prediction. For this, we use the formula known as <a href=\"https://en.wikipedia.org/wiki/Mean_absolute_error\"><i>Mean Absolute Error</i> or <i>MAE</i></a>.<br>\n",
    "</font>\n",
    "</p>\n",
    "\n",
    "$$\n",
    "\\text{MAE} = \\frac{1}{n} \\sum_{i=1}^{n} | y_i - \\hat{y}_i |\n",
    "$$\n",
    "\n",
    "<p style=\"direction: ltr; text-align: justify; line-height: 200%; font-family: Arial; font-size: medium\">\n",
    "<font face=\"Arial\" size=3>\n",
    "To calculate this value, you can use the <a href=\"https://numpy.org/doc/stable/reference/generated/numpy.mean.html\"><code>np.mean()</code></a> and <a href=\"https://numpy.org/devdocs/reference/generated/numpy.absolute.html\"><code>np.abs()</code></a> functions.<br>\n",
    "</font>\n",
    "</p>\n",
    "\n",
    "$$\n",
    "\\text{difference} = \\text{mean}( | t\\_feels\\_like_{\\text{temperature\\_df}} - t\\_feels\\_like_{\\text{windy\\_days\\_df}} | )\n",
    "$$\n",
    "\n",
    "<p style=\"direction: ltr; text-align: justify; line-height: 200%; font-family: Arial; font-size: medium\">\n",
    "<font face=\"Arial\" size=3>\n",
    "Calculate this value and store it in the variable <code>difference</code>.\n",
    "</font>\n",
    "</p>"
   ]
  },
  {
   "cell_type": "code",
   "execution_count": null,
   "metadata": {},
   "outputs": [],
   "source": [
    "diffrence = None # To-Do\n",
    "print(diffrence)"
   ]
  },
  {
   "cell_type": "markdown",
   "metadata": {},
   "source": [
    "<h2 align=\"left\" style=\"line-height:200%;font-family:Arial;color:#0099cc\">\n",
    "<font face=\"Arial\" color=\"#0099cc\">\n",
    "Part 7\n",
    "</font>\n",
    "</h2>\n"
   ]
  },
  {
   "attachments": {},
   "cell_type": "markdown",
   "metadata": {},
   "source": [
    "<p style=\"direction: ltr; text-align: justify; line-height: 200%; font-family: Arial; font-size: medium\">\n",
    "<font face=\"Arial\" size=3>\n",
    "In this exercise, we worked with the <code>head(n)</code> function, but let’s explore it in more depth.<br>\n",
    "Generally, this function is not only used for displaying data but also returns a copy of the first <code>n</code> rows of the DataFrame, which can be stored in a separate DataFrame.<br>\n",
    "In the DataFrame below, store the first 100 rows of the <code>temperature_df</code> DataFrame.\n",
    "</font>\n",
    "</p>"
   ]
  },
  {
   "cell_type": "code",
   "execution_count": null,
   "metadata": {},
   "outputs": [],
   "source": [
    "final_df = None # To-Do"
   ]
  }
 ],
 "metadata": {
  "colab": {
   "collapsed_sections": [],
   "name": "exercise1.ipynb",
   "provenance": []
  },
  "kernelspec": {
   "display_name": "Python 3 (ipykernel)",
   "language": "python",
   "name": "python3"
  },
  "language_info": {
   "codemirror_mode": {
    "name": "ipython",
    "version": 3
   },
   "file_extension": ".py",
   "mimetype": "text/x-python",
   "name": "python",
   "nbconvert_exporter": "python",
   "pygments_lexer": "ipython3",
   "version": "3.9.22"
  },
  "vscode": {
   "interpreter": {
    "hash": "44e7e1b8fa2096bd5707ed7fd18b1724a2db25f4c565a7673f8b6e7bfc49d25d"
   }
  }
 },
 "nbformat": 4,
 "nbformat_minor": 4
}
