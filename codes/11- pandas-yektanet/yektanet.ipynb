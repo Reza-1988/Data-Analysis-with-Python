{
 "cells": [
  {
   "attachments": {},
   "cell_type": "markdown",
   "id": "ac1d21fa-520d-4a4c-9b26-7942fb833449",
   "metadata": {},
   "source": [
    "<h1 style=\"text-align: center; line-height: 200%; font-family: Arial, sans-serif; color: #0099cc;\">\n",
    "  Yektanet\n",
    "</h1>\n",
    "</p>\n",
    "<p style=\"text-align: center;\">\n",
    "<img src=\"data/img_yetanet.png\" style=\"max-width: 40%; height: auto;\">\n",
    "</p>\n",
    "\n",
    "<p style=\"text-align: justify; line-height: 200%; font-family: Arial, sans-serif; font-size: medium;\">\n",
    "  The data used in this exercise is collected by Yektanet from various websites. Yektanet is the largest online advertising platform in Iran. By collecting data from websites and their users, the company identifies user preferences and helps deliver more engaging and personalized advertisements.\n",
    "  We aim to analyze user visit statistics from websites to calculate and examine the popularity percentage of Persian websites with the most commonly used keywords.\n",
    "</p>\n"
   ]
  },
  {
   "attachments": {},
   "cell_type": "markdown",
   "id": "e76aae32",
   "metadata": {},
   "source": [
    "<h2 style=\"text-align: left; line-height: 200%; font-family: Arial, sans-serif; color: #0099cc;\">\n",
    "  Dataset\n",
    "</h2>\n",
    "\n",
    "<p style=\"text-align: justify; line-height: 200%; font-family: Arial, sans-serif; font-size: medium;\">\n",
    "  The data for this exercise is provided in the file <code>yektanet.csv</code>. First, read this file and take a look at it. The description of each column in this dataset is provided in the table below:\n",
    "</p>\n",
    "\n",
    "<div style=\"text-align: center; line-height: 200%; font-family: Arial, sans-serif; font-size: medium;\">\n",
    "  <table style=\"margin: auto; border-collapse: collapse;\">\n",
    "    <tr>\n",
    "      <th style=\"border: 1px solid #ddd; padding: 8px;\">Column</th>\n",
    "      <th style=\"border: 1px solid #ddd; padding: 8px;\">Description</th>\n",
    "    </tr>\n",
    "    <tr>\n",
    "      <td style=\"border: 1px solid #ddd; padding: 8px;\"><code>keywords</code></td>\n",
    "      <td style=\"border: 1px solid #ddd; padding: 8px;\">Keywords that define each website, typically used to display the website in search results related to those topics.</td>\n",
    "    </tr>\n",
    "    <tr>\n",
    "      <td style=\"border: 1px solid #ddd; padding: 8px;\"><code>segments</code></td>\n",
    "      <td style=\"border: 1px solid #ddd; padding: 8px;\">Categories assigned to each website, used for advertising purposes.</td>\n",
    "    </tr>\n",
    "    <tr>\n",
    "      <td style=\"border: 1px solid #ddd; padding: 8px;\"><code>visit count</code></td>\n",
    "      <td style=\"border: 1px solid #ddd; padding: 8px;\">Average number of page visits per day.</td>\n",
    "    </tr>\n",
    "  </table>\n",
    "</div>"
   ]
  },
  {
   "cell_type": "code",
   "execution_count": null,
   "id": "65ff8052",
   "metadata": {},
   "outputs": [],
   "source": [
    "import pandas as pd \n",
    "import numpy as np"
   ]
  },
  {
   "cell_type": "code",
   "execution_count": null,
   "id": "995dac76",
   "metadata": {},
   "outputs": [],
   "source": [
    "df = None # To-Do\n",
    "df.tail()"
   ]
  },
  {
   "attachments": {},
   "cell_type": "markdown",
   "id": "4d3fbe6b",
   "metadata": {},
   "source": [
    "<h2 style=\"text-align: left; line-height: 200%; font-family: Arial, sans-serif; color: #0099cc;\">\n",
    "  Part One\n",
    "</h2>\n",
    "\n",
    "<p style=\"text-align: justify; line-height: 200%; font-family: Arial, sans-serif; font-size: medium;\">\n",
    "  Using grouping and the <code>filter</code> function, select websites whose associated keywords appear in more than 1400 websites. In other words, the list of keywords should appear more than 1400 times in the dataframe. Store the result in the variable <code>filtered_df</code>.\n",
    "</p>\n",
    "\n",
    "<p style=\"text-align: justify; line-height: 200%; font-family: Arial, sans-serif; font-size: medium;\">\n",
    "  <span style=\"color: green;\"><b>Hint:</b></span> First, apply the <code>groupby</code> function on the keywords, then use the <code>len</code> function to check the number of members. Note that <b>it is not necessary</b> to group by each individual element within the keyword array.\n",
    "</p>"
   ]
  },
  {
   "cell_type": "code",
   "execution_count": 1,
   "id": "1f051715-851e-4865-b14f-dfe975ec0b2b",
   "metadata": {},
   "outputs": [],
   "source": [
    "filtered_df = None # To-Do\n",
    "filtered_df"
   ]
  },
  {
   "attachments": {},
   "cell_type": "markdown",
   "id": "81e5af66",
   "metadata": {},
   "source": [
    "<h2 style=\"text-align: left; line-height: 200%; font-family: Arial, sans-serif; color: #0099cc;\">\n",
    "  Part Two\n",
    "</h2>\n",
    "\n",
    "<p style=\"text-align: justify; line-height: 200%; font-family: Arial, sans-serif; font-size: medium;\">\n",
    "  Now, add a column named <code>popularity</code> to the <code>filtered_df</code> dataframe that represents the ratio of each website's visit count to the total visit count of all websites associated with that keyword.\n",
    "</p>\n",
    "\n",
    "<p style=\"text-align: justify; line-height: 200%; font-family: Arial, sans-serif; font-size: medium;\">\n",
    "  <span style=\"color: green;\"><b>Hint:</b></span> After grouping by <code>keywords</code>, apply the <code>transform</code> function to the <code>visit count</code> column to calculate the ratio of each website's visits to the total visits for that keyword group, then multiply the result by 100.\n",
    "</p>\n",
    "\n",
    "<p style=\"text-align: justify; line-height: 200%; font-family: Arial, sans-serif; font-size: medium;\">\n",
    "  <span style=\"color: red;\"><b>Be careful:</b></span> Ensure that the grouping is performed on the <code>filtered_df</code> dataframe, not on <code>df</code>.\n",
    "</p>\n",
    "\n",
    "<h4 style=\"font-family: Arial, sans-serif;\">\n",
    "  <span style=\"color: green;\">Hint</span>: How can I find the ratio of each website's visits to the total visits of all websites with that keyword?\n",
    "</h4>\n",
    "\n",
    "<p style=\"text-align: justify; line-height: 200%; font-family: Arial, sans-serif; font-size: medium;\">\n",
    "  After grouping by keyword, use the <code>transform</code> function. For example, if you write a lambda function like <code>lambda x</code>, simply divide <code>x</code> by <code>x.sum()</code> and multiply the result by 100.\n",
    "</p>"
   ]
  },
  {
   "cell_type": "code",
   "execution_count": 5,
   "id": "a7ccd820-70b9-4d19-ad6e-36fe65c8c16b",
   "metadata": {},
   "outputs": [],
   "source": [
    "filtered_df['popularity']  = None # To-Do\n",
    "filtered_df"
   ]
  }
 ],
 "metadata": {
  "kernelspec": {
   "display_name": "Python 3",
   "language": "python",
   "name": "python3"
  },
  "language_info": {
   "codemirror_mode": {
    "name": "ipython",
    "version": 3
   },
   "file_extension": ".py",
   "mimetype": "text/x-python",
   "name": "python",
   "nbconvert_exporter": "python",
   "pygments_lexer": "ipython3",
   "version": "3.8.0"
  },
  "vscode": {
   "interpreter": {
    "hash": "44e7e1b8fa2096bd5707ed7fd18b1724a2db25f4c565a7673f8b6e7bfc49d25d"
   }
  }
 },
 "nbformat": 4,
 "nbformat_minor": 5
}
