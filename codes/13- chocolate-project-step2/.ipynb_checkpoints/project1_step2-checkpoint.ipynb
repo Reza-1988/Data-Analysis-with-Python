{
 "cells": [
  {
   "attachments": {},
   "cell_type": "markdown",
   "metadata": {},
   "source": [
    "# Chocolate Sales\n",
    "\n",
    "In this step of the project, we aim to set prices for chocolates based on some of their characteristics and the research we have conducted. To do this, we will use the data processed in the previous step and then, step by step, try to improve our price estimation.\n"
   ]
  },
  {
   "attachments": {},
   "cell_type": "markdown",
   "metadata": {
    "id": "ZSVpqeM224lp"
   },
   "source": [
    "## Dataset\n",
    "\n",
    "In the previous step of the project, you performed some preprocessing on the chocolate dataset and saved the result in the file `chocolate_preprocessed.csv`. Therefore, first, read this file into a DataFrame in the cell below.\n"
   ]
  },
  {
   "cell_type": "code",
   "execution_count": null,
   "metadata": {
    "colab": {
     "base_uri": "https://localhost:8080/",
     "height": 223
    },
    "executionInfo": {
     "elapsed": 460,
     "status": "ok",
     "timestamp": 1627307355760,
     "user": {
      "displayName": "Parto Shahroodi",
      "photoUrl": "https://lh3.googleusercontent.com/a-/AOh14GgVRnuIKtxzeAYtLGbbb7NnFc-HXqxuTOJ6OMw7uw=s64",
      "userId": "08853559073941204272"
     },
     "user_tz": -270
    },
    "id": "w-d3otC0CkKH",
    "outputId": "741b4a44-84b1-4f11-ffc0-40e852154f51"
   },
   "outputs": [],
   "source": [
    "import numpy as np\n",
    "import pandas as pd\n",
    "\n",
    "df = None # To-Do"
   ]
  },
  {
   "attachments": {},
   "cell_type": "markdown",
   "metadata": {
    "id": "NC-uprUp3RPr"
   },
   "source": [
    "## Part One\n",
    "\n",
    "Assume that after some research, we have found that the price of a chocolate is directly related to its rating percentage by experts. Fortunately, this rating is included in our dataset, but the issue is that these ratings are not in percentage form. Therefore, in this step, we ask you to rescale the values in the `Rating` column so that the highest value becomes 100, and the other values are adjusted proportionally. For example, suppose the maximum value in this column is 4. To convert 4 to 100, you would multiply it by 25. Thus, all values in this column should be multiplied by 25. Note that the final data type of the column must be `float`.\n",
    "\n",
    "---\n",
    "\n",
    "**Hint:** How do I rescale the `Rating` column?\n",
    "Simply find the maximum value of this column and divide 100 by that maximum value. Then, multiply all the values in the column by the resulting number. The formula is:\n",
    "\n",
    "$$\n",
    "Rating \\times \\left(\\frac{100}{\\max(Rating)}\\right)\n",
    "$$"
   ]
  },
  {
   "cell_type": "code",
   "execution_count": null,
   "metadata": {
    "colab": {
     "base_uri": "https://localhost:8080/",
     "height": 223
    },
    "executionInfo": {
     "elapsed": 85,
     "status": "ok",
     "timestamp": 1627307356762,
     "user": {
      "displayName": "Parto Shahroodi",
      "photoUrl": "https://lh3.googleusercontent.com/a-/AOh14GgVRnuIKtxzeAYtLGbbb7NnFc-HXqxuTOJ6OMw7uw=s64",
      "userId": "08853559073941204272"
     },
     "user_tz": -270
    },
    "id": "hO7IGL0oDLS-",
    "outputId": "8fa50bdb-62ed-4586-faab-faee60bf4feb"
   },
   "outputs": [],
   "source": [
    "df['Rating'] = None # To-Do\n",
    "\n",
    "df.head()"
   ]
  },
  {
   "attachments": {},
   "cell_type": "markdown",
   "metadata": {
    "id": "XKq_LJE03XQf"
   },
   "source": [
    "## Part Two\n",
    "\n",
    "After some research, it was determined that the price of 100 grams of pure cocoa of the highest quality is 250,000 toman. Therefore, we can estimate the price of 100 grams of a specific type of chocolate by multiplying the cocoa percentage (column `Cocoa Percent`) by the price of 100 grams of pure cocoa (the number 25) and the rating percentage (column `Rating`).\n",
    "In this part, calculate the price of 100 grams for each type of chocolate using the formula below and store it in a new column named `price(100g)`:\n",
    "\n",
    "$$\n",
    "\\text{Price of 100 grams} = \\text{Cocoa Percent} \\times \\text{Rating} \\times 25\n",
    "$$\n",
    "\n",
    "---\n",
    "\n",
    "**Hint:** Why multiply by 25?\n",
    "To calculate the price, we need to combine the cocoa percentage and the rating with the base price (250,000 toman for 100 grams of pure cocoa). If both the cocoa percentage and the rating are numbers between 0 and 100, we need a coefficient to convert these numbers to the correct scale and obtain the price.\n",
    "Suppose we have a chocolate with 100% cocoa (`Cocoa Percent = 100`) and a rating of 100 (`Rating = 100`). According to the problem, its price should be 250,000 toman. Let's test the formula:\n",
    "\n",
    "$$\n",
    "\\text{Price} = 100 \\times 100 \\times \\text{coefficient}\n",
    "$$\n",
    "\n",
    "To get a result of 250,000:\n",
    "\n",
    "$$\n",
    "100 \\times 100 \\times \\text{coefficient} = 250,000\n",
    "$$\n",
    "\n",
    "$$\n",
    "10,000 \\times \\text{coefficient} = 250,000\n",
    "$$\n",
    "\n",
    "$$\n",
    "\\text{coefficient} = \\frac{250,000}{10,000} = 25\n",
    "$$\n",
    "\n",
    "Thus, the coefficient 25 comes from this calculation! This 25 is essentially the price of 100 grams of pure cocoa (250,000 toman) divided by 100 (for the cocoa percentage) and 100 (for the rating):\n",
    "\n",
    "$$\n",
    "\\frac{250,000}{100 \\times 100} = 25\n",
    "$$"
   ]
  },
  {
   "cell_type": "code",
   "execution_count": null,
   "metadata": {
    "colab": {
     "base_uri": "https://localhost:8080/",
     "height": 441
    },
    "executionInfo": {
     "elapsed": 83,
     "status": "ok",
     "timestamp": 1627307356768,
     "user": {
      "displayName": "Parto Shahroodi",
      "photoUrl": "https://lh3.googleusercontent.com/a-/AOh14GgVRnuIKtxzeAYtLGbbb7NnFc-HXqxuTOJ6OMw7uw=s64",
      "userId": "08853559073941204272"
     },
     "user_tz": -270
    },
    "id": "ahOjOTgEENSP",
    "outputId": "1fa3c1e4-0bf4-45f4-b5b3-c38aa88d36b5"
   },
   "outputs": [],
   "source": [
    "df['price(100g)'] = None # To-Do\n",
    "df"
   ]
  },
  {
   "attachments": {},
   "cell_type": "markdown",
   "metadata": {
    "id": "Wl-nJBRy3fxe"
   },
   "source": [
    "## Part Three\n",
    "\n",
    "Suppose we have discovered that dark chocolates are more expensive and profitable. Therefore, we intend to proceed with the exercise using only this type of chocolate. In this part, consider chocolates with a cocoa percentage greater than $70\\%$ as dark chocolates and store them in a new dataset named `dark_chocolates`.\n",
    "\n",
    "\n",
    "\n",
    "**Hint:** After filtering and creating the dataframe, use the `reset_index()` function to reset the indices. Pay attention to the `inplace` and `drop` arguments as well.\n",
    "\n",
    "Note that after filtering the dark chocolates and storing them in the `dark_chocolates` dataframe, you need to use the `reset_index()` function to reset the dataframe's indices. Make sure to set the `inplace` and `drop` arguments to `True` so that the changes are applied in place and the previous indices are dropped without being added as a new column."
   ]
  },
  {
   "cell_type": "code",
   "execution_count": null,
   "metadata": {
    "colab": {
     "base_uri": "https://localhost:8080/",
     "height": 579
    },
    "executionInfo": {
     "elapsed": 81,
     "status": "ok",
     "timestamp": 1627307356775,
     "user": {
      "displayName": "Parto Shahroodi",
      "photoUrl": "https://lh3.googleusercontent.com/a-/AOh14GgVRnuIKtxzeAYtLGbbb7NnFc-HXqxuTOJ6OMw7uw=s64",
      "userId": "08853559073941204272"
     },
     "user_tz": -270
    },
    "id": "RLS_DDJ8zmkY",
    "outputId": "7999555c-462d-4ff0-999f-3852404b1bca"
   },
   "outputs": [],
   "source": [
    "dark_chocolates = None # To-Do"
   ]
  },
  {
   "attachments": {},
   "cell_type": "markdown",
   "metadata": {
    "id": "rj3AaMY-3qzx"
   },
   "source": [
    "## Part Four\n",
    "\n",
    "The type of cocoa bean used in making chocolate directly affects its quality. For example, one of the best cocoa beans is the `Trinitario` variety. For this reason, we have decided to increase the price of dark chocolates (in the `dark_chocolates` dataframe) that use this bean by $10\\%$.\n",
    "First, in the variable `has_Trinitario`, determine for each chocolate whether the name `Trinitario` is mentioned in the list of bean types (column `Bean Type`). The output should be an array of the same length as the dark chocolates dataframe, containing `True` or `False` values based on whether this bean type is present in the chocolate's bean types.\n",
    "\n",
    "**Hint:** How do I check for the presence of `Trinitario` in the `Bean Type` column?\n",
    "You can use the `str.contains` function and apply it to the relevant column. The output of this code will be a pandas Series similar to the example below:\n",
    "\n",
    "```python\n",
    "0       True\n",
    "1       True\n",
    "        ...\n",
    "794    False\n",
    "Name: Bean Type, Length: 795, dtype: bool\n",
    "```"
   ]
  },
  {
   "cell_type": "code",
   "execution_count": null,
   "metadata": {
    "colab": {
     "base_uri": "https://localhost:8080/",
     "height": 703
    },
    "executionInfo": {
     "elapsed": 84,
     "status": "ok",
     "timestamp": 1627307356781,
     "user": {
      "displayName": "Parto Shahroodi",
      "photoUrl": "https://lh3.googleusercontent.com/a-/AOh14GgVRnuIKtxzeAYtLGbbb7NnFc-HXqxuTOJ6OMw7uw=s64",
      "userId": "08853559073941204272"
     },
     "user_tz": -270
    },
    "id": "VnDeajuc5zQs",
    "outputId": "acab2dbb-85dc-41ba-f8a9-2712901316a2"
   },
   "outputs": [],
   "source": [
    "has_Trinitario = None # To-Do"
   ]
  },
  {
   "attachments": {},
   "cell_type": "markdown",
   "metadata": {},
   "source": [
    "Now you can use the `has_Trinitario` array to increase the price of the rows where this array has a `True` value by $10\\%$.\n",
    "\n",
    "**Hint:** How do I do this?  \n",
    "Note that you should only increase the price of chocolates that contain the `Trinitario` bean and store the result back in the `dark_chocolates` dataframe. You can use the `loc` function as shown below to achieve this:\n",
    "\n",
    "```python\n",
    "dark_chocolates.loc[has_Trinitario, 'price(100g)']\n",
    "```\n",
    "\n",
    "Simply increase these values by 10%, or in other words, multiply them by 1.1, and store the result back in the same\n",
    "\n",
    "**Hint:** Why multiply by $1.1$?  \n",
    "A $10\\%$ increase means the original price plus $10\\%$ of itself.  \n",
    "If the original price is $P$\n",
    "\n",
    "- $10\\%$  of $P$  is  $0.1P$.\n",
    "- The new price is  $P + 0.1P = 1.1P$.\n",
    "\n",
    "Therefore, multiplying the price by  $1.1$  achieves a  $10\\%$  increase.\n",
    "\n",
    "refine this part, there is an errior in this part"
   ]
  },
  {
   "cell_type": "code",
   "execution_count": null,
   "metadata": {},
   "outputs": [],
   "source": [
    "# To-Do"
   ]
  },
  {
   "attachments": {},
   "cell_type": "markdown",
   "metadata": {
    "id": "TAWqo4yU3vhK"
   },
   "source": [
    "## Part Five\n",
    "\n",
    "In the final step, we want to know the total amount we would receive from selling these dark chocolates at the prices we have determined. Therefore, calculate the sum of the prices of the dark chocolates (column `price(100g)`) and store it in the variable `priceSum`.\n"
   ]
  },
  {
   "cell_type": "code",
   "execution_count": null,
   "metadata": {
    "colab": {
     "base_uri": "https://localhost:8080/"
    },
    "executionInfo": {
     "elapsed": 72,
     "status": "ok",
     "timestamp": 1627307356783,
     "user": {
      "displayName": "Parto Shahroodi",
      "photoUrl": "https://lh3.googleusercontent.com/a-/AOh14GgVRnuIKtxzeAYtLGbbb7NnFc-HXqxuTOJ6OMw7uw=s64",
      "userId": "08853559073941204272"
     },
     "user_tz": -270
    },
    "id": "prbbEfzHC2d5",
    "outputId": "bdfbe283-d239-47c5-9dbb-79b5e41136a2"
   },
   "outputs": [],
   "source": [
    "priceSum = None # To-Do"
   ]
  },
  {
   "attachments": {},
   "cell_type": "markdown",
   "metadata": {},
   "source": [
    "<h2 align=right style=\"line-height:200%;font-family:vazir;color:#0099cc\">\n",
    "<font face=\"vazirmatn\" color=\"#0099cc\">\n",
    "<b>سلول جواب‌ساز</b>\n",
    "</font>\n",
    "</h2>\n",
    "\n",
    "\n",
    "<p dir=rtl style=\"direction: rtl; text-align: justify; line-height:200%; font-family:vazir; font-size:medium\">\n",
    "<font face=\"vazirmatn\" size=3>\n",
    "    برای ساخته‌شدن فایل <code>result.zip</code> سلول زیر را اجرا کنید. توجه داشته باشید که پیش از اجرای سلول زیر تغییرات اعمال شده در نت‌بوک را ذخیره کرده باشید (<code>ctrl+s</code>) تا در صورت نیاز به پشتیبانی امکان بررسی کد شما وجود داشته باشد.\n",
    "</font>\n",
    "</p>"
   ]
  },
  {
   "cell_type": "code",
   "execution_count": null,
   "metadata": {
    "id": "mvUkIpKqDsy4"
   },
   "outputs": [],
   "source": [
    "import zlib\n",
    "import zipfile\n",
    "\n",
    "def compress(file_names):\n",
    "    print(\"File Paths:\")\n",
    "    print(file_names)\n",
    "    compression = zipfile.ZIP_DEFLATED\n",
    "    with zipfile.ZipFile(\"result.zip\", mode=\"w\") as zf:\n",
    "        for file_name in file_names:\n",
    "            zf.write('./' + file_name, file_name, compress_type=compression)\n",
    "\n",
    "df.to_csv('chocolate_price.csv', index = False)\n",
    "dark_chocolates.to_csv('dark_chocolates.csv', index = True)\n",
    "\n",
    "np.savez(\"answers.npz\", has_Trinitario = has_Trinitario, priceSum = priceSum)\n",
    "file_names = [\"answers.npz\", \"project1_step2.ipynb\", \"chocolate_price.csv\", \"dark_chocolates.csv\"]\n",
    "compress(file_names)"
   ]
  }
 ],
 "metadata": {
  "colab": {
   "authorship_tag": "ABX9TyM8tfOEJoXtp56mbFxUGCli",
   "collapsed_sections": [],
   "name": "گام دوم.ipynb",
   "provenance": []
  },
  "kernelspec": {
   "display_name": "Python 3 (ipykernel)",
   "language": "python",
   "name": "python3"
  },
  "language_info": {
   "codemirror_mode": {
    "name": "ipython",
    "version": 3
   },
   "file_extension": ".py",
   "mimetype": "text/x-python",
   "name": "python",
   "nbconvert_exporter": "python",
   "pygments_lexer": "ipython3",
   "version": "3.9.22"
  },
  "vscode": {
   "interpreter": {
    "hash": "6a29b8f2e1e8b11f80c3820468461bcdbea6564508a235f61a46eeb59d48b308"
   }
  }
 },
 "nbformat": 4,
 "nbformat_minor": 4
}
