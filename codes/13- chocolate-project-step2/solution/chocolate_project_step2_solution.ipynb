{
 "cells": [
  {
   "metadata": {},
   "cell_type": "markdown",
   "source": "# Chocolate Sales"
  },
  {
   "metadata": {},
   "cell_type": "markdown",
   "source": "## Dataset"
  },
  {
   "cell_type": "code",
   "execution_count": 1,
   "metadata": {
    "colab": {
     "base_uri": "https://localhost:8080/",
     "height": 223
    },
    "executionInfo": {
     "elapsed": 460,
     "status": "ok",
     "timestamp": 1627307355760,
     "user": {
      "displayName": "Parto Shahroodi",
      "photoUrl": "https://lh3.googleusercontent.com/a-/AOh14GgVRnuIKtxzeAYtLGbbb7NnFc-HXqxuTOJ6OMw7uw=s64",
      "userId": "08853559073941204272"
     },
     "user_tz": -270
    },
    "id": "w-d3otC0CkKH",
    "outputId": "741b4a44-84b1-4f11-ffc0-40e852154f51"
   },
   "outputs": [],
   "source": [
    "import numpy as np\n",
    "import pandas as pd\n",
    "\n",
    "df = pd.read_csv('chocolate_preprocessed.csv')"
   ]
  },
  {
   "cell_type": "code",
   "execution_count": 2,
   "metadata": {},
   "outputs": [
    {
     "data": {
      "text/html": [
       "<div>\n",
       "<style scoped>\n",
       "    .dataframe tbody tr th:only-of-type {\n",
       "        vertical-align: middle;\n",
       "    }\n",
       "\n",
       "    .dataframe tbody tr th {\n",
       "        vertical-align: top;\n",
       "    }\n",
       "\n",
       "    .dataframe thead th {\n",
       "        text-align: right;\n",
       "    }\n",
       "</style>\n",
       "<table border=\"1\" class=\"dataframe\">\n",
       "  <thead>\n",
       "    <tr style=\"text-align: right;\">\n",
       "      <th></th>\n",
       "      <th>Company</th>\n",
       "      <th>Specific Bean Origin</th>\n",
       "      <th>Review Date</th>\n",
       "      <th>Cocoa Percent</th>\n",
       "      <th>Company Location</th>\n",
       "      <th>Rating</th>\n",
       "      <th>Bean Type</th>\n",
       "      <th>Broad Bean Origin</th>\n",
       "    </tr>\n",
       "  </thead>\n",
       "  <tbody>\n",
       "    <tr>\n",
       "      <th>0</th>\n",
       "      <td>A. Morin</td>\n",
       "      <td>Agua Grande</td>\n",
       "      <td>2016</td>\n",
       "      <td>63.0</td>\n",
       "      <td>France</td>\n",
       "      <td>3.75</td>\n",
       "      <td>Blend</td>\n",
       "      <td>Sao Tome</td>\n",
       "    </tr>\n",
       "    <tr>\n",
       "      <th>1</th>\n",
       "      <td>A. Morin</td>\n",
       "      <td>Kpime</td>\n",
       "      <td>2015</td>\n",
       "      <td>70.0</td>\n",
       "      <td>France</td>\n",
       "      <td>2.75</td>\n",
       "      <td>Blend</td>\n",
       "      <td>Togo</td>\n",
       "    </tr>\n",
       "    <tr>\n",
       "      <th>2</th>\n",
       "      <td>A. Morin</td>\n",
       "      <td>Atsane</td>\n",
       "      <td>2015</td>\n",
       "      <td>70.0</td>\n",
       "      <td>France</td>\n",
       "      <td>3.00</td>\n",
       "      <td>Blend</td>\n",
       "      <td>Togo</td>\n",
       "    </tr>\n",
       "    <tr>\n",
       "      <th>3</th>\n",
       "      <td>A. Morin</td>\n",
       "      <td>Akata</td>\n",
       "      <td>2015</td>\n",
       "      <td>70.0</td>\n",
       "      <td>France</td>\n",
       "      <td>3.50</td>\n",
       "      <td>Blend</td>\n",
       "      <td>Togo</td>\n",
       "    </tr>\n",
       "    <tr>\n",
       "      <th>4</th>\n",
       "      <td>A. Morin</td>\n",
       "      <td>Quilla</td>\n",
       "      <td>2015</td>\n",
       "      <td>70.0</td>\n",
       "      <td>France</td>\n",
       "      <td>3.50</td>\n",
       "      <td>Blend</td>\n",
       "      <td>Peru</td>\n",
       "    </tr>\n",
       "  </tbody>\n",
       "</table>\n",
       "</div>"
      ],
      "text/plain": [
       "    Company Specific Bean Origin  Review Date  Cocoa Percent Company Location  \\\n",
       "0  A. Morin          Agua Grande         2016           63.0           France   \n",
       "1  A. Morin                Kpime         2015           70.0           France   \n",
       "2  A. Morin               Atsane         2015           70.0           France   \n",
       "3  A. Morin                Akata         2015           70.0           France   \n",
       "4  A. Morin               Quilla         2015           70.0           France   \n",
       "\n",
       "   Rating Bean Type Broad Bean Origin  \n",
       "0    3.75     Blend          Sao Tome  \n",
       "1    2.75     Blend              Togo  \n",
       "2    3.00     Blend              Togo  \n",
       "3    3.50     Blend              Togo  \n",
       "4    3.50     Blend              Peru  "
      ]
     },
     "execution_count": 2,
     "metadata": {},
     "output_type": "execute_result"
    }
   ],
   "source": [
    "df.head()"
   ]
  },
  {
   "metadata": {},
   "cell_type": "markdown",
   "source": "## Part One"
  },
  {
   "cell_type": "code",
   "execution_count": 3,
   "metadata": {
    "colab": {
     "base_uri": "https://localhost:8080/",
     "height": 223
    },
    "executionInfo": {
     "elapsed": 85,
     "status": "ok",
     "timestamp": 1627307356762,
     "user": {
      "displayName": "Parto Shahroodi",
      "photoUrl": "https://lh3.googleusercontent.com/a-/AOh14GgVRnuIKtxzeAYtLGbbb7NnFc-HXqxuTOJ6OMw7uw=s64",
      "userId": "08853559073941204272"
     },
     "user_tz": -270
    },
    "id": "hO7IGL0oDLS-",
    "outputId": "8fa50bdb-62ed-4586-faab-faee60bf4feb"
   },
   "outputs": [
    {
     "data": {
      "text/html": [
       "<div>\n",
       "<style scoped>\n",
       "    .dataframe tbody tr th:only-of-type {\n",
       "        vertical-align: middle;\n",
       "    }\n",
       "\n",
       "    .dataframe tbody tr th {\n",
       "        vertical-align: top;\n",
       "    }\n",
       "\n",
       "    .dataframe thead th {\n",
       "        text-align: right;\n",
       "    }\n",
       "</style>\n",
       "<table border=\"1\" class=\"dataframe\">\n",
       "  <thead>\n",
       "    <tr style=\"text-align: right;\">\n",
       "      <th></th>\n",
       "      <th>Company</th>\n",
       "      <th>Specific Bean Origin</th>\n",
       "      <th>Review Date</th>\n",
       "      <th>Cocoa Percent</th>\n",
       "      <th>Company Location</th>\n",
       "      <th>Rating</th>\n",
       "      <th>Bean Type</th>\n",
       "      <th>Broad Bean Origin</th>\n",
       "    </tr>\n",
       "  </thead>\n",
       "  <tbody>\n",
       "    <tr>\n",
       "      <th>0</th>\n",
       "      <td>A. Morin</td>\n",
       "      <td>Agua Grande</td>\n",
       "      <td>2016</td>\n",
       "      <td>63.0</td>\n",
       "      <td>France</td>\n",
       "      <td>75.0</td>\n",
       "      <td>Blend</td>\n",
       "      <td>Sao Tome</td>\n",
       "    </tr>\n",
       "    <tr>\n",
       "      <th>1</th>\n",
       "      <td>A. Morin</td>\n",
       "      <td>Kpime</td>\n",
       "      <td>2015</td>\n",
       "      <td>70.0</td>\n",
       "      <td>France</td>\n",
       "      <td>55.0</td>\n",
       "      <td>Blend</td>\n",
       "      <td>Togo</td>\n",
       "    </tr>\n",
       "    <tr>\n",
       "      <th>2</th>\n",
       "      <td>A. Morin</td>\n",
       "      <td>Atsane</td>\n",
       "      <td>2015</td>\n",
       "      <td>70.0</td>\n",
       "      <td>France</td>\n",
       "      <td>60.0</td>\n",
       "      <td>Blend</td>\n",
       "      <td>Togo</td>\n",
       "    </tr>\n",
       "    <tr>\n",
       "      <th>3</th>\n",
       "      <td>A. Morin</td>\n",
       "      <td>Akata</td>\n",
       "      <td>2015</td>\n",
       "      <td>70.0</td>\n",
       "      <td>France</td>\n",
       "      <td>70.0</td>\n",
       "      <td>Blend</td>\n",
       "      <td>Togo</td>\n",
       "    </tr>\n",
       "    <tr>\n",
       "      <th>4</th>\n",
       "      <td>A. Morin</td>\n",
       "      <td>Quilla</td>\n",
       "      <td>2015</td>\n",
       "      <td>70.0</td>\n",
       "      <td>France</td>\n",
       "      <td>70.0</td>\n",
       "      <td>Blend</td>\n",
       "      <td>Peru</td>\n",
       "    </tr>\n",
       "  </tbody>\n",
       "</table>\n",
       "</div>"
      ],
      "text/plain": [
       "    Company Specific Bean Origin  Review Date  Cocoa Percent Company Location  \\\n",
       "0  A. Morin          Agua Grande         2016           63.0           France   \n",
       "1  A. Morin                Kpime         2015           70.0           France   \n",
       "2  A. Morin               Atsane         2015           70.0           France   \n",
       "3  A. Morin                Akata         2015           70.0           France   \n",
       "4  A. Morin               Quilla         2015           70.0           France   \n",
       "\n",
       "   Rating Bean Type Broad Bean Origin  \n",
       "0    75.0     Blend          Sao Tome  \n",
       "1    55.0     Blend              Togo  \n",
       "2    60.0     Blend              Togo  \n",
       "3    70.0     Blend              Togo  \n",
       "4    70.0     Blend              Peru  "
      ]
     },
     "execution_count": 3,
     "metadata": {},
     "output_type": "execute_result"
    }
   ],
   "source": [
    "df['Rating'] = df['Rating'] * (100 / df['Rating'].max())\n",
    "\n",
    "df.head()"
   ]
  },
  {
   "metadata": {},
   "cell_type": "markdown",
   "source": "## Part Two"
  },
  {
   "cell_type": "code",
   "execution_count": 4,
   "metadata": {
    "colab": {
     "base_uri": "https://localhost:8080/",
     "height": 441
    },
    "executionInfo": {
     "elapsed": 83,
     "status": "ok",
     "timestamp": 1627307356768,
     "user": {
      "displayName": "Parto Shahroodi",
      "photoUrl": "https://lh3.googleusercontent.com/a-/AOh14GgVRnuIKtxzeAYtLGbbb7NnFc-HXqxuTOJ6OMw7uw=s64",
      "userId": "08853559073941204272"
     },
     "user_tz": -270
    },
    "id": "ahOjOTgEENSP",
    "outputId": "1fa3c1e4-0bf4-45f4-b5b3-c38aa88d36b5"
   },
   "outputs": [
    {
     "data": {
      "text/html": [
       "<div>\n",
       "<style scoped>\n",
       "    .dataframe tbody tr th:only-of-type {\n",
       "        vertical-align: middle;\n",
       "    }\n",
       "\n",
       "    .dataframe tbody tr th {\n",
       "        vertical-align: top;\n",
       "    }\n",
       "\n",
       "    .dataframe thead th {\n",
       "        text-align: right;\n",
       "    }\n",
       "</style>\n",
       "<table border=\"1\" class=\"dataframe\">\n",
       "  <thead>\n",
       "    <tr style=\"text-align: right;\">\n",
       "      <th></th>\n",
       "      <th>Company</th>\n",
       "      <th>Specific Bean Origin</th>\n",
       "      <th>Review Date</th>\n",
       "      <th>Cocoa Percent</th>\n",
       "      <th>Company Location</th>\n",
       "      <th>Rating</th>\n",
       "      <th>Bean Type</th>\n",
       "      <th>Broad Bean Origin</th>\n",
       "      <th>price(100g)</th>\n",
       "    </tr>\n",
       "  </thead>\n",
       "  <tbody>\n",
       "    <tr>\n",
       "      <th>0</th>\n",
       "      <td>A. Morin</td>\n",
       "      <td>Agua Grande</td>\n",
       "      <td>2016</td>\n",
       "      <td>63.0</td>\n",
       "      <td>France</td>\n",
       "      <td>75.0</td>\n",
       "      <td>Blend</td>\n",
       "      <td>Sao Tome</td>\n",
       "      <td>118125.0</td>\n",
       "    </tr>\n",
       "    <tr>\n",
       "      <th>1</th>\n",
       "      <td>A. Morin</td>\n",
       "      <td>Kpime</td>\n",
       "      <td>2015</td>\n",
       "      <td>70.0</td>\n",
       "      <td>France</td>\n",
       "      <td>55.0</td>\n",
       "      <td>Blend</td>\n",
       "      <td>Togo</td>\n",
       "      <td>96250.0</td>\n",
       "    </tr>\n",
       "    <tr>\n",
       "      <th>2</th>\n",
       "      <td>A. Morin</td>\n",
       "      <td>Atsane</td>\n",
       "      <td>2015</td>\n",
       "      <td>70.0</td>\n",
       "      <td>France</td>\n",
       "      <td>60.0</td>\n",
       "      <td>Blend</td>\n",
       "      <td>Togo</td>\n",
       "      <td>105000.0</td>\n",
       "    </tr>\n",
       "    <tr>\n",
       "      <th>3</th>\n",
       "      <td>A. Morin</td>\n",
       "      <td>Akata</td>\n",
       "      <td>2015</td>\n",
       "      <td>70.0</td>\n",
       "      <td>France</td>\n",
       "      <td>70.0</td>\n",
       "      <td>Blend</td>\n",
       "      <td>Togo</td>\n",
       "      <td>122500.0</td>\n",
       "    </tr>\n",
       "    <tr>\n",
       "      <th>4</th>\n",
       "      <td>A. Morin</td>\n",
       "      <td>Quilla</td>\n",
       "      <td>2015</td>\n",
       "      <td>70.0</td>\n",
       "      <td>France</td>\n",
       "      <td>70.0</td>\n",
       "      <td>Blend</td>\n",
       "      <td>Peru</td>\n",
       "      <td>122500.0</td>\n",
       "    </tr>\n",
       "    <tr>\n",
       "      <th>...</th>\n",
       "      <td>...</td>\n",
       "      <td>...</td>\n",
       "      <td>...</td>\n",
       "      <td>...</td>\n",
       "      <td>...</td>\n",
       "      <td>...</td>\n",
       "      <td>...</td>\n",
       "      <td>...</td>\n",
       "      <td>...</td>\n",
       "    </tr>\n",
       "    <tr>\n",
       "      <th>1790</th>\n",
       "      <td>Zotter</td>\n",
       "      <td>Peru</td>\n",
       "      <td>2011</td>\n",
       "      <td>70.0</td>\n",
       "      <td>Austria</td>\n",
       "      <td>75.0</td>\n",
       "      <td>Blend</td>\n",
       "      <td>Peru</td>\n",
       "      <td>131250.0</td>\n",
       "    </tr>\n",
       "    <tr>\n",
       "      <th>1791</th>\n",
       "      <td>Zotter</td>\n",
       "      <td>Congo</td>\n",
       "      <td>2011</td>\n",
       "      <td>65.0</td>\n",
       "      <td>Austria</td>\n",
       "      <td>60.0</td>\n",
       "      <td>Forastero</td>\n",
       "      <td>Congo</td>\n",
       "      <td>97500.0</td>\n",
       "    </tr>\n",
       "    <tr>\n",
       "      <th>1792</th>\n",
       "      <td>Zotter</td>\n",
       "      <td>Kerala State</td>\n",
       "      <td>2011</td>\n",
       "      <td>65.0</td>\n",
       "      <td>Austria</td>\n",
       "      <td>70.0</td>\n",
       "      <td>Forastero</td>\n",
       "      <td>India</td>\n",
       "      <td>113750.0</td>\n",
       "    </tr>\n",
       "    <tr>\n",
       "      <th>1793</th>\n",
       "      <td>Zotter</td>\n",
       "      <td>Kerala State</td>\n",
       "      <td>2011</td>\n",
       "      <td>62.0</td>\n",
       "      <td>Austria</td>\n",
       "      <td>65.0</td>\n",
       "      <td>Blend</td>\n",
       "      <td>India</td>\n",
       "      <td>100750.0</td>\n",
       "    </tr>\n",
       "    <tr>\n",
       "      <th>1794</th>\n",
       "      <td>Zotter</td>\n",
       "      <td>Brazil, Mitzi Blue</td>\n",
       "      <td>2010</td>\n",
       "      <td>65.0</td>\n",
       "      <td>Austria</td>\n",
       "      <td>60.0</td>\n",
       "      <td>Blend</td>\n",
       "      <td>Brazil</td>\n",
       "      <td>97500.0</td>\n",
       "    </tr>\n",
       "  </tbody>\n",
       "</table>\n",
       "<p>1795 rows × 9 columns</p>\n",
       "</div>"
      ],
      "text/plain": [
       "       Company Specific Bean Origin  Review Date  Cocoa Percent  \\\n",
       "0     A. Morin          Agua Grande         2016           63.0   \n",
       "1     A. Morin                Kpime         2015           70.0   \n",
       "2     A. Morin               Atsane         2015           70.0   \n",
       "3     A. Morin                Akata         2015           70.0   \n",
       "4     A. Morin               Quilla         2015           70.0   \n",
       "...        ...                  ...          ...            ...   \n",
       "1790    Zotter                 Peru         2011           70.0   \n",
       "1791    Zotter                Congo         2011           65.0   \n",
       "1792    Zotter         Kerala State         2011           65.0   \n",
       "1793    Zotter         Kerala State         2011           62.0   \n",
       "1794    Zotter   Brazil, Mitzi Blue         2010           65.0   \n",
       "\n",
       "     Company Location  Rating  Bean Type Broad Bean Origin  price(100g)  \n",
       "0              France    75.0      Blend          Sao Tome     118125.0  \n",
       "1              France    55.0      Blend              Togo      96250.0  \n",
       "2              France    60.0      Blend              Togo     105000.0  \n",
       "3              France    70.0      Blend              Togo     122500.0  \n",
       "4              France    70.0      Blend              Peru     122500.0  \n",
       "...               ...     ...        ...               ...          ...  \n",
       "1790          Austria    75.0      Blend              Peru     131250.0  \n",
       "1791          Austria    60.0  Forastero             Congo      97500.0  \n",
       "1792          Austria    70.0  Forastero             India     113750.0  \n",
       "1793          Austria    65.0      Blend             India     100750.0  \n",
       "1794          Austria    60.0      Blend            Brazil      97500.0  \n",
       "\n",
       "[1795 rows x 9 columns]"
      ]
     },
     "execution_count": 4,
     "metadata": {},
     "output_type": "execute_result"
    }
   ],
   "source": [
    "df['price(100g)'] = df['Cocoa Percent'] * df['Rating'] * 25\n",
    "df"
   ]
  },
  {
   "metadata": {},
   "cell_type": "markdown",
   "source": "## Part Three"
  },
  {
   "cell_type": "code",
   "execution_count": 5,
   "metadata": {
    "colab": {
     "base_uri": "https://localhost:8080/",
     "height": 579
    },
    "executionInfo": {
     "elapsed": 81,
     "status": "ok",
     "timestamp": 1627307356775,
     "user": {
      "displayName": "Parto Shahroodi",
      "photoUrl": "https://lh3.googleusercontent.com/a-/AOh14GgVRnuIKtxzeAYtLGbbb7NnFc-HXqxuTOJ6OMw7uw=s64",
      "userId": "08853559073941204272"
     },
     "user_tz": -270
    },
    "id": "RLS_DDJ8zmkY",
    "outputId": "7999555c-462d-4ff0-999f-3852404b1bca"
   },
   "outputs": [],
   "source": [
    "dark_chocolates = df[df['Cocoa Percent'] > 70]\n",
    "dark_chocolates.reset_index(inplace=True, drop=True)"
   ]
  },
  {
   "metadata": {},
   "cell_type": "markdown",
   "source": "## Part Four"
  },
  {
   "cell_type": "code",
   "execution_count": 6,
   "metadata": {
    "colab": {
     "base_uri": "https://localhost:8080/",
     "height": 703
    },
    "executionInfo": {
     "elapsed": 84,
     "status": "ok",
     "timestamp": 1627307356781,
     "user": {
      "displayName": "Parto Shahroodi",
      "photoUrl": "https://lh3.googleusercontent.com/a-/AOh14GgVRnuIKtxzeAYtLGbbb7NnFc-HXqxuTOJ6OMw7uw=s64",
      "userId": "08853559073941204272"
     },
     "user_tz": -270
    },
    "id": "VnDeajuc5zQs",
    "outputId": "acab2dbb-85dc-41ba-f8a9-2712901316a2"
   },
   "outputs": [],
   "source": [
    "has_Trinitario = dark_chocolates['Bean Type'].str.contains('Trinitario')"
   ]
  },
  {
   "metadata": {},
   "cell_type": "markdown",
   "source": "Now you can use the `has_Trinitario` array to increase the price of the rows where this array has a `True` value by $10\\%$."
  },
  {
   "cell_type": "code",
   "execution_count": 7,
   "metadata": {},
   "outputs": [],
   "source": [
    "dark_chocolates.loc[has_Trinitario, 'price(100g)'] *= 1.1"
   ]
  },
  {
   "metadata": {},
   "cell_type": "markdown",
   "source": "## Part Five"
  },
  {
   "cell_type": "code",
   "execution_count": 8,
   "metadata": {
    "colab": {
     "base_uri": "https://localhost:8080/"
    },
    "executionInfo": {
     "elapsed": 72,
     "status": "ok",
     "timestamp": 1627307356783,
     "user": {
      "displayName": "Parto Shahroodi",
      "photoUrl": "https://lh3.googleusercontent.com/a-/AOh14GgVRnuIKtxzeAYtLGbbb7NnFc-HXqxuTOJ6OMw7uw=s64",
      "userId": "08853559073941204272"
     },
     "user_tz": -270
    },
    "id": "prbbEfzHC2d5",
    "outputId": "bdfbe283-d239-47c5-9dbb-79b5e41136a2"
   },
   "outputs": [
    {
     "name": "stdout",
     "output_type": "stream",
     "text": [
      "96733662.5\n"
     ]
    }
   ],
   "source": [
    "priceSum = dark_chocolates['price(100g)'].sum()\n",
    "print(priceSum)"
   ]
  }
 ],
 "metadata": {
  "colab": {
   "authorship_tag": "ABX9TyM8tfOEJoXtp56mbFxUGCli",
   "collapsed_sections": [],
   "name": "گام دوم.ipynb",
   "provenance": []
  },
  "kernelspec": {
   "display_name": "update",
   "language": "python",
   "name": "python3"
  },
  "language_info": {
   "codemirror_mode": {
    "name": "ipython",
    "version": 3
   },
   "file_extension": ".py",
   "mimetype": "text/x-python",
   "name": "python",
   "nbconvert_exporter": "python",
   "pygments_lexer": "ipython3",
   "version": "3.13.0"
  }
 },
 "nbformat": 4,
 "nbformat_minor": 4
}
