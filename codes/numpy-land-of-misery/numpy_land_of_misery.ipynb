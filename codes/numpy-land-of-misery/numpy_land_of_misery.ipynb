{
 "cells": [
  {
   "attachments": {},
   "cell_type": "markdown",
   "metadata": {},
   "source": [
    "<h1 align=\"center\" style=\"line-height:200%;font-family:Arial;color:#0099cc\">\n",
    "<font face=\"Arial\" color=\"#0099cc\">\n",
    "Land of Misery\n",
    "</font>\n",
    "</h1>\n",
    "\n",
    "<p style=\"direction: ltr; text-align: justify; line-height: 200%; font-family: Arial; font-size: medium\">\n",
    "<font face=\"Arial\" size=3>\n",
    "In this exercise, we aim to assist the Homeless Support Organization in providing better services to homeless individuals during cold days. A volunteer has taken the initiative and, over the course of one week, measured the air temperature every hour in one of the most homeless-populated areas, storing the data in a list called <code>temp_list</code>. Specifically, this list contains a sublist for each day, with a length of 24, storing the air temperature for all hours (<b>from 00 to 23</b>).\n",
    "</font>\n",
    "</p>\n",
    "\n",
    "\n"
   ]
  },
  {
   "cell_type": "code",
   "execution_count": null,
   "metadata": {},
   "outputs": [],
   "source": [
    "import numpy as np\n",
    "\n",
    "temp_list = [[-11,-13,-12,-11,-12,-13,-12,0,1,1,2,4,4,5,6,6,7,8,6,6,5,5,4,3],\n",
    "             [3,3,2,1,0,1,1,3,3,4,3,4,4,5,4,4,4,3,4,3,3,2,1,0],\n",
    "             [0,-11,-11,-12,-13,-11,1,1,2,3,4,5,3,2,2,1,1,1,0,0,-11,-11,-12,-13],\n",
    "             [-13,-13,-14,-14,-15,-16,-16,-15,-14,-14,-13,-12,-12,0,0,1,1,2,1,1,0,-11,-11,-11],\n",
    "             [-11,-12,-13,-13,-13,-12,-11,0,0,1,2,2,3,4,3,5,3,2,1,1,2,1,0,1],\n",
    "             [1,1,0,-11,-11,-12,-11,-11,0,1,1,1,2,3,2,3,4,5,6,4,2,2,1,1],\n",
    "             [0,0,1,0,-11,0,1,1,2,3,3,4,3,4,5,8,7,6,6,5,6,6,5,4]]"
   ]
  },
  {
   "attachments": {},
   "cell_type": "markdown",
   "metadata": {},
   "source": [
    "<h2 align=\"left\" style=\"line-height:200%;font-family:Arial;color:#0099cc\">\n",
    "<font face=\"Arial\" color=\"#0099cc\">\n",
    "Part One\n",
    "</font>\n",
    "</h2>\n",
    "\n",
    "<p style=\"direction: ltr; text-align: justify; line-height: 200%; font-family: Arial; font-size: medium\">\n",
    "<font face=\"Arial\" size=3>\n",
    "First, convert the list <code>temp_list</code> into a NumPy array and store it in a variable named <code>temp</code>.\n",
    "</font>\n",
    "</p>"
   ]
  },
  {
   "cell_type": "code",
   "execution_count": null,
   "metadata": {},
   "outputs": [],
   "source": [
    "temp = None # To-Do"
   ]
  },
  {
   "attachments": {},
   "cell_type": "markdown",
   "metadata": {},
   "source": [
    "<h2 align=\"left\" style=\"line-height:200%;font-family:Arial;color:#0099cc\">\n",
    "<font face=\"Arial\" color=\"#0099cc\">\n",
    "Part Two\n",
    "</font>\n",
    "</h2>\n",
    "\n",
    "<p style=\"direction: ltr; text-align: justify; line-height: 200%; font-family: Arial; font-size: medium\">\n",
    "<font face=\"Arial\" size=3>\n",
    "The volunteer who measured the temperatures noticed after reviewing the results that the measuring device, which was made in China, recorded temperatures below zero as 10 degrees lower than the actual value. For example, if the actual temperature was -1, the device recorded it as -11. In this part, correct the inaccurately recorded values and store all the values in the same order as before in the variable <code>temp_correct</code>.\n",
    "</font>\n",
    "</p>\n",
    "\n",
    "<p style=\"direction: ltr; text-align: justify; line-height: 200%; font-family: Arial; font-size: medium\">\n",
    "<font face=\"Arial\" size=3>\n",
    "<b>Why is my <code>temp_correct</code> array incorrect?</b><br>\n",
    "In this part, ensure that you have <i>added</i> the number 10 to the negative values in the array, not <i>subtracted</i> it! Additionally, non-negative values should remain unchanged. This means the dimensions of your array must be exactly the same as the original array, with the only difference being that negative values have been increased by 10.\n",
    "</font>\n",
    "</p>\n"
   ]
  },
  {
   "cell_type": "code",
   "execution_count": null,
   "metadata": {},
   "outputs": [],
   "source": [
    "temp_correct = temp.copy()\n",
    "temp_correct = None # To-Do"
   ]
  },
  {
   "attachments": {},
   "cell_type": "markdown",
   "metadata": {},
   "source": [
    "\n",
    "<h2 align=\"left\" style=\"line-height:200%;font-family:Arial;color:#0099cc\">\n",
    "<font face=\"Arial\" color=\"#0099cc\">\n",
    "Part Three\n",
    "</font>\n",
    "</h2>\n",
    "\n",
    "<p style=\"direction: ltr; text-align: justify; line-height: 200%; font-family: Arial; font-size: medium\">\n",
    "<font face=\"Arial\" size=3>\n",
    "The Homeless Support Organization has stated that it requires temperatures in Fahrenheit (F°), but the data provided to us is recorded in Celsius (C°). Now, you need to use the formula below to convert the temperatures from the previous part (the array <code>temp_correct</code>) to Fahrenheit and store them in a variable named <code>temp_F</code>.\n",
    "</font>\n",
    "</p>\n",
    "\n",
    "<p style=\"text-align: center; font-family: Arial; font-size: medium\">\n",
    "<font face=\"Arial\" size=3>\n",
    "$$ F = 1.8 \\times C + 32 $$\n",
    "</font>\n",
    "</p>\n"
   ]
  },
  {
   "cell_type": "code",
   "execution_count": null,
   "metadata": {},
   "outputs": [],
   "source": [
    "temp_F = temp_correct.copy()\n",
    "temp_F = None # To-Do"
   ]
  },
  {
   "attachments": {},
   "cell_type": "markdown",
   "metadata": {},
   "source": [
    "\n",
    "<h2 align=\"left\" style=\"line-height:200%;font-family:Arial;color:#0099cc\">\n",
    "<font face=\"Arial\" color=\"#0099cc\">\n",
    "Part Four\n",
    "</font>\n",
    "</h2>\n",
    "\n",
    "<p style=\"direction: ltr; text-align: left; line-height: 200%; font-family: Arial; font-size: medium\">\n",
    "<font face=\"Arial\" size=3>\n",
    "Next, you are asked to report the warmest hour of each day along with the temperature during that hour, as homeless individuals can more comfortably leave their shelters to receive food at this time.\n",
    "<br>\n",
    "Perform your analysis on the array from the previous part (<code>temp_F</code>) and store the output as an array with dimensions <code>(2, 7)</code> in the variable <code>hottest_times</code>. In the first row, include the hour of the highest temperature for each day, and in the second row, include the temperature during that hour. Your output should be structured as follows:\n",
    "\n",
    "<table style=\"width:100%; text-align:center\">\n",
    "  <tr>\n",
    "    <th><font face=\"Arial\" size=3>Hour of highest temperature on day 1</font></th>\n",
    "    <th><font face=\"Arial\" size=3>Hour of highest temperature on day 2</font></th>\n",
    "    <th><font face=\"Arial\" size=3>...</font></th>\n",
    "    <th><font face=\"Arial\" size=3>Hour of highest temperature on day 7</font></th>\n",
    "  </tr>\n",
    "  <tr>\n",
    "    <th><font face=\"Arial\" size=3>Highest temperature on day 1</font></th>\n",
    "    <th><font face=\"Arial\" size=3>Highest temperature on day 2</font></th>\n",
    "    <th><font face=\"Arial\" size=3>...</font></th>\n",
    "    <th><font face=\"Arial\" size=3>Highest temperature on day 7</font></th>\n",
    "  </tr>\n",
    "</table>\n",
    "</font>\n",
    "</p>"
   ]
  },
  {
   "cell_type": "code",
   "execution_count": null,
   "metadata": {},
   "outputs": [],
   "source": [
    "hottest_times = None # To-Do"
   ]
  },
  {
   "cell_type": "markdown",
   "metadata": {},
   "source": [
    "<p style=\"direction: ltr; text-align: justify; line-height: 200%; font-family: Arial; font-size: medium\">\n",
    "<font face=\"Arial\" size=3>\n",
    "<b>How can I find the maximum or minimum value of an array?</b><br>\n",
    "You can use the <code>max</code> or <code>min</code> functions from the NumPy library. For example:<br>\n",
    "<code>input = np.array([1, 2, 3, 4])</code><br>\n",
    "<code>input.min(axis=0)</code><br>\n",
    "This code will output the number 1, which is the minimum value of the array.\n",
    "</font>\n",
    "</p>\n",
    "\n",
    "<p style=\"direction: ltr; text-align: justify; line-height: 200%; font-family: Arial; font-size: medium\">\n",
    "<font face=\"Arial\" size=3>\n",
    "<b>How can I find the index of the maximum or minimum element of an array?</b><br>\n",
    "You can use the <code>argmax</code> or <code>argmin</code> functions from the NumPy library. For example:<br>\n",
    "<code>input = np.array([1, 2, 3, 4])</code><br>\n",
    "<code>input.argmin(axis=0)</code><br>\n",
    "This code will output the number 0, indicating that the element at index 0 of the array has the minimum value.\n",
    "</font>\n",
    "</p>\n",
    "\n",
    "<p style=\"direction: ltr; text-align: justify; line-height: 200%; font-family: Arial; font-size: medium\">\n",
    "<font face=\"Arial\" size=3>\n",
    "<b>How can I create a two-dimensional array in Part Four?</b><br>\n",
    "Suppose you have stored the hours of the highest temperature for each day in a list called <code>hours</code> and the temperatures for each day in a list called <code>values</code>. You can combine these two lists into a two-row array using the following code:<br>\n",
    "<code>np.array([hours, values])</code><br>\n",
    "If you plan to use <code>np.concatenate</code> for this task, remember that you may need to use <code>reshape</code> to achieve the desired array structure.\n",
    "</font>\n",
    "</p>"
   ]
  },
  {
   "attachments": {},
   "cell_type": "markdown",
   "metadata": {},
   "source": [
    "<h2 align=\"left\" style=\"line-height:200%;font-family:Arial;color:#0099cc\">\n",
    "<font face=\"Arial\" color=\"#0099cc\">\n",
    "Part Five\n",
    "</font>\n",
    "</h2>\n",
    "\n",
    "<p style=\"direction: ltr; text-align: justify; line-height: 200%; font-family: Arial; font-size: medium\">\n",
    "<font face=\"Arial\" size=3>\n",
    "Finally, we ask you to store the number of the day with the <b>lowest</b> average temperature, along with the average temperature itself, in the array <code>coldest_day</code>. This will allow the organization to distribute hot drinks among the homeless on such a day.\n",
    "<br>\n",
    "Perform your analysis on the <code>temp_F</code> array and store the output as a one-dimensional array of length 2 in the variable <code>coldest_day</code>. In the first element, include the day number with the lowest average temperature (between 0 and 6), and in the second element, include the average temperature for that day. Your output should be structured as follows:\n",
    "\n",
    "<table style=\"width:100%\">\n",
    "  <tr>\n",
    "    <th><font face=\"Arial\" size=3>Day</font></th>\n",
    "    <th><font face=\"Arial\" size=3>Temperature</font></th>\n",
    "  </tr>\n",
    "</table>\n",
    "</font>\n",
    "</p>\n"
   ]
  },
  {
   "cell_type": "code",
   "execution_count": null,
   "metadata": {},
   "outputs": [],
   "source": [
    "coldest_day = None # To-Do"
   ]
  },
  {
   "cell_type": "markdown",
   "metadata": {},
   "source": [
    "<p style=\"direction: ltr; text-align: justify; line-height: 200%; font-family: Arial; font-size: medium\">\n",
    "<font face=\"Arial\" size=3>\n",
    "<b>How can I calculate the average temperature for each day?</b><br>\n",
    "To calculate the average in a NumPy array, you can use the <code>mean</code> function. For example, in the code below, specifying <code>axis=1</code> indicates that the average should be calculated for each row:<br>\n",
    "<code>input = np.array([[1, 2, 3, 4], [5, 6, 7, 8]])</code><br>\n",
    "<code>input.mean(axis=1)</code><br>\n",
    "The output of the above code will be <code>array([2.5, 6.5])</code>, where the first element is the average of the first row, and the second element is the average of the second row.\n",
    "</font>\n",
    "</p>\n",
    "\n",
    "<p style=\"direction: ltr; text-align: justify; line-height: 200%; font-family: Arial; font-size: medium\">\n",
    "<font face=\"Arial\" size=3>\n",
    "<b>What is the difference between <code>mean</code> and <code>min</code>?</b><br>\n",
    "The <code>min</code> function is used to calculate the smallest value in an array, while the <code>mean</code> function is used to calculate the average of the array.\n",
    "</font>\n",
    "</p>\n",
    "\n",
    "<p style=\"direction: ltr; text-align: justify; line-height: 200%; font-family: Arial; font-size: medium\">\n",
    "<font face=\"Arial\" size=3>\n",
    "<b>What is meant by the day number?</b><br>\n",
    "The data for each day is stored as a row in the main array. Therefore, the day number corresponds to the row number. For example, the first day is the first row, represented by the number 0. Thus, note that the day number should be between 0 and 6, and there is no need to add 1 to it.\n",
    "</font>\n",
    "</p>"
   ]
  }
 ],
 "metadata": {
  "kernelspec": {
   "display_name": "Python 3 (ipykernel)",
   "language": "python",
   "name": "python3"
  },
  "language_info": {
   "codemirror_mode": {
    "name": "ipython",
    "version": 3
   },
   "file_extension": ".py",
   "mimetype": "text/x-python",
   "name": "python",
   "nbconvert_exporter": "python",
   "pygments_lexer": "ipython3",
   "version": "3.12.2"
  },
  "vscode": {
   "interpreter": {
    "hash": "6a29b8f2e1e8b11f80c3820468461bcdbea6564508a235f61a46eeb59d48b308"
   }
  }
 },
 "nbformat": 4,
 "nbformat_minor": 4
}
