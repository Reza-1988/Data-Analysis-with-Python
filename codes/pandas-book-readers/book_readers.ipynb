{
 "cells": [
  {
   "attachments": {},
   "cell_type": "markdown",
   "metadata": {
    "id": "ddU9LZWUEiAd"
   },
   "source": [
    "<h1 style=\"text-align: center; line-height: 200%; font-family: Arial, sans-serif; color: #0099cc;\">\n",
    "  Book Lovers Community\n",
    "</h1>\n",
    "\n",
    "<p style=\"text-align: justify; line-height: 200%; font-family: Arial, sans-serif; font-size: medium;\">\n",
    "  In this exercise, to support the book-loving community, we aim to analyze data from the <i>Goodreads</i> website and extract interesting and useful insights from it.\n",
    "</p>\n",
    "<p style=\"text-align: center;\">\n",
    "<img src=\"data/img_book_lovers_community.png\" style=\"max-width: 100%; height: auto;\">\n",
    "</p>"
   ]
  },
  {
   "attachments": {},
   "cell_type": "markdown",
   "metadata": {},
   "source": [
    "<h2 style=\"text-align: left; line-height: 200%; font-family: Arial, sans-serif; color: #0099cc;\">\n",
    "  Dataset\n",
    "</h2>\n",
    "\n",
    "<p style=\"text-align: justify; line-height: 200%; font-family: Arial, sans-serif; font-size: medium;\">\n",
    "  The book information is stored in the file <code>books_db.csv</code>, authors in the file <code>authors.csv</code>, publishers in the file <code>publisher.csv</code>, and languages in the file <code>language.csv</code>. Using Pandas, read each of these files and store them in their corresponding variables.\n",
    "</p>\n"
   ]
  },
  {
   "cell_type": "code",
   "execution_count": null,
   "metadata": {},
   "outputs": [],
   "source": [
    "import pandas as pd\n",
    "import numpy as np\n",
    "\n",
    "df = None # To-Do: books_db.csv\n",
    "authors = None # To-Do: authors.csv\n",
    "language = None # To-Do: language.csv\n",
    "publisher = None # To-Do: publisher.csv\n",
    "\n",
    "df.head()"
   ]
  },
  {
   "attachments": {},
   "cell_type": "markdown",
   "metadata": {},
   "source": [
    "<h2 style=\"text-align: left; line-height: 200%; font-family: Arial, sans-serif; color: #0099cc;\">\n",
    "  Part One\n",
    "</h2>\n",
    "\n",
    "<p style=\"text-align: justify; line-height: 200%; font-family: Arial, sans-serif; font-size: medium;\">\n",
    "  As you can see, in the main dataset (books), the values in the three columns <code>lang_id</code>, <code>author_id</code>, and <code>publisher_id</code> are stored only as IDs (<code>id</code>). These IDs correspond to the index numbers in the other dataframes. In this part, we aim to extract their complete information from the respective dataframes and add it to the <code>df</code> dataframe. Therefore, merge the three dataframes <code>authors</code>, <code>language</code>, and <code>publisher</code> with the <code>df</code> dataframe in an appropriate manner using <code>merge</code>.\n",
    "</p>\n",
    "\n",
    "<h4 style=\"font-family: Arial, sans-serif;\">\n",
    "  <span style=\"color: green;\">Hint</span>: How do I merge the data in Part One?\n",
    "</h4>\n",
    "\n",
    "<p style=\"text-align: justify; line-height: 200%; font-family: Arial, sans-serif; font-size: medium;\">\n",
    "  In this part, use <code>merge</code> with the arguments <code>left_on</code> and <code>right_index</code>.\n",
    "</p>"
   ]
  },
  {
   "cell_type": "code",
   "execution_count": 20,
   "metadata": {},
   "outputs": [],
   "source": [
    "# To-Do: about 3 lines of code\n",
    "\n",
    "df.head()"
   ]
  },
  {
   "attachments": {},
   "cell_type": "markdown",
   "metadata": {},
   "source": [
    "<p style=\"text-align: justify; line-height: 200%; font-family: Arial, sans-serif; font-size: medium;\">\n",
    "  Now that all the values have been added, we no longer need the three <code>id</code> columns used as keys. Therefore, we will remove them using the <code>drop</code> command.\n",
    "</p>"
   ]
  },
  {
   "cell_type": "code",
   "execution_count": 4,
   "metadata": {},
   "outputs": [],
   "source": [
    "df.drop(columns = ['author_id', 'lang_id', 'publisher_id'], inplace = True)"
   ]
  },
  {
   "attachments": {},
   "cell_type": "markdown",
   "metadata": {},
   "source": [
    "<h2 style=\"text-align: left; line-height: 200%; font-family: Arial, sans-serif; color: #0099cc;\">\n",
    "  Part Two\n",
    "</h2>\n",
    "\n",
    "<p style=\"text-align: justify; line-height: 200%; font-family: Arial, sans-serif; font-size: medium;\">\n",
    "  Now, rename the columns of the dataframe so that they are, from left to right, as follows:\n",
    "  <ul>\n",
    "    <li><code>bookID</code></li>\n",
    "    <li><code>title</code></li>\n",
    "    <li><code>average_rating</code></li>\n",
    "    <li><code>isbn</code></li>\n",
    "    <li><code>isbn13</code></li>\n",
    "    <li><code>num_pages</code></li>\n",
    "    <li><code>ratings_count</code></li>\n",
    "    <li><code>text_reviews_count</code></li>\n",
    "    <li><code>publication_date</code></li>\n",
    "    <li><code>author</code></li>\n",
    "    <li><code>lang</code></li>\n",
    "    <li><code>publisher</code></li>\n",
    "  </ul>\n",
    "</p>"
   ]
  },
  {
   "cell_type": "code",
   "execution_count": null,
   "metadata": {},
   "outputs": [],
   "source": [
    "# To-Do"
   ]
  },
  {
   "attachments": {},
   "cell_type": "markdown",
   "metadata": {},
   "source": [
    "<h2 style=\"text-align: left; line-height: 200%; font-family: Arial, sans-serif; color: #0099cc;\">\n",
    "  Part Three\n",
    "</h2>\n",
    "\n",
    "<p style=\"text-align: justify; line-height: 200%; font-family: Arial, sans-serif; font-size: medium;\">\n",
    "  Now, calculate the average rating of books for each publisher and store the result in the variable <code>publisher_rating</code>.\n",
    "</p>\n",
    "\n",
    "<h4 style=\"font-family: Arial, sans-serif;\">\n",
    "  <span style=\"color: green;\">Hint</span>: What should the output of the average book ratings per publisher look like?\n",
    "</h4>\n",
    "\n",
    "<p style=\"text-align: justify; line-height: 200%; font-family: Arial, sans-serif; font-size: medium;\">\n",
    "  The output of this part will be a pandas Series as shown below:\n",
    "  <pre>\n",
    "publisher\n",
    "18-Oct                           3.650000\n",
    "1st Book Library                 3.580000\n",
    "1st World Library                4.180000\n",
    "A & C Black (Childrens books)    4.400000\n",
    "A Harvest Book/Harcourt  Inc.    4.070000\n",
    "                                   ...\n",
    "聯經出版事業股份有限公司                     4.400000\n",
    "英文漢聲出版股份有限公司                     4.220000\n",
    "角川書店 (Kadokawa Shoten)           3.815000\n",
    "講談社                              4.283333\n",
    "集英社                              4.237500\n",
    "Name: average_rating, Length: 2290, dtype: float64\n",
    "  </pre>\n",
    "</p>"
   ]
  },
  {
   "cell_type": "code",
   "execution_count": null,
   "metadata": {},
   "outputs": [],
   "source": [
    "publisher_rating = None # To-Do\n",
    "publisher_rating"
   ]
  },
  {
   "attachments": {},
   "cell_type": "markdown",
   "metadata": {},
   "source": [
    "<h2 style=\"text-align: left; line-height: 200%; font-family: Arial, sans-serif; color: #0099cc;\">\n",
    "  Part Four\n",
    "</h2>\n",
    "\n",
    "<p style=\"text-align: justify; line-height: 200%; font-family: Arial, sans-serif; font-size: medium;\">\n",
    "  In this part, first add a column named <code>num_pages_grp</code> to the dataframe that indicates the number of book pages in the following ranges:\n",
    "</p>\n",
    "\n",
    "<div style=\"text-align: center; line-height: 200%; font-family: Arial, sans-serif; font-size: medium;\">\n",
    "  <table style=\"margin: auto; border-collapse: collapse;\">\n",
    "    <tr>\n",
    "      <th style=\"border: 1px solid #ddd; padding: 8px;\"><b>Value</b></th>\n",
    "      <th style=\"border: 1px solid #ddd; padding: 8px;\"><b>Description</b></th>\n",
    "    </tr>\n",
    "    <tr>\n",
    "      <td style=\"border: 1px solid #ddd; padding: 8px;\"><code>&lt;250</code></td>\n",
    "      <td style=\"border: 1px solid #ddd; padding: 8px;\">Less than 250 pages</td>\n",
    "    </tr>\n",
    "    <tr>\n",
    "      <td style=\"border: 1px solid #ddd; padding: 8px;\"><code>250-499</code></td>\n",
    "      <td style=\"border: 1px solid #ddd; padding: 8px;\">250 to 499 pages</td>\n",
    "    </tr>\n",
    "    <tr>\n",
    "      <td style=\"border: 1px solid #ddd; padding: 8px;\"><code>500-749</code></td>\n",
    "      <td style=\"border: 1px solid #ddd; padding: 8px;\">500 to 749 pages</td>\n",
    "    </tr>\n",
    "    <tr>\n",
    "      <td style=\"border: 1px solid #ddd; padding: 8px;\"><code>750-999</code></td>\n",
    "      <td style=\"border: 1px solid #ddd; padding: 8px;\">750 to 999 pages</td>\n",
    "    </tr>\n",
    "    <tr>\n",
    "      <td style=\"border: 1px solid #ddd; padding: 8px;\"><code>&gt;=1000</code></td>\n",
    "      <td style=\"border: 1px solid #ddd; padding: 8px;\">1000 pages or more</td>\n",
    "    </tr>\n",
    "  </table>\n",
    "</div>\n",
    "\n",
    "<p style=\"text-align: justify; line-height: 200%; font-family: Arial, sans-serif; font-size: medium;\">\n",
    "  <span style=\"color: green;\"><b>Hint:</b></span> For this task, you can use the <code>np.select</code> function.\n",
    "</p>"
   ]
  },
  {
   "metadata": {},
   "cell_type": "markdown",
   "source": [
    "<h4 style=\"font-family: Arial, sans-serif;\">\n",
    "  <span style=\"color: green;\">Hint</span>: I'm having trouble using np.select\n",
    "</h4>\n",
    "\n",
    "<p style=\"text-align: justify; line-height: 200%; font-family: Arial, sans-serif; font-size: medium;\">\n",
    "  Suppose we have the following dataframe:\n",
    "</p>\n",
    "\n",
    "<pre style=\"font-family: monospace; background-color: #e8ecef; padding: 12px; border: 2px solid #ced4da; color: #212529;\">\n",
    "  Set Type  color\n",
    "0   Z    A  green\n",
    "1   Z    B  green\n",
    "2   X    B    red\n",
    "3   Y    C    red\n",
    "</pre>\n",
    "\n",
    "<p style=\"text-align: justify; line-height: 200%; font-family: Arial, sans-serif; font-size: medium;\">\n",
    "  Now, we want to modify the <code>color</code> column based on certain conditions:\n",
    "  <ul>\n",
    "    <li>If <code>(df['Set'] == 'Z') & (df['Type'] == 'A')</code>, then set it to yellow.</li>\n",
    "    <li>Otherwise, if <code>(df['Set'] == 'Z') & (df['Type'] == 'B')</code>, then set it to blue.</li>\n",
    "    <li>Otherwise, if <code>(df['Type'] == 'B')</code>, then set it to purple.</li>\n",
    "    <li>If none of the above conditions are met, set it to black.</li>\n",
    "  </ul>\n",
    "</p>\n",
    "\n",
    "<p style=\"text-align: justify; line-height: 200%; font-family: Arial, sans-serif; font-size: medium;\">\n",
    "  We can achieve this using <code>np.select</code>. We pass our conditions to the <code>conditions</code> argument and the corresponding results to the <code>choices</code> argument, as follows:\n",
    "</p>\n",
    "\n",
    "<pre style=\"font-family: monospace; background-color: #e8ecef; padding: 12px; border: 2px solid #ced4da; color: #212529;\">\n",
    "df = pd.DataFrame({'Type': list('ABBC'), 'Set': list('ZZXY')})\n",
    "conditions = [ ((df['Set'] == 'Z') & (df['Type'] == 'A')), ((df['Set'] == 'Z') & (df['Type'] == 'B')), (df['Type'] == 'B')]\n",
    "choices = ['yellow', 'blue', 'purple']\n",
    "df['color'] = np.select(conditions, choices, default='black')\n",
    "print(df)\n",
    "</pre>\n",
    "\n",
    "<p style=\"text-align: justify; line-height: 200%; font-family: Arial, sans-serif; font-size: medium;\">\n",
    "  The output will be as follows:\n",
    "</p>\n",
    "\n",
    "<pre style=\"font-family: monospace; background-color: #e8ecef; padding: 12px; border: 2px solid #ced4da; color: #212529;\">\n",
    "  Set Type   color\n",
    "0   Z    A  yellow\n",
    "1   Z    B    blue\n",
    "2   X    B  purple\n",
    "3   Y    C   black\n",
    "</pre>"
   ]
  },
  {
   "cell_type": "code",
   "execution_count": null,
   "metadata": {},
   "outputs": [],
   "source": [
    "df['num_pages_grp'] = None # To-Do"
   ]
  },
  {
   "attachments": {},
   "cell_type": "markdown",
   "metadata": {},
   "source": [
    "<p style=\"text-align: justify; line-height: 200%; font-family: Arial, sans-serif; font-size: medium;\">\n",
    "  Now, we want to know how many books each author has written in each of these ranges. The result should look something like the table below:\n",
    "</p>\n",
    "\n",
    "<pre>\n",
    "A.B. Yehoshua          250-499          1\n",
    "                       500-749          1\n",
    "A.D.P. Briggs          250-499          1\n",
    "A.E. Cunningham        <250             1\n",
    "A.J. Jacobs            250-499          1\n",
    "</pre>"
   ]
  },
  {
   "cell_type": "markdown",
   "metadata": {
    "id": "YWBTRJvqdG_u"
   },
   "source": [
    "\n",
    "<br />\n",
    "<div dir=rtl id=\"start\" style=\"direction:rtl;line-height:200%;\">\n",
    "\t<font face=\"vazir\" size\n",
    "        سلاموری ارسال کنید.\n",
    "  </p>\n",
    "</div>"
   ]
  }
 ],
 "metadata": {
  "colab": {
   "collapsed_sections": [],
   "name": "exercise1.ipynb",
   "provenance": []
  },
  "kernelspec": {
   "display_name": "Python 3",
   "language": "python",
   "name": "python3"
  },
  "language_info": {
   "codemirror_mode": {
    "name": "ipython",
    "version": 3
   },
   "file_extension": ".py",
   "mimetype": "text/x-python",
   "name": "python",
   "nbconvert_exporter": "python",
   "pygments_lexer": "ipython3",
   "version": "3.8.0"
  },
  "vscode": {
   "interpreter": {
    "hash": "44e7e1b8fa2096bd5707ed7fd18b1724a2db25f4c565a7673f8b6e7bfc49d25d"
   }
  }
 },
 "nbformat": 4,
 "nbformat_minor": 4
}
