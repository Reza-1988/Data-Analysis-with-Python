{
 "cells": [
  {
   "attachments": {},
   "cell_type": "markdown",
   "metadata": {},
   "source": [
    "<h1 style=\"text-align: center; line-height: 200%; font-family: Arial, sans-serif; color: #0099cc;\">\n",
    "  Chocolate Project Step 1 - Large Shipment\n",
    "</h1>\n",
    "\n",
    "</p>\n",
    "<p style=\"text-align: center;\">\n",
    "<img src=\"data/img_yetanet.png\" style=\"max-width: 100%; height: auto;\">\n",
    "</p>\n",
    "\n",
    "<p style=\"text-align: justify; line-height: 200%; font-family: Arial, sans-serif; font-size: medium;\">\n",
    "  In the first step of the project, suppose we have received a large shipment of foreign chocolates, and fortunately, the seller has provided us with a list of detailed specifications for each chocolate. Now, we aim to examine these specifications further and improve the structure for storing this information.\n",
    "</p>"
   ]
  },
  {
   "attachments": {},
   "cell_type": "markdown",
   "metadata": {},
   "source": [
    "<h2 style=\"text-align: left; line-height: 200%; font-family: Arial, sans-serif; color: #0099cc;\">\n",
    "  Dataset\n",
    "</h2>\n",
    "\n",
    "<p style=\"text-align: justify; line-height: 200%; font-family: Arial, sans-serif; font-size: medium;\">\n",
    "  The information about the chocolates is provided in a file named <code>chocolate.csv</code>. First, let's read this information into a dataframe using the cell below.\n",
    "</p>\n"
   ]
  },
  {
   "cell_type": "code",
   "execution_count": null,
   "metadata": {
    "colab": {
     "base_uri": "https://localhost:8080/",
     "height": 223
    },
    "executionInfo": {
     "elapsed": 371,
     "status": "ok",
     "timestamp": 1627552541479,
     "user": {
      "displayName": "Parto Shahroodi",
      "photoUrl": "https://lh3.googleusercontent.com/a-/AOh14GgVRnuIKtxzeAYtLGbbb7NnFc-HXqxuTOJ6OMw7uw=s64",
      "userId": "08853559073941204272"
     },
     "user_tz": -270
    },
    "id": "JUEwzKpr2RUk",
    "outputId": "684b5cff-21a6-46d3-8084-e090addb1731"
   },
   "outputs": [],
   "source": [
    "import numpy as np\n",
    "import pandas as pd\n",
    "\n",
    "df = pd.read_csv('./data/chocolate.csv')\n",
    "df.head()"
   ]
  },
  {
   "attachments": {},
   "cell_type": "markdown",
   "metadata": {},
   "source": [
    "<h2 style=\"text-align: left; line-height: 200%; font-family: Arial, sans-serif; color: #0099cc;\">\n",
    "  Part One\n",
    "</h2>\n",
    "\n",
    "<p style=\"text-align: justify; line-height: 200%; font-family: Arial, sans-serif; font-size: medium;\">\n",
    "  To understand the large volume of chocolates and their detailed specifications, store and print the dimensions (shape) and column names (columns) of this dataset in the variables below:\n",
    "</p>\n"
   ]
  },
  {
   "cell_type": "code",
   "execution_count": null,
   "metadata": {
    "colab": {
     "base_uri": "https://localhost:8080/"
    },
    "executionInfo": {
     "elapsed": 442,
     "status": "ok",
     "timestamp": 1627552552538,
     "user": {
      "displayName": "Parto Shahroodi",
      "photoUrl": "https://lh3.googleusercontent.com/a-/AOh14GgVRnuIKtxzeAYtLGbbb7NnFc-HXqxuTOJ6OMw7uw=s64",
      "userId": "08853559073941204272"
     },
     "user_tz": -270
    },
    "id": "IPLy4mOvN4LB",
    "outputId": "6f1dcea8-4503-4063-a268-1a5891412bf1"
   },
   "outputs": [],
   "source": [
    "s = None # To-Do (shape)\n",
    "cols = None # To-Do (columns)\n",
    "print(s)\n",
    "print(cols)"
   ]
  },
  {
   "cell_type": "markdown",
   "metadata": {},
   "source": [
    "<h4 style=\"font-family: Arial, sans-serif;font-weigh:bold\">\n",
    "  <span style=\"color: green;\">Hint</span>: In Part One, what format should I use to store the dimensions and column names?\n",
    "</h>\n",
    "\n",
    "<p style=\"text-align: justify; line-height: 200%; font-family: Arial, sans-serif; font-size: medium;\">\n",
    "  In this part, you can assign the variables <code>s</code> and <code>cols</code> with any structure, as they will ultimately be converted to NumPy arrays when saved to a file. However, the standard format for these two variables would look something like the following:\n",
    "</p>\n",
    "\n",
    "<pre style=\"font-family: monospace; background-color: #e8ecef; padding: 12px; border: 2px solid #ced4da; color: #212529;\">\n",
    "(100, 10)\n",
    "</pre>\n",
    "\n",
    "<pre style=\"font-family: monospace; background-color: #e8ecef; padding: 12px; border: 2px solid #ced4da; color: #212529;\">\n",
    "Index(['Col1', 'Col2', ...], dtype='object')\n",
    "</pre>\n",
    "\n",
    "<p style=\"text-align: justify; line-height: 200%; font-family: Arial, sans-serif; font-size: medium;\">\n",
    "  Note that the numbers 100 and 10 are just examples, but they represent the number of rows and columns of the dataframe, respectively.\n",
    "</p>"
   ]
  },
  {
   "attachments": {},
   "cell_type": "markdown",
   "metadata": {
    "id": "phQ8lLXVhTuc"
   },
   "source": [
    "<h2 style=\"text-align: left; line-height: 200%; font-family: Arial, sans-serif; color: #0099cc;\">\n",
    "  Part Two\n",
    "</h2>\n",
    "\n",
    "<p style=\"text-align: justify; line-height: 200%; font-family: Arial, sans-serif; font-size: medium;\">\n",
    "  As you noticed, some column names contain the character <code>\\n</code>, which is used to create a new line but is not displayed as such here. To tidy up the dataset, modify the column names to replace the <code>\\n</code> character with a space.\n",
    "</p>\n"
   ]
  },
  {
   "cell_type": "code",
   "execution_count": null,
   "metadata": {
    "executionInfo": {
     "elapsed": 405,
     "status": "ok",
     "timestamp": 1627552932160,
     "user": {
      "displayName": "Parto Shahroodi",
      "photoUrl": "https://lh3.googleusercontent.com/a-/AOh14GgVRnuIKtxzeAYtLGbbb7NnFc-HXqxuTOJ6OMw7uw=s64",
      "userId": "08853559073941204272"
     },
     "user_tz": -270
    },
    "id": "J6w12_CDsUaK"
   },
   "outputs": [],
   "source": [
    "df.columns = None # To-Do"
   ]
  },
  {
   "attachments": {},
   "cell_type": "markdown",
   "metadata": {
    "id": "AhempoDxhYUd"
   },
   "source": [
    "<p style=\"text-align: justify; line-height: 200%; font-family: Arial, sans-serif; font-size: medium;\">\n",
    "  Using the <code>info()</code> command, we can view general information about the dataframe and the types of its columns.\n",
    "  We suggest that before proceeding, you use this command to take a look at the dataframe and analyze it a bit.\n",
    "</p>\n"
   ]
  },
  {
   "cell_type": "code",
   "execution_count": null,
   "metadata": {
    "colab": {
     "base_uri": "https://localhost:8080/"
    },
    "executionInfo": {
     "elapsed": 452,
     "status": "ok",
     "timestamp": 1626769058517,
     "user": {
      "displayName": "Parto Shahroodi",
      "photoUrl": "https://lh3.googleusercontent.com/a-/AOh14GgVRnuIKtxzeAYtLGbbb7NnFc-HXqxuTOJ6OMw7uw=s64",
      "userId": "08853559073941204272"
     },
     "user_tz": -270
    },
    "id": "cGLlHp8C4mkT",
    "outputId": "71575d1a-8c77-4437-c8b2-86b149100891"
   },
   "outputs": [],
   "source": [
    "df.info()"
   ]
  },
  {
   "attachments": {},
   "cell_type": "markdown",
   "metadata": {},
   "source": [
    "<h2 style=\"text-align: left; line-height: 200%; font-family: Arial, sans-serif; color: #0099cc;\">\n",
    "  Part Three\n",
    "</h2>\n",
    "\n",
    "<p style=\"text-align: justify; line-height: 200%; font-family: Arial, sans-serif; font-size: medium;\">\n",
    "  As you may have noticed, all columns containing string values (e.g., the <code>Company</code> column) are stored as <code>object</code>. Since there are no missing values (which you will learn about in the next chapter), there is no need for these columns to remain as <code>object</code>. For ease of calculations, convert these columns to the string type and use the <code>info</code> command to verify that the change was successful.\n",
    "</p>\n",
    "\n",
    "<p style=\"direction: ltr; text-align: justify; line-height: 200%; font-family: Arial; font-size: medium;\">\n",
    "  <span style=\"color: green;\"><b>Hint 1:</b></span><br>\n",
    "  To convert the type of a column to another type, you can use the <code>astype</code> function. For example:\n",
    "</p>\n",
    "<pre style=\"font-family: monospace; background-color: #e8ecef; padding: 12px; border: 2px solid #ced4da; color: #212529;\">\n",
    "df['col'] = df['col'].astype('int64')\n",
    "</pre>\n",
    "\n",
    "<p style=\"direction: ltr; text-align: justify; line-height: 200%; font-family: Arial; font-size: medium;\">\n",
    "  <span style=\"color: green;\"><b>Hint 2:</b></span><br>\n",
    "  Ensure that you convert the column type to <code>string</code>, not <code>str</code>, as using <code>str</code> will result in the column type remaining as <code>object</code>. To verify your answer, you can use <code>df.info()</code> to check the column type after the change.\n",
    "</p>\n",
    "\n",
    "<p style=\"direction: ltr; text-align: justify; line-height: 200%; font-family: Arial; font-size: medium;\">\n",
    "  <span style=\"color: green;\"><b>Hint 3:</b></span><br>\n",
    "  How can I write a condition to detect if a column is of type <code>object</code>? Suppose the column name is stored in the variable <code>i</code>. You can write:\n",
    "</p>\n",
    "<pre style=\"font-family: monospace; background-color: #e8ecef; padding: 12px; border: 2px solid #ced4da; color: #212529;\">\n",
    "if df.dtypes[i] == 'O':\n",
    "</pre>"
   ]
  },
  {
   "cell_type": "code",
   "execution_count": null,
   "metadata": {
    "colab": {
     "base_uri": "https://localhost:8080/"
    },
    "executionInfo": {
     "elapsed": 456,
     "status": "ok",
     "timestamp": 1626769062163,
     "user": {
      "displayName": "Parto Shahroodi",
      "photoUrl": "https://lh3.googleusercontent.com/a-/AOh14GgVRnuIKtxzeAYtLGbbb7NnFc-HXqxuTOJ6OMw7uw=s64",
      "userId": "08853559073941204272"
     },
     "user_tz": -270
    },
    "id": "OozOj4u-5KEd",
    "outputId": "a314621d-0e65-4bd2-ce71-ae99d26b0f92"
   },
   "outputs": [],
   "source": [
    "# To-Do\n",
    "df.info()"
   ]
  },
  {
   "attachments": {},
   "cell_type": "markdown",
   "metadata": {},
   "source": [
    "<h2 style=\"text-align: left; line-height: 200%; font-family: Arial, sans-serif; color: #0099cc;\">\n",
    "  Part Four\n",
    "</h2>\n",
    "\n",
    "<p style=\"text-align: justify; line-height: 200%; font-family: Arial, sans-serif; font-size: medium;\">\n",
    "  The next issue is the column for the percentage of pure cocoa, <code>Cocoa Percent</code>. As you can see, this column is currently stored as a string, but its values actually represent numerical data. To better normalize this column, find a way to remove the percentage sign (<code>%</code>) from the values and then convert the column type to <code>float</code>.\n",
    "</p><br>\n",
    "\n",
    "<p style=\"text-align: justify; line-height: 200%; font-family: Arial, sans-serif; font-size: medium;\">\n",
    "  <span style=\"color: red;\"><b>Note:</b></span> In this part, you only need to remove the percentage sign (%) and ensure the column type is converted to <code>float</code>. For example, the value <code>63%</code> should be converted to something like <code>63.0</code>.\n",
    "</p><br>\n",
    "\n",
    "<p style=\"direction: ltr; text-align: justify; line-height: 200%; font-family: Arial; font-size: medium;\">\n",
    "  <span style=\"color: green;\"><b>Hint:</b></span>\n",
    "  To remove the percentage sign, you can use the <code>str.replace</code> function.\n",
    "</p>"
   ]
  },
  {
   "cell_type": "code",
   "execution_count": null,
   "metadata": {
    "colab": {
     "base_uri": "https://localhost:8080/",
     "height": 223
    },
    "executionInfo": {
     "elapsed": 449,
     "status": "ok",
     "timestamp": 1626769123179,
     "user": {
      "displayName": "Parto Shahroodi",
      "photoUrl": "https://lh3.googleusercontent.com/a-/AOh14GgVRnuIKtxzeAYtLGbbb7NnFc-HXqxuTOJ6OMw7uw=s64",
      "userId": "08853559073941204272"
     },
     "user_tz": -270
    },
    "id": "HXZtM_L--I9o",
    "outputId": "4246a6bd-a533-460b-e5b4-ad85ae5fbc2e"
   },
   "outputs": [],
   "source": [
    "df['Cocoa Percent'] = None # To-Do"
   ]
  },
  {
   "attachments": {},
   "cell_type": "markdown",
   "metadata": {},
   "source": [
    "<h2 style=\"text-align: left; line-height: 200%; font-family: Arial, sans-serif; color: #0099cc;\">\n",
    "  Analyzing the Frequency of Cocoa Percentage\n",
    "</h2>\n",
    "\n",
    "<p style=\"text-align: justify; line-height: 200%; font-family: Arial, sans-serif; font-size: medium;\">\n",
    "  In many cases, data visualization can quickly reveal important insights. For example, to examine the cocoa percentage in different chocolates, we can use a histogram chart.\n",
    "  <br>\n",
    "  Don't panic! 😉 You'll soon learn about various types of charts and how to create them in the \"Data Visualization\".\n",
    "</p>"
   ]
  },
  {
   "cell_type": "code",
   "execution_count": null,
   "metadata": {},
   "outputs": [],
   "source": [
    "import seaborn as sns\n",
    "sns.displot(df, x = 'Cocoa Percent', bins = 30)"
   ]
  },
  {
   "cell_type": "markdown",
   "metadata": {},
   "source": [
    "<p style=\"text-align: justify; line-height: 200%; font-family: Arial, sans-serif; font-size: medium;\">\n",
    "  By examining the chart above, it is evident that a large percentage of chocolates have a cocoa content of 70%.\n",
    "</p>"
   ]
  },
  {
   "attachments": {},
   "cell_type": "markdown",
   "metadata": {},
   "source": [
    "<h2 style=\"text-align: left; line-height: 200%; font-family: Arial, sans-serif; color: #0099cc;\">\n",
    "  Data storage\n",
    "</h2>\n",
    "\n",
    "<p style=\"text-align: justify; line-height: 200%; font-family: Arial, sans-serif; font-size: medium;\">\n",
    "  Now all the specifications are organized and ready for analysis.\n",
    "  <br>\n",
    "  Now you need to save the preprocessed dataset in a file called <code>chocolate_preprocessed.csv</code> without an index (<code>index</code>) so that you can use it in the next step.</p>"
   ]
  },
  {
   "cell_type": "code",
   "execution_count": null,
   "metadata": {
    "id": "Jl_UvfllCL4F"
   },
   "outputs": [],
   "source": [
    "# To-Do"
   ]
  }
 ],
 "metadata": {
  "colab": {
   "authorship_tag": "ABX9TyN5diGbKcT8eK/BCk7EMqAj",
   "name": "گام اول.ipynb",
   "provenance": []
  },
  "kernelspec": {
   "display_name": "Python 3 (ipykernel)",
   "language": "python",
   "name": "python3"
  },
  "language_info": {
   "codemirror_mode": {
    "name": "ipython",
    "version": 3
   },
   "file_extension": ".py",
   "mimetype": "text/x-python",
   "name": "python",
   "nbconvert_exporter": "python",
   "pygments_lexer": "ipython3",
   "version": "3.12.2"
  },
  "vscode": {
   "interpreter": {
    "hash": "6a29b8f2e1e8b11f80c3820468461bcdbea6564508a235f61a46eeb59d48b308"
   }
  }
 },
 "nbformat": 4,
 "nbformat_minor": 4
}
