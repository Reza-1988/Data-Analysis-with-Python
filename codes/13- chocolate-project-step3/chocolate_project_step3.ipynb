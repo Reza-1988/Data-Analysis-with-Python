{
 "cells": [
  {
   "cell_type": "markdown",
   "metadata": {},
   "source": [
    "<div style=\"text-align: center;\">\n",
    "  <h1>Better Chocolates - Step 3</h1>\n",
    "  <img src=\"data/img.png\" alt=\"image\">\n",
    "</div>"
   ]
  },
  {
   "attachments": {},
   "cell_type": "markdown",
   "metadata": {
    "id": "IoGqY4BtZ4If"
   },
   "source": [
    "Suppose that after eating several regular (non-dark) chocolates, we've realized that many of them are actually tasty.\n",
    "If we can identify higher-quality ones, they might sell well.\n",
    "So, in the final step of the project, we aim to identify companies that produce higher-quality chocolates and separate their products."
   ]
  },
  {
   "attachments": {},
   "cell_type": "markdown",
   "metadata": {},
   "source": [
    "## Dataset\n",
    "\n",
    "In the previous step, you estimated the prices of the chocolates and saved the final DataFrame in a file named `chocolate_price.csv`.\n",
    "First, read that file into a DataFrame.\n"
   ]
  },
  {
   "cell_type": "code",
   "execution_count": null,
   "metadata": {
    "colab": {
     "base_uri": "https://localhost:8080/",
     "height": 223
    },
    "executionInfo": {
     "elapsed": 532,
     "status": "ok",
     "timestamp": 1627498882795,
     "user": {
      "displayName": "Parto Shahroodi",
      "photoUrl": "https://lh3.googleusercontent.com/a-/AOh14GgVRnuIKtxzeAYtLGbbb7NnFc-HXqxuTOJ6OMw7uw=s64",
      "userId": "08853559073941204272"
     },
     "user_tz": -270
    },
    "id": "5zNJ61fR4cfU",
    "outputId": "37214551-b638-45d6-be7c-2af2fe1372f0"
   },
   "outputs": [],
   "source": [
    "import numpy as np\n",
    "import pandas as pd\n",
    "\n",
    "df = pd.read_csv('data/chocolate_price.csv')\n",
    "df.head()"
   ]
  },
  {
   "attachments": {},
   "cell_type": "markdown",
   "metadata": {},
   "source": [
    "## Part One\n",
    "\n",
    "Note that in this step, we are only working with non-dark chocolates.\n",
    "So first, filter the chocolates whose cocoa percentage is less than or equal to 70%, and store them in a DataFrame called `df`.\n",
    "\n",
    "💡 **Hint:** <br>\n",
    "After filtering and creating the DataFrame, use the `reset_index()` function to reset the indices.\n",
    "Pay attention to the `inplace` and `drop` arguments in this step.\n"
   ]
  },
  {
   "cell_type": "code",
   "execution_count": null,
   "metadata": {},
   "outputs": [],
   "source": [
    "df = None # To-Do"
   ]
  },
  {
   "attachments": {},
   "cell_type": "markdown",
   "metadata": {
    "id": "4Dzvaz_EbL4W"
   },
   "source": [
    "## Part Two\n",
    "\n",
    "In this part, for each chocolate company, calculate the average rating of its chocolates for each year, and store the result in a DataFrame named `companies`, similar to the table below:\n",
    "\n",
    "|                        | 2006 | ... | 2015  | 2016 | 2017 |\n",
    "|------------------------|------|-----|--------|------|------|\n",
    "| A. Morin               | NaN  | ... | 63.75 | 75.0 | NaN  |\n",
    "| ...                    | ...  | ... | ...   | ...  | ...  |\n",
    "| hexx                   | NaN  | ... | 60.00 | NaN  | NaN  |\n",
    "| twenty-four blackbirds | NaN  | ... | NaN   | NaN  | NaN  |\n",
    "\n",
    "💡 **Hint:** <br>\n",
    "After using the `groupby` function and calculating the mean, use the `unstack` function.\n"
   ]
  },
  {
   "cell_type": "code",
   "execution_count": null,
   "metadata": {
    "colab": {
     "base_uri": "https://localhost:8080/",
     "height": 423
    },
    "executionInfo": {
     "elapsed": 594,
     "status": "ok",
     "timestamp": 1627498890111,
     "user": {
      "displayName": "Parto Shahroodi",
      "photoUrl": "https://lh3.googleusercontent.com/a-/AOh14GgVRnuIKtxzeAYtLGbbb7NnFc-HXqxuTOJ6OMw7uw=s64",
      "userId": "08853559073941204272"
     },
     "user_tz": -270
    },
    "id": "ZUhHGdTcGcUs",
    "outputId": "e94f7d1b-e5e9-4946-8cca-45ef6880283c"
   },
   "outputs": [],
   "source": [
    "companies = None # To-Do"
   ]
  },
  {
   "attachments": {},
   "cell_type": "markdown",
   "metadata": {},
   "source": [
    "⚠️ The following lines are used to standardize the format of the table.\n",
    "Do not modify them — just run the cell below."
   ]
  },
  {
   "cell_type": "code",
   "execution_count": null,
   "metadata": {},
   "outputs": [],
   "source": [
    "companies.columns.name = None\n",
    "companies.index.name = None"
   ]
  },
  {
   "attachments": {},
   "cell_type": "markdown",
   "metadata": {
    "id": "pnlGnmVsaV0_"
   },
   "source": [
    "## Part Three\n",
    "\n",
    "To find the best companies, we want to consider only the ratings from the year 2012 onwards (including 2012 itself).\n",
    "First, for each company, calculate the average rating from 2012 onward and store it in the variable `mean_ratings`.\n",
    "Note that your output should be a **Pandas Series** (`pd.Series`)."
   ]
  },
  {
   "cell_type": "code",
   "execution_count": null,
   "metadata": {
    "colab": {
     "base_uri": "https://localhost:8080/"
    },
    "executionInfo": {
     "elapsed": 446,
     "status": "ok",
     "timestamp": 1627498961315,
     "user": {
      "displayName": "Parto Shahroodi",
      "photoUrl": "https://lh3.googleusercontent.com/a-/AOh14GgVRnuIKtxzeAYtLGbbb7NnFc-HXqxuTOJ6OMw7uw=s64",
      "userId": "08853559073941204272"
     },
     "user_tz": -270
    },
    "id": "fA-hFYchWhq8",
    "outputId": "39f233c9-037d-4982-9282-bac8e9270524"
   },
   "outputs": [],
   "source": [
    "mean_ratings = None # To-Do"
   ]
  },
  {
   "attachments": {},
   "cell_type": "markdown",
   "metadata": {},
   "source": [
    "Using the average rating of each company (`mean_ratings`), find the top 10 companies with the highest ratings and store them in the variable `best_ratings`.\n",
    "Note that your output should be a **Pandas Series** (`pd.Series`).\n",
    "\n",
    "💬 **Note:**\n",
    "In cases where companies have equal average ratings, they should be ranked alphabetically.\n",
    "For example, if companies `A` and `B` both have an average rating of `75.00`, company `A` should be given priority.\n",
    "\n",
    "💥 **How can I sort by both the average rating and the company name?** <br>\n",
    "In this part, you can start by creating a copy of `mean_ratings`.\n",
    "Then, use the `reset_index` function to convert the index into a separate column.\n",
    "Now, with the `sort_values` function, you can sort based on both columns (average rating and index).\n",
    "Make sure to list the more important column first.\n",
    "Also, note that the sort order for these two columns is different, so you need to set the `ascending` argument correctly.\n",
    "Finally, use the `set_index` function to set the index column back, and then keep only the top 10 entries.\n",
    "\n",
    "\n",
    "💥 **What does the output of the `mean_ratings` section look like?** <br>\n",
    "Your output will be a **Pandas Series** that looks like the following:\n",
    "\n",
    "| Company              | Average Rating |\n",
    "|----------------------|----------------|\n",
    "| A. Morin             | 69.522727      |\n",
    "| AMMA                 | NaN            |\n",
    "| Acalli               | 75.000000      |\n",
    "| ...                  | ...            |\n",
    "| (Total: 313 entries) |                |\n"
   ]
  },
  {
   "cell_type": "code",
   "execution_count": null,
   "metadata": {},
   "outputs": [],
   "source": [
    "best_ratings = None # To-Do"
   ]
  },
  {
   "attachments": {},
   "cell_type": "markdown",
   "metadata": {
    "id": "x-Z5ei7XaYzB"
   },
   "source": [
    "## Part Four\n",
    "\n",
    "Now, select the chocolates whose manufacturer is among the top 10 companies (`best_ratings`) from the DataFrame `df`,\n",
    "and store them in a new DataFrame called `chocolates_to_sell`.\n",
    "\n",
    "💡 **Hint 1:**\n",
    "After selecting these chocolates, use the `reset_index` function to reset the indices.\n",
    "Don't forget to use the `drop` argument as well.\n",
    "\n",
    "💡 **Hint 2:**\n",
    "To check whether a value exists in a list, you can use the `isin` function.\n",
    "\n",
    "💥 **What does the output of the `best_ratings` section look like?** <br>\n",
    "Your output will be a Pandas Series that looks like the following:\n",
    "\n",
    "| Company                    | Average Rating |\n",
    "|----------------------------|----------------|\n",
    "| Patric                    | 80.000000      |\n",
    "| Tobago Estate (Pralus)    | 80.000000      |\n",
    "| ...                       | ...            |\n"
   ]
  },
  {
   "cell_type": "code",
   "execution_count": null,
   "metadata": {
    "colab": {
     "base_uri": "https://localhost:8080/",
     "height": 1000
    },
    "executionInfo": {
     "elapsed": 383,
     "status": "ok",
     "timestamp": 1627461617410,
     "user": {
      "displayName": "Parto Shahroodi",
      "photoUrl": "https://lh3.googleusercontent.com/a-/AOh14GgVRnuIKtxzeAYtLGbbb7NnFc-HXqxuTOJ6OMw7uw=s64",
      "userId": "08853559073941204272"
     },
     "user_tz": -270
    },
    "id": "eBCbfxjd-Ps5",
    "outputId": "22c49c90-ca6c-407f-9eeb-7597dcc799ef"
   },
   "outputs": [],
   "source": [
    "chocolates_to_sell = None # To-Do"
   ]
  },
  {
   "attachments": {},
   "cell_type": "markdown",
   "metadata": {
    "id": "WGVRfSTsa6lv"
   },
   "source": [
    "## Part Five\n",
    "\n",
    "Finally, calculate the total price of these chocolates (`chocolates_to_sell`)\n",
    "and store it in the variable `priceSum`, so that our total revenue from these chocolates is known."
   ]
  },
  {
   "cell_type": "code",
   "execution_count": null,
   "metadata": {
    "colab": {
     "base_uri": "https://localhost:8080/"
    },
    "executionInfo": {
     "elapsed": 794,
     "status": "ok",
     "timestamp": 1627323016155,
     "user": {
      "displayName": "Parto Shahroodi",
      "photoUrl": "https://lh3.googleusercontent.com/a-/AOh14GgVRnuIKtxzeAYtLGbbb7NnFc-HXqxuTOJ6OMw7uw=s64",
      "userId": "08853559073941204272"
     },
     "user_tz": -270
    },
    "id": "WlUvsyfj_ijl",
    "outputId": "777be270-30d7-4d59-becd-c0bf27e5e97a"
   },
   "outputs": [],
   "source": [
    "priceSum = None # To-Do"
   ]
  }
 ],
 "metadata": {
  "colab": {
   "authorship_tag": "ABX9TyPsom0lLlC0TBmB6Rp+DZQC",
   "collapsed_sections": [],
   "name": "گام سوم.ipynb",
   "provenance": []
  },
  "kernelspec": {
   "display_name": "Python 3",
   "language": "python",
   "name": "python3"
  },
  "language_info": {
   "codemirror_mode": {
    "name": "ipython",
    "version": 3
   },
   "file_extension": ".py",
   "mimetype": "text/x-python",
   "name": "python",
   "nbconvert_exporter": "python",
   "pygments_lexer": "ipython3",
   "version": "3.8.0"
  },
  "vscode": {
   "interpreter": {
    "hash": "44e7e1b8fa2096bd5707ed7fd18b1724a2db25f4c565a7673f8b6e7bfc49d25d"
   }
  }
 },
 "nbformat": 4,
 "nbformat_minor": 4
}
