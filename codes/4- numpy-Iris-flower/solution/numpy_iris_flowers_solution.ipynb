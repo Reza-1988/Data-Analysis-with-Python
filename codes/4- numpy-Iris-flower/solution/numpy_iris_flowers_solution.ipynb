{
 "cells": [
  {
   "cell_type": "code",
   "execution_count": 19,
   "id": "2b198b84",
   "metadata": {},
   "outputs": [],
   "source": [
    "import numpy as np"
   ]
  },
  {
   "cell_type": "code",
   "execution_count": 20,
   "id": "26d1efb5",
   "metadata": {},
   "outputs": [
    {
     "name": "stdout",
     "output_type": "stream",
     "text": [
      "(120, 4)\n"
     ]
    }
   ],
   "source": [
    "irises = np.load('irises.npy')\n",
    "print(irises.shape)"
   ]
  },
  {
   "cell_type": "code",
   "execution_count": 21,
   "id": "f6c55d30",
   "metadata": {},
   "outputs": [
    {
     "name": "stdout",
     "output_type": "stream",
     "text": [
      "(120,)\n"
     ]
    }
   ],
   "source": [
    "types = np.load('types.npy')\n",
    "print(types.shape)"
   ]
  },
  {
   "cell_type": "code",
   "execution_count": 22,
   "id": "d72e445e",
   "metadata": {},
   "outputs": [
    {
     "name": "stdout",
     "output_type": "stream",
     "text": [
      "(30, 4)\n"
     ]
    }
   ],
   "source": [
    "new_irises = np.load('new_irises.npy')\n",
    "print(new_irises.shape)"
   ]
  },
  {
   "cell_type": "code",
   "execution_count": 23,
   "id": "524e1890",
   "metadata": {},
   "outputs": [
    {
     "name": "stdout",
     "output_type": "stream",
     "text": [
      "Number of training samples (n): 120\n",
      "Number of test samples (m): 30\n"
     ]
    }
   ],
   "source": [
    "n, m = len(irises), len(new_irises)\n",
    "print(\"Number of training samples (n):\", n)\n",
    "print(\"Number of test samples (m):\", m)"
   ]
  },
  {
   "cell_type": "code",
   "execution_count": 24,
   "id": "bbace2d7",
   "metadata": {},
   "outputs": [],
   "source": [
    "def calc_two_loops(new_points, points):\n",
    "    \n",
    "    #m is the number of new points (test samples)\n",
    "    m = len(new_points)\n",
    "    # n is the number of points (training samples)\n",
    "    n = len(points)\n",
    "    # Distance matrix\n",
    "    d = np.zeros((m, n))\n",
    "    \n",
    "    # For each new point\n",
    "    for i in range(m):\n",
    "        # For each point\n",
    "        for j in range(n):\n",
    "            # Calculate the distance between the two points\n",
    "            d[i, j] = np.sum(np.square(new_points[i] - points[j]))\n",
    "            \n",
    "    return d"
   ]
  },
  {
   "cell_type": "code",
   "execution_count": 25,
   "id": "282f9b9c",
   "metadata": {},
   "outputs": [
    {
     "name": "stdout",
     "output_type": "stream",
     "text": [
      "(30, 120)\n"
     ]
    }
   ],
   "source": [
    "d2 = calc_two_loops(new_irises, irises)\n",
    "print(d2.shape)"
   ]
  },
  {
   "cell_type": "code",
   "execution_count": 26,
   "id": "021a9f1c",
   "metadata": {},
   "outputs": [],
   "source": [
    "def calc_one_loop(new_points, points):\n",
    "    \n",
    "    # m is the number of new points (test samples)\n",
    "    m = len(new_points)\n",
    "    # n is the number of points (training samples)\n",
    "    n = len(points)\n",
    "    # Distance matrix\n",
    "    d = np.zeros((m, n))\n",
    "    \n",
    "    # For each new point\n",
    "    for i in range(m):\n",
    "        # Calculate the distance between the new point and all the points\n",
    "        d[i] = np.sum(np.square(new_points[i] - points), axis=1)\n",
    "        \n",
    "    return d"
   ]
  },
  {
   "cell_type": "code",
   "execution_count": 27,
   "id": "4f7f3d42",
   "metadata": {},
   "outputs": [
    {
     "name": "stdout",
     "output_type": "stream",
     "text": [
      "(30, 120)\n"
     ]
    }
   ],
   "source": [
    "d1 = calc_one_loop(new_irises, irises)\n",
    "print(d1.shape)"
   ]
  },
  {
   "cell_type": "code",
   "execution_count": 28,
   "id": "f3e881e6",
   "metadata": {},
   "outputs": [],
   "source": [
    "def calc_no_loop(new_points, points):\n",
    "    return np.sum(np.square(new_points[:, np.newaxis, :] - points[np.newaxis, :, :]), axis=2)"
   ]
  },
  {
   "cell_type": "code",
   "execution_count": 29,
   "id": "5091f442",
   "metadata": {},
   "outputs": [
    {
     "name": "stdout",
     "output_type": "stream",
     "text": [
      "(30, 120)\n"
     ]
    }
   ],
   "source": [
    "d = calc_no_loop(new_irises, irises)\n",
    "print(d.shape)"
   ]
  },
  {
   "cell_type": "code",
   "execution_count": 30,
   "id": "6b3eda6e",
   "metadata": {},
   "outputs": [
    {
     "name": "stdout",
     "output_type": "stream",
     "text": [
      "Fine!\n"
     ]
    }
   ],
   "source": [
    "if np.allclose(d, d1, 1e-5) and np.allclose(d, d2, 1e-5) and np.allclose(d1, d2, 1e-5):\n",
    "    print('Fine!')\n",
    "else:\n",
    "    print('There is something wrong!')"
   ]
  },
  {
   "cell_type": "code",
   "execution_count": 31,
   "id": "6619de84",
   "metadata": {},
   "outputs": [
    {
     "name": "stdout",
     "output_type": "stream",
     "text": [
      "[[  0  14  32   6  22  17  23  37  39  21]\n",
      " [ 30   1  24  10  20  36   2   3   6  28]\n",
      " [ 27  13  12  15   8  29  39   4  26  25]\n",
      " [ 17  37  39  14   0  22   8  32  26  13]\n",
      " [  9  21  24   6  19  30  20   3  35   5]\n",
      " [ 24   3   9  38  30   2  36   5  10   1]\n",
      " [ 30   1  24  10  20  36   2   3   6  28]\n",
      " [  6   0  23  22  14  21  32   9  17  39]\n",
      " [ 37   4  17  35  39  21  22  19   8  16]\n",
      " [  6  28   0  23  14  32  30  21  22   9]\n",
      " [ 47  60  61  69  52  41  51  73 101  58]\n",
      " [ 43  64  71  65  77  72  66  74  76  54]\n",
      " [ 66  71  74  64  65  77  76  54  57  49]\n",
      " [ 64  65  74  66  43  54  50  72  77  71]\n",
      " [ 78  60  47  52  41  57  73  63  51  59]\n",
      " [ 65  64  66  74  54  43  50  57  71  75]\n",
      " [ 53  44  77  71  76  72  49  63  56  97]\n",
      " [ 43  64  74  66  72  65  54  77  71  76]\n",
      " [ 77  72  71  74  44  76  54  66  43  53]\n",
      " [ 77  71  76  66  74  54  49  44  57  72]\n",
      " [106 103 112 115  90  96  93  83  80 110]\n",
      " [115  96  82 108 100  94 112 105  80  84]\n",
      " [ 97  81 114  91 102 111  92 117 101  56]\n",
      " [ 58  67  55 117  91  99 107 114  81  70]\n",
      " [ 96 115 112  90 110  93 109  82  92 103]\n",
      " [100 104  82  86  90  87  93  96 115 110]\n",
      " [ 83  67 107  89  93 110  58  87  81 114]\n",
      " [ 90 116 113  96 112 118  93  88  82  92]\n",
      " [112  96 115 109  80  90  92 116 119 106]\n",
      " [102 111 114  81  56  67  97 101  99 107]]\n"
     ]
    }
   ],
   "source": [
    "k = 10\n",
    "k_nearest = np.argpartition(d, k, axis=1)[:, :k]\n",
    "print(k_nearest)"
   ]
  },
  {
   "cell_type": "code",
   "execution_count": 32,
   "id": "b60f862c",
   "metadata": {},
   "outputs": [
    {
     "data": {
      "text/plain": [
       "array([[0, 0, 0, 0, 0, 0, 0, 0, 0, 0],\n",
       "       [0, 0, 0, 0, 0, 0, 0, 0, 0, 0],\n",
       "       [0, 0, 0, 0, 0, 0, 0, 0, 0, 0],\n",
       "       [0, 0, 0, 0, 0, 0, 0, 0, 0, 0],\n",
       "       [0, 0, 0, 0, 0, 0, 0, 0, 0, 0],\n",
       "       [0, 0, 0, 0, 0, 0, 0, 0, 0, 0],\n",
       "       [0, 0, 0, 0, 0, 0, 0, 0, 0, 0],\n",
       "       [0, 0, 0, 0, 0, 0, 0, 0, 0, 0],\n",
       "       [0, 0, 0, 0, 0, 0, 0, 0, 0, 0],\n",
       "       [0, 0, 0, 0, 0, 0, 0, 0, 0, 0],\n",
       "       [1, 1, 1, 1, 1, 1, 1, 1, 2, 1],\n",
       "       [1, 1, 1, 1, 1, 1, 1, 1, 1, 1],\n",
       "       [1, 1, 1, 1, 1, 1, 1, 1, 1, 1],\n",
       "       [1, 1, 1, 1, 1, 1, 1, 1, 1, 1],\n",
       "       [1, 1, 1, 1, 1, 1, 1, 1, 1, 1],\n",
       "       [1, 1, 1, 1, 1, 1, 1, 1, 1, 1],\n",
       "       [1, 1, 1, 1, 1, 1, 1, 1, 1, 2],\n",
       "       [1, 1, 1, 1, 1, 1, 1, 1, 1, 1],\n",
       "       [1, 1, 1, 1, 1, 1, 1, 1, 1, 1],\n",
       "       [1, 1, 1, 1, 1, 1, 1, 1, 1, 1],\n",
       "       [2, 2, 2, 2, 2, 2, 2, 2, 2, 2],\n",
       "       [2, 2, 2, 2, 2, 2, 2, 2, 2, 2],\n",
       "       [2, 2, 2, 2, 2, 2, 2, 2, 2, 1],\n",
       "       [1, 1, 1, 2, 2, 2, 2, 2, 2, 1],\n",
       "       [2, 2, 2, 2, 2, 2, 2, 2, 2, 2],\n",
       "       [2, 2, 2, 2, 2, 2, 2, 2, 2, 2],\n",
       "       [2, 1, 2, 2, 2, 2, 1, 2, 2, 2],\n",
       "       [2, 2, 2, 2, 2, 2, 2, 2, 2, 2],\n",
       "       [2, 2, 2, 2, 2, 2, 2, 2, 2, 2],\n",
       "       [2, 2, 2, 2, 1, 1, 2, 2, 2, 2]])"
      ]
     },
     "execution_count": 32,
     "metadata": {},
     "output_type": "execute_result"
    }
   ],
   "source": [
    "k_nearest_types = types[k_nearest]\n",
    "k_nearest_types"
   ]
  },
  {
   "cell_type": "code",
   "execution_count": 33,
   "id": "785a1c4d",
   "metadata": {},
   "outputs": [
    {
     "data": {
      "text/plain": [
       "array([0, 0, 0, 0, 0, 0, 0, 0, 0, 0, 1, 1, 1, 1, 1, 1, 1, 1, 1, 1, 2, 2,\n",
       "       2, 2, 2, 2, 2, 2, 2, 2])"
      ]
     },
     "execution_count": 33,
     "metadata": {},
     "output_type": "execute_result"
    }
   ],
   "source": [
    "from scipy import stats\n",
    "predicted_types = stats.mode(k_nearest_types, axis=1).mode.reshape(m)\n",
    "predicted_types"
   ]
  },
  {
   "cell_type": "code",
   "execution_count": 34,
   "id": "6c855388",
   "metadata": {},
   "outputs": [
    {
     "name": "stdout",
     "output_type": "stream",
     "text": [
      "Accuracy: 1.0\n"
     ]
    }
   ],
   "source": [
    "new_types = np.load('new_types.npy')\n",
    "accuracy = (new_types == predicted_types).sum() / len(new_types)\n",
    "print('Accuracy:', accuracy)"
   ]
  }
 ],
 "metadata": {
  "kernelspec": {
   "display_name": "update",
   "language": "python",
   "name": "python3"
  },
  "language_info": {
   "codemirror_mode": {
    "name": "ipython",
    "version": 3
   },
   "file_extension": ".py",
   "mimetype": "text/x-python",
   "name": "python",
   "nbconvert_exporter": "python",
   "pygments_lexer": "ipython3",
   "version": "3.13.0"
  }
 },
 "nbformat": 4,
 "nbformat_minor": 5
}
